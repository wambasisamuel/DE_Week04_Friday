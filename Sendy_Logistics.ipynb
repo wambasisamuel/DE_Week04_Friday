{
  "cells": [
    {
      "cell_type": "markdown",
      "metadata": {
        "id": "y1HW8GjoS7AN"
      },
      "source": [
        "# Sendy Logistics Analysis"
      ]
    },
    {
      "cell_type": "markdown",
      "metadata": {
        "id": "kLG2VTrnTvYL"
      },
      "source": [
        "## 1. Defining the Question"
      ]
    },
    {
      "cell_type": "markdown",
      "metadata": {
        "id": "XecOwPNorl2W"
      },
      "source": [
        "### a) Data Analysis Question"
      ]
    },
    {
      "cell_type": "markdown",
      "metadata": {
        "id": "pZykmRrbGd13"
      },
      "source": [
        "Can we predict the delivery time of Sendy orders?"
      ]
    },
    {
      "cell_type": "markdown",
      "metadata": {
        "id": "J4wfHZwQrs-t"
      },
      "source": [
        "### b) Metric for Success"
      ]
    },
    {
      "cell_type": "markdown",
      "metadata": {
        "id": "IuQcoaLFGjkH"
      },
      "source": [
        "The model should predict an accurate delivery time, from picking up a package upto when it arrives at the final\n",
        "destination."
      ]
    },
    {
      "cell_type": "markdown",
      "metadata": {
        "id": "a9BPYqunry97"
      },
      "source": [
        "### c) Understanding the context "
      ]
    },
    {
      "cell_type": "markdown",
      "metadata": {
        "id": "2jeqV9VPG1tg"
      },
      "source": [
        "Sendy has hired you to help predict the estimated time of delivery of orders, from the point of driver pickup to the point of arrival at the final destination. \n",
        "\n",
        "Build a model that predicts an accurate delivery time, from picking up a package to arriving at the final destination. An accurate arrival time prediction will help all business to improve their logistics and communicate the accurate time their time to their customers.\n",
        "\n",
        "You will be required to perform various feature engineering techniques while preparing your data for further analysis."
      ]
    },
    {
      "cell_type": "markdown",
      "metadata": {
        "id": "7KMRBJ7zr9HD"
      },
      "source": [
        "### d) Experimental Design"
      ]
    },
    {
      "cell_type": "markdown",
      "metadata": {
        "id": "YG0dB0_PG5_i"
      },
      "source": [
        "1. Defining the Research Question\n",
        "2. Data Importation\n",
        "3. Data Exploration\n",
        "4. Data Cleaning\n",
        "5. Data Analysis (Univariate and Bivariate)\n",
        "6. Data Preparation\n",
        "7. Data Modeling\n",
        "8. Model Evaluation\n",
        "9. Challenging your Solution\n",
        "10. Recommendations / Conclusion"
      ]
    },
    {
      "cell_type": "markdown",
      "metadata": {
        "id": "zSGyg6kWsBUl"
      },
      "source": [
        "### e) Data Relevance"
      ]
    },
    {
      "cell_type": "markdown",
      "metadata": {
        "id": "UogUWzkTHJ9D"
      },
      "source": [
        "The given data set is relevant in answering the research question."
      ]
    },
    {
      "cell_type": "markdown",
      "metadata": {
        "id": "iUNbvIvnT7ep"
      },
      "source": [
        "## 2. Reading the Data"
      ]
    },
    {
      "cell_type": "code",
      "execution_count": null,
      "metadata": {
        "id": "STUSuuyTTBgx"
      },
      "outputs": [],
      "source": [
        "# Importing our libraries\n",
        "import pandas as pd\n",
        "import numpy as np\n",
        "import matplotlib.pyplot as plt\n",
        "from sklearn.preprocessing import MinMaxScaler, StandardScaler, OneHotEncoder\n",
        "from sklearn.model_selection import train_test_split, GridSearchCV\n",
        "from sklearn.svm import SVR\n",
        "from sklearn.ensemble import RandomForestRegressor, AdaBoostRegressor, GradientBoostingRegressor\n",
        "from sklearn.metrics import mean_squared_error\n",
        "from sklearn.feature_selection import RFE\n",
        "from sklearn.decomposition import PCA\n",
        "from sklearn.discriminant_analysis import LinearDiscriminantAnalysis\n",
        "pd.set_option('display.max_columns', None)\n"
      ]
    },
    {
      "cell_type": "code",
      "execution_count": null,
      "metadata": {
        "colab": {
          "base_uri": "https://localhost:8080/"
        },
        "id": "ibgt7QEnJl5u",
        "outputId": "df87df62-a895-4d29-debe-9db2138e4e27"
      },
      "outputs": [
        {
          "name": "stdout",
          "output_type": "stream",
          "text": [
            "Looking in indexes: https://pypi.org/simple, https://us-python.pkg.dev/colab-wheels/public/simple/\n",
            "Collecting mlrose\n",
            "  Downloading mlrose-1.3.0-py3-none-any.whl (27 kB)\n",
            "Collecting sklearn\n",
            "  Downloading sklearn-0.0.post1.tar.gz (3.6 kB)\n",
            "Requirement already satisfied: numpy in /usr/local/lib/python3.7/dist-packages (from mlrose) (1.21.6)\n",
            "Requirement already satisfied: scipy in /usr/local/lib/python3.7/dist-packages (from mlrose) (1.7.3)\n",
            "Building wheels for collected packages: sklearn\n",
            "  Building wheel for sklearn (setup.py) ... \u001b[?25l\u001b[?25hdone\n",
            "  Created wheel for sklearn: filename=sklearn-0.0.post1-py3-none-any.whl size=2344 sha256=a89383f0763113aa1624dda5495e98f4a83569d3e7276c0cc032719a637cf8b7\n",
            "  Stored in directory: /root/.cache/pip/wheels/42/56/cc/4a8bf86613aafd5b7f1b310477667c1fca5c51c3ae4124a003\n",
            "Successfully built sklearn\n",
            "Installing collected packages: sklearn, mlrose\n",
            "Successfully installed mlrose-1.3.0 sklearn-0.0.post1\n"
          ]
        }
      ],
      "source": [
        "# Additional packages\n",
        "\n",
        "# importing six and sys\n",
        "import six\n",
        "import sys\n",
        "sys.modules['sklearn.externals.six'] = six\n",
        "\n",
        "# installing mlrose\n",
        "!pip install mlrose\n",
        "import mlrose\n",
        "\n",
        "# importing joblib\n",
        "import joblib\n",
        "sys.modules['sklearn.externals.joblib'] = joblib\n",
        "from mlxtend.feature_selection import SequentialFeatureSelector"
      ]
    },
    {
      "cell_type": "code",
      "execution_count": null,
      "metadata": {
        "id": "U4ZDFANeLGVR"
      },
      "outputs": [],
      "source": [
        "# Load the data\n",
        "# --- \n",
        "data_url = \"https://raw.githubusercontent.com/wambasisamuel/DE_Week04_Friday/main/sendy_logistics.csv\"\n",
        "df = pd.read_csv(data_url) "
      ]
    },
    {
      "cell_type": "code",
      "execution_count": null,
      "metadata": {
        "colab": {
          "base_uri": "https://localhost:8080/",
          "height": 1000
        },
        "id": "XJn2KjW-WMlG",
        "outputId": "239ea58e-4088-4742-d690-b65214ae3003"
      },
      "outputs": [
        {
          "data": {
            "text/html": [
              "\n",
              "  <div id=\"df-7e2828f1-aae0-4f87-9e9d-8bfcd7f47a49\">\n",
              "    <div class=\"colab-df-container\">\n",
              "      <div>\n",
              "<style scoped>\n",
              "    .dataframe tbody tr th:only-of-type {\n",
              "        vertical-align: middle;\n",
              "    }\n",
              "\n",
              "    .dataframe tbody tr th {\n",
              "        vertical-align: top;\n",
              "    }\n",
              "\n",
              "    .dataframe thead th {\n",
              "        text-align: right;\n",
              "    }\n",
              "</style>\n",
              "<table border=\"1\" class=\"dataframe\">\n",
              "  <thead>\n",
              "    <tr style=\"text-align: right;\">\n",
              "      <th></th>\n",
              "      <th>Order No</th>\n",
              "      <th>Unique number identifying the order</th>\n",
              "    </tr>\n",
              "  </thead>\n",
              "  <tbody>\n",
              "    <tr>\n",
              "      <th>0</th>\n",
              "      <td>User Id</td>\n",
              "      <td>Unique number identifying the customer on a pl...</td>\n",
              "    </tr>\n",
              "    <tr>\n",
              "      <th>1</th>\n",
              "      <td>Vehicle Type</td>\n",
              "      <td>For this competition limited to bikes, however...</td>\n",
              "    </tr>\n",
              "    <tr>\n",
              "      <th>2</th>\n",
              "      <td>Platform Type</td>\n",
              "      <td>Platform used to place the order, there are 4 ...</td>\n",
              "    </tr>\n",
              "    <tr>\n",
              "      <th>3</th>\n",
              "      <td>Personal or Business</td>\n",
              "      <td>Customer type</td>\n",
              "    </tr>\n",
              "    <tr>\n",
              "      <th>4</th>\n",
              "      <td>Placement - Day of Month</td>\n",
              "      <td>Placement - Day of Month i.e 1-31</td>\n",
              "    </tr>\n",
              "    <tr>\n",
              "      <th>5</th>\n",
              "      <td>Placement - Weekday (Mo = 1)</td>\n",
              "      <td>Placement - Weekday (Monday = 1)</td>\n",
              "    </tr>\n",
              "    <tr>\n",
              "      <th>6</th>\n",
              "      <td>Placement - Time</td>\n",
              "      <td>Placement - Time - Time of day the order was p...</td>\n",
              "    </tr>\n",
              "    <tr>\n",
              "      <th>7</th>\n",
              "      <td>Confirmation - Day of Month</td>\n",
              "      <td>Confirmation - Day of Month i.e 1-31</td>\n",
              "    </tr>\n",
              "    <tr>\n",
              "      <th>8</th>\n",
              "      <td>Confirmation - Weekday (Mo = 1)</td>\n",
              "      <td>Confirmation - Weekday (Monday = 1)</td>\n",
              "    </tr>\n",
              "    <tr>\n",
              "      <th>9</th>\n",
              "      <td>Confirmation - Time</td>\n",
              "      <td>Confirmation - Time - Time of day the order wa...</td>\n",
              "    </tr>\n",
              "    <tr>\n",
              "      <th>10</th>\n",
              "      <td>Arrival at Pickup - Day of Month</td>\n",
              "      <td>Arrival at Pickup - Day of Month i.e 1-31</td>\n",
              "    </tr>\n",
              "    <tr>\n",
              "      <th>11</th>\n",
              "      <td>Arrival at Pickup - Weekday (Mo = 1)</td>\n",
              "      <td>Arrival at Pickup - Weekday (Monday = 1)</td>\n",
              "    </tr>\n",
              "    <tr>\n",
              "      <th>12</th>\n",
              "      <td>Arrival at Pickup - Time</td>\n",
              "      <td>Time of day the the rider arrived at the locat...</td>\n",
              "    </tr>\n",
              "    <tr>\n",
              "      <th>13</th>\n",
              "      <td>Pickup - Day of Month</td>\n",
              "      <td>Pickup - Day of Month i.e 1-31</td>\n",
              "    </tr>\n",
              "    <tr>\n",
              "      <th>14</th>\n",
              "      <td>Pickup - Weekday (Mo = 1)</td>\n",
              "      <td>Pickup - Weekday (Monday = 1)</td>\n",
              "    </tr>\n",
              "    <tr>\n",
              "      <th>15</th>\n",
              "      <td>Pickup - Time</td>\n",
              "      <td>Pickup - Time - Time of day the the rider pick...</td>\n",
              "    </tr>\n",
              "    <tr>\n",
              "      <th>16</th>\n",
              "      <td>Arrival at Destination - Day of Month</td>\n",
              "      <td>Arrival at Delivery - Day of Month i.e 1-31</td>\n",
              "    </tr>\n",
              "    <tr>\n",
              "      <th>17</th>\n",
              "      <td>Arrival at Destination - Weekday (Mo = 1)</td>\n",
              "      <td>Arrival at Delivery - Weekday (Monday = 1)</td>\n",
              "    </tr>\n",
              "    <tr>\n",
              "      <th>18</th>\n",
              "      <td>Arrival at Destination - Time</td>\n",
              "      <td>Arrival at Delivery Time - Time of day the rid...</td>\n",
              "    </tr>\n",
              "    <tr>\n",
              "      <th>19</th>\n",
              "      <td>Distance (KM)</td>\n",
              "      <td>The distance from Pickup to Destination</td>\n",
              "    </tr>\n",
              "    <tr>\n",
              "      <th>20</th>\n",
              "      <td>Temperature</td>\n",
              "      <td>Temperature at the time of order placement in ...</td>\n",
              "    </tr>\n",
              "    <tr>\n",
              "      <th>21</th>\n",
              "      <td>Precipitation in millimeters</td>\n",
              "      <td>Precipitation at the time of order placement ...</td>\n",
              "    </tr>\n",
              "    <tr>\n",
              "      <th>22</th>\n",
              "      <td>Pickup Lat</td>\n",
              "      <td>Latitude of pick up location</td>\n",
              "    </tr>\n",
              "    <tr>\n",
              "      <th>23</th>\n",
              "      <td>Pickup Long</td>\n",
              "      <td>Longitude of pick up location</td>\n",
              "    </tr>\n",
              "    <tr>\n",
              "      <th>24</th>\n",
              "      <td>Destination Lat</td>\n",
              "      <td>Latitude of delivery location</td>\n",
              "    </tr>\n",
              "    <tr>\n",
              "      <th>25</th>\n",
              "      <td>Destination Long</td>\n",
              "      <td>Longitude of delivery location</td>\n",
              "    </tr>\n",
              "    <tr>\n",
              "      <th>26</th>\n",
              "      <td>Rider Id</td>\n",
              "      <td>ID of the Rider who accepted the order</td>\n",
              "    </tr>\n",
              "    <tr>\n",
              "      <th>27</th>\n",
              "      <td>Time from Pickup to Arrival</td>\n",
              "      <td>Time in seconds between 'Pickup' and 'Arrival ...</td>\n",
              "    </tr>\n",
              "    <tr>\n",
              "      <th>28</th>\n",
              "      <td>NaN</td>\n",
              "      <td>NaN</td>\n",
              "    </tr>\n",
              "    <tr>\n",
              "      <th>29</th>\n",
              "      <td>Rider Metrics</td>\n",
              "      <td>NaN</td>\n",
              "    </tr>\n",
              "    <tr>\n",
              "      <th>30</th>\n",
              "      <td>Rider Id</td>\n",
              "      <td>Unique number identifying the rider (same as i...</td>\n",
              "    </tr>\n",
              "    <tr>\n",
              "      <th>31</th>\n",
              "      <td>No_Of_Orders</td>\n",
              "      <td>Number of Orders the rider has delivered</td>\n",
              "    </tr>\n",
              "    <tr>\n",
              "      <th>32</th>\n",
              "      <td>Age</td>\n",
              "      <td>Number of days since the rider delivered the f...</td>\n",
              "    </tr>\n",
              "    <tr>\n",
              "      <th>33</th>\n",
              "      <td>Average_Rating</td>\n",
              "      <td>Average rating of the rider</td>\n",
              "    </tr>\n",
              "    <tr>\n",
              "      <th>34</th>\n",
              "      <td>No_of_Ratings</td>\n",
              "      <td>Number of ratings the rider has received. Rat...</td>\n",
              "    </tr>\n",
              "  </tbody>\n",
              "</table>\n",
              "</div>\n",
              "      <button class=\"colab-df-convert\" onclick=\"convertToInteractive('df-7e2828f1-aae0-4f87-9e9d-8bfcd7f47a49')\"\n",
              "              title=\"Convert this dataframe to an interactive table.\"\n",
              "              style=\"display:none;\">\n",
              "        \n",
              "  <svg xmlns=\"http://www.w3.org/2000/svg\" height=\"24px\"viewBox=\"0 0 24 24\"\n",
              "       width=\"24px\">\n",
              "    <path d=\"M0 0h24v24H0V0z\" fill=\"none\"/>\n",
              "    <path d=\"M18.56 5.44l.94 2.06.94-2.06 2.06-.94-2.06-.94-.94-2.06-.94 2.06-2.06.94zm-11 1L8.5 8.5l.94-2.06 2.06-.94-2.06-.94L8.5 2.5l-.94 2.06-2.06.94zm10 10l.94 2.06.94-2.06 2.06-.94-2.06-.94-.94-2.06-.94 2.06-2.06.94z\"/><path d=\"M17.41 7.96l-1.37-1.37c-.4-.4-.92-.59-1.43-.59-.52 0-1.04.2-1.43.59L10.3 9.45l-7.72 7.72c-.78.78-.78 2.05 0 2.83L4 21.41c.39.39.9.59 1.41.59.51 0 1.02-.2 1.41-.59l7.78-7.78 2.81-2.81c.8-.78.8-2.07 0-2.86zM5.41 20L4 18.59l7.72-7.72 1.47 1.35L5.41 20z\"/>\n",
              "  </svg>\n",
              "      </button>\n",
              "      \n",
              "  <style>\n",
              "    .colab-df-container {\n",
              "      display:flex;\n",
              "      flex-wrap:wrap;\n",
              "      gap: 12px;\n",
              "    }\n",
              "\n",
              "    .colab-df-convert {\n",
              "      background-color: #E8F0FE;\n",
              "      border: none;\n",
              "      border-radius: 50%;\n",
              "      cursor: pointer;\n",
              "      display: none;\n",
              "      fill: #1967D2;\n",
              "      height: 32px;\n",
              "      padding: 0 0 0 0;\n",
              "      width: 32px;\n",
              "    }\n",
              "\n",
              "    .colab-df-convert:hover {\n",
              "      background-color: #E2EBFA;\n",
              "      box-shadow: 0px 1px 2px rgba(60, 64, 67, 0.3), 0px 1px 3px 1px rgba(60, 64, 67, 0.15);\n",
              "      fill: #174EA6;\n",
              "    }\n",
              "\n",
              "    [theme=dark] .colab-df-convert {\n",
              "      background-color: #3B4455;\n",
              "      fill: #D2E3FC;\n",
              "    }\n",
              "\n",
              "    [theme=dark] .colab-df-convert:hover {\n",
              "      background-color: #434B5C;\n",
              "      box-shadow: 0px 1px 3px 1px rgba(0, 0, 0, 0.15);\n",
              "      filter: drop-shadow(0px 1px 2px rgba(0, 0, 0, 0.3));\n",
              "      fill: #FFFFFF;\n",
              "    }\n",
              "  </style>\n",
              "\n",
              "      <script>\n",
              "        const buttonEl =\n",
              "          document.querySelector('#df-7e2828f1-aae0-4f87-9e9d-8bfcd7f47a49 button.colab-df-convert');\n",
              "        buttonEl.style.display =\n",
              "          google.colab.kernel.accessAllowed ? 'block' : 'none';\n",
              "\n",
              "        async function convertToInteractive(key) {\n",
              "          const element = document.querySelector('#df-7e2828f1-aae0-4f87-9e9d-8bfcd7f47a49');\n",
              "          const dataTable =\n",
              "            await google.colab.kernel.invokeFunction('convertToInteractive',\n",
              "                                                     [key], {});\n",
              "          if (!dataTable) return;\n",
              "\n",
              "          const docLinkHtml = 'Like what you see? Visit the ' +\n",
              "            '<a target=\"_blank\" href=https://colab.research.google.com/notebooks/data_table.ipynb>data table notebook</a>'\n",
              "            + ' to learn more about interactive tables.';\n",
              "          element.innerHTML = '';\n",
              "          dataTable['output_type'] = 'display_data';\n",
              "          await google.colab.output.renderOutput(dataTable, element);\n",
              "          const docLink = document.createElement('div');\n",
              "          docLink.innerHTML = docLinkHtml;\n",
              "          element.appendChild(docLink);\n",
              "        }\n",
              "      </script>\n",
              "    </div>\n",
              "  </div>\n",
              "  "
            ],
            "text/plain": [
              "                                     Order No  \\\n",
              "0                                     User Id   \n",
              "1                                Vehicle Type   \n",
              "2                               Platform Type   \n",
              "3                        Personal or Business   \n",
              "4                    Placement - Day of Month   \n",
              "5                Placement - Weekday (Mo = 1)   \n",
              "6                            Placement - Time   \n",
              "7                 Confirmation - Day of Month   \n",
              "8             Confirmation - Weekday (Mo = 1)   \n",
              "9                         Confirmation - Time   \n",
              "10           Arrival at Pickup - Day of Month   \n",
              "11       Arrival at Pickup - Weekday (Mo = 1)   \n",
              "12                   Arrival at Pickup - Time   \n",
              "13                      Pickup - Day of Month   \n",
              "14                  Pickup - Weekday (Mo = 1)   \n",
              "15                              Pickup - Time   \n",
              "16      Arrival at Destination - Day of Month   \n",
              "17  Arrival at Destination - Weekday (Mo = 1)   \n",
              "18              Arrival at Destination - Time   \n",
              "19                              Distance (KM)   \n",
              "20                                Temperature   \n",
              "21               Precipitation in millimeters   \n",
              "22                                 Pickup Lat   \n",
              "23                                Pickup Long   \n",
              "24                            Destination Lat   \n",
              "25                           Destination Long   \n",
              "26                                   Rider Id   \n",
              "27                Time from Pickup to Arrival   \n",
              "28                                        NaN   \n",
              "29                              Rider Metrics   \n",
              "30                                   Rider Id   \n",
              "31                               No_Of_Orders   \n",
              "32                                        Age   \n",
              "33                             Average_Rating   \n",
              "34                              No_of_Ratings   \n",
              "\n",
              "                  Unique number identifying the order  \n",
              "0   Unique number identifying the customer on a pl...  \n",
              "1   For this competition limited to bikes, however...  \n",
              "2   Platform used to place the order, there are 4 ...  \n",
              "3                                       Customer type  \n",
              "4                   Placement - Day of Month i.e 1-31  \n",
              "5                    Placement - Weekday (Monday = 1)  \n",
              "6   Placement - Time - Time of day the order was p...  \n",
              "7                Confirmation - Day of Month i.e 1-31  \n",
              "8                 Confirmation - Weekday (Monday = 1)  \n",
              "9   Confirmation - Time - Time of day the order wa...  \n",
              "10          Arrival at Pickup - Day of Month i.e 1-31  \n",
              "11           Arrival at Pickup - Weekday (Monday = 1)  \n",
              "12  Time of day the the rider arrived at the locat...  \n",
              "13                     Pickup - Day of Month i.e 1-31  \n",
              "14                      Pickup - Weekday (Monday = 1)  \n",
              "15  Pickup - Time - Time of day the the rider pick...  \n",
              "16        Arrival at Delivery - Day of Month i.e 1-31  \n",
              "17         Arrival at Delivery - Weekday (Monday = 1)  \n",
              "18  Arrival at Delivery Time - Time of day the rid...  \n",
              "19            The distance from Pickup to Destination  \n",
              "20  Temperature at the time of order placement in ...  \n",
              "21   Precipitation at the time of order placement ...  \n",
              "22                       Latitude of pick up location  \n",
              "23                      Longitude of pick up location  \n",
              "24                      Latitude of delivery location  \n",
              "25                     Longitude of delivery location  \n",
              "26             ID of the Rider who accepted the order  \n",
              "27  Time in seconds between 'Pickup' and 'Arrival ...  \n",
              "28                                                NaN  \n",
              "29                                                NaN  \n",
              "30  Unique number identifying the rider (same as i...  \n",
              "31           Number of Orders the rider has delivered  \n",
              "32  Number of days since the rider delivered the f...  \n",
              "33                        Average rating of the rider  \n",
              "34   Number of ratings the rider has received. Rat...  "
            ]
          },
          "execution_count": 4,
          "metadata": {},
          "output_type": "execute_result"
        }
      ],
      "source": [
        "# Description of the data\n",
        "# --- \n",
        "description_url = \"https://raw.githubusercontent.com/wambasisamuel/DE_Week04_Friday/main/VariableDefinitions.csv\"\n",
        "data_desc = pd.read_csv(description_url)\n",
        "data_desc"
      ]
    },
    {
      "cell_type": "code",
      "execution_count": null,
      "metadata": {
        "colab": {
          "base_uri": "https://localhost:8080/",
          "height": 461
        },
        "id": "7168_y8EhZg7",
        "outputId": "f96f0830-f4ef-4296-f9cc-948f0a94a4cd"
      },
      "outputs": [
        {
          "data": {
            "text/html": [
              "\n",
              "  <div id=\"df-5d51faa1-d54c-492a-9e83-100e8c6fce97\">\n",
              "    <div class=\"colab-df-container\">\n",
              "      <div>\n",
              "<style scoped>\n",
              "    .dataframe tbody tr th:only-of-type {\n",
              "        vertical-align: middle;\n",
              "    }\n",
              "\n",
              "    .dataframe tbody tr th {\n",
              "        vertical-align: top;\n",
              "    }\n",
              "\n",
              "    .dataframe thead th {\n",
              "        text-align: right;\n",
              "    }\n",
              "</style>\n",
              "<table border=\"1\" class=\"dataframe\">\n",
              "  <thead>\n",
              "    <tr style=\"text-align: right;\">\n",
              "      <th></th>\n",
              "      <th>Order No</th>\n",
              "      <th>User Id</th>\n",
              "      <th>Vehicle Type</th>\n",
              "      <th>Platform Type</th>\n",
              "      <th>Personal or Business</th>\n",
              "      <th>Placement - Day of Month</th>\n",
              "      <th>Placement - Weekday (Mo = 1)</th>\n",
              "      <th>Placement - Time</th>\n",
              "      <th>Confirmation - Day of Month</th>\n",
              "      <th>Confirmation - Weekday (Mo = 1)</th>\n",
              "      <th>Confirmation - Time</th>\n",
              "      <th>Arrival at Pickup - Day of Month</th>\n",
              "      <th>Arrival at Pickup - Weekday (Mo = 1)</th>\n",
              "      <th>Arrival at Pickup - Time</th>\n",
              "      <th>Pickup - Day of Month</th>\n",
              "      <th>Pickup - Weekday (Mo = 1)</th>\n",
              "      <th>Pickup - Time</th>\n",
              "      <th>Arrival at Destination - Day of Month</th>\n",
              "      <th>Arrival at Destination - Weekday (Mo = 1)</th>\n",
              "      <th>Arrival at Destination - Time</th>\n",
              "      <th>Distance (KM)</th>\n",
              "      <th>Temperature</th>\n",
              "      <th>Precipitation in millimeters</th>\n",
              "      <th>Pickup Lat</th>\n",
              "      <th>Pickup Long</th>\n",
              "      <th>Destination Lat</th>\n",
              "      <th>Destination Long</th>\n",
              "      <th>Rider Id</th>\n",
              "      <th>Time from Pickup to Arrival</th>\n",
              "    </tr>\n",
              "  </thead>\n",
              "  <tbody>\n",
              "    <tr>\n",
              "      <th>0</th>\n",
              "      <td>Order_No_4211</td>\n",
              "      <td>User_Id_633</td>\n",
              "      <td>Bike</td>\n",
              "      <td>3</td>\n",
              "      <td>Business</td>\n",
              "      <td>9</td>\n",
              "      <td>5</td>\n",
              "      <td>9:35:46 AM</td>\n",
              "      <td>9</td>\n",
              "      <td>5</td>\n",
              "      <td>9:40:10 AM</td>\n",
              "      <td>9</td>\n",
              "      <td>5</td>\n",
              "      <td>10:04:47 AM</td>\n",
              "      <td>9</td>\n",
              "      <td>5</td>\n",
              "      <td>10:27:30 AM</td>\n",
              "      <td>9</td>\n",
              "      <td>5</td>\n",
              "      <td>10:39:55 AM</td>\n",
              "      <td>4</td>\n",
              "      <td>20.4</td>\n",
              "      <td>NaN</td>\n",
              "      <td>-1.317755</td>\n",
              "      <td>36.830370</td>\n",
              "      <td>-1.300406</td>\n",
              "      <td>36.829741</td>\n",
              "      <td>Rider_Id_432</td>\n",
              "      <td>745</td>\n",
              "    </tr>\n",
              "    <tr>\n",
              "      <th>1</th>\n",
              "      <td>Order_No_25375</td>\n",
              "      <td>User_Id_2285</td>\n",
              "      <td>Bike</td>\n",
              "      <td>3</td>\n",
              "      <td>Personal</td>\n",
              "      <td>12</td>\n",
              "      <td>5</td>\n",
              "      <td>11:16:16 AM</td>\n",
              "      <td>12</td>\n",
              "      <td>5</td>\n",
              "      <td>11:23:21 AM</td>\n",
              "      <td>12</td>\n",
              "      <td>5</td>\n",
              "      <td>11:40:22 AM</td>\n",
              "      <td>12</td>\n",
              "      <td>5</td>\n",
              "      <td>11:44:09 AM</td>\n",
              "      <td>12</td>\n",
              "      <td>5</td>\n",
              "      <td>12:17:22 PM</td>\n",
              "      <td>16</td>\n",
              "      <td>26.4</td>\n",
              "      <td>NaN</td>\n",
              "      <td>-1.351453</td>\n",
              "      <td>36.899315</td>\n",
              "      <td>-1.295004</td>\n",
              "      <td>36.814358</td>\n",
              "      <td>Rider_Id_856</td>\n",
              "      <td>1993</td>\n",
              "    </tr>\n",
              "    <tr>\n",
              "      <th>2</th>\n",
              "      <td>Order_No_1899</td>\n",
              "      <td>User_Id_265</td>\n",
              "      <td>Bike</td>\n",
              "      <td>3</td>\n",
              "      <td>Business</td>\n",
              "      <td>30</td>\n",
              "      <td>2</td>\n",
              "      <td>12:39:25 PM</td>\n",
              "      <td>30</td>\n",
              "      <td>2</td>\n",
              "      <td>12:42:44 PM</td>\n",
              "      <td>30</td>\n",
              "      <td>2</td>\n",
              "      <td>12:49:34 PM</td>\n",
              "      <td>30</td>\n",
              "      <td>2</td>\n",
              "      <td>12:53:03 PM</td>\n",
              "      <td>30</td>\n",
              "      <td>2</td>\n",
              "      <td>1:00:38 PM</td>\n",
              "      <td>3</td>\n",
              "      <td>NaN</td>\n",
              "      <td>NaN</td>\n",
              "      <td>-1.308284</td>\n",
              "      <td>36.843419</td>\n",
              "      <td>-1.300921</td>\n",
              "      <td>36.828195</td>\n",
              "      <td>Rider_Id_155</td>\n",
              "      <td>455</td>\n",
              "    </tr>\n",
              "    <tr>\n",
              "      <th>3</th>\n",
              "      <td>Order_No_9336</td>\n",
              "      <td>User_Id_1402</td>\n",
              "      <td>Bike</td>\n",
              "      <td>3</td>\n",
              "      <td>Business</td>\n",
              "      <td>15</td>\n",
              "      <td>5</td>\n",
              "      <td>9:25:34 AM</td>\n",
              "      <td>15</td>\n",
              "      <td>5</td>\n",
              "      <td>9:26:05 AM</td>\n",
              "      <td>15</td>\n",
              "      <td>5</td>\n",
              "      <td>9:37:56 AM</td>\n",
              "      <td>15</td>\n",
              "      <td>5</td>\n",
              "      <td>9:43:06 AM</td>\n",
              "      <td>15</td>\n",
              "      <td>5</td>\n",
              "      <td>10:05:27 AM</td>\n",
              "      <td>9</td>\n",
              "      <td>19.2</td>\n",
              "      <td>NaN</td>\n",
              "      <td>-1.281301</td>\n",
              "      <td>36.832396</td>\n",
              "      <td>-1.257147</td>\n",
              "      <td>36.795063</td>\n",
              "      <td>Rider_Id_855</td>\n",
              "      <td>1341</td>\n",
              "    </tr>\n",
              "    <tr>\n",
              "      <th>4</th>\n",
              "      <td>Order_No_27883</td>\n",
              "      <td>User_Id_1737</td>\n",
              "      <td>Bike</td>\n",
              "      <td>1</td>\n",
              "      <td>Personal</td>\n",
              "      <td>13</td>\n",
              "      <td>1</td>\n",
              "      <td>9:55:18 AM</td>\n",
              "      <td>13</td>\n",
              "      <td>1</td>\n",
              "      <td>9:56:18 AM</td>\n",
              "      <td>13</td>\n",
              "      <td>1</td>\n",
              "      <td>10:03:53 AM</td>\n",
              "      <td>13</td>\n",
              "      <td>1</td>\n",
              "      <td>10:05:23 AM</td>\n",
              "      <td>13</td>\n",
              "      <td>1</td>\n",
              "      <td>10:25:37 AM</td>\n",
              "      <td>9</td>\n",
              "      <td>15.4</td>\n",
              "      <td>NaN</td>\n",
              "      <td>-1.266597</td>\n",
              "      <td>36.792118</td>\n",
              "      <td>-1.295041</td>\n",
              "      <td>36.809817</td>\n",
              "      <td>Rider_Id_770</td>\n",
              "      <td>1214</td>\n",
              "    </tr>\n",
              "  </tbody>\n",
              "</table>\n",
              "</div>\n",
              "      <button class=\"colab-df-convert\" onclick=\"convertToInteractive('df-5d51faa1-d54c-492a-9e83-100e8c6fce97')\"\n",
              "              title=\"Convert this dataframe to an interactive table.\"\n",
              "              style=\"display:none;\">\n",
              "        \n",
              "  <svg xmlns=\"http://www.w3.org/2000/svg\" height=\"24px\"viewBox=\"0 0 24 24\"\n",
              "       width=\"24px\">\n",
              "    <path d=\"M0 0h24v24H0V0z\" fill=\"none\"/>\n",
              "    <path d=\"M18.56 5.44l.94 2.06.94-2.06 2.06-.94-2.06-.94-.94-2.06-.94 2.06-2.06.94zm-11 1L8.5 8.5l.94-2.06 2.06-.94-2.06-.94L8.5 2.5l-.94 2.06-2.06.94zm10 10l.94 2.06.94-2.06 2.06-.94-2.06-.94-.94-2.06-.94 2.06-2.06.94z\"/><path d=\"M17.41 7.96l-1.37-1.37c-.4-.4-.92-.59-1.43-.59-.52 0-1.04.2-1.43.59L10.3 9.45l-7.72 7.72c-.78.78-.78 2.05 0 2.83L4 21.41c.39.39.9.59 1.41.59.51 0 1.02-.2 1.41-.59l7.78-7.78 2.81-2.81c.8-.78.8-2.07 0-2.86zM5.41 20L4 18.59l7.72-7.72 1.47 1.35L5.41 20z\"/>\n",
              "  </svg>\n",
              "      </button>\n",
              "      \n",
              "  <style>\n",
              "    .colab-df-container {\n",
              "      display:flex;\n",
              "      flex-wrap:wrap;\n",
              "      gap: 12px;\n",
              "    }\n",
              "\n",
              "    .colab-df-convert {\n",
              "      background-color: #E8F0FE;\n",
              "      border: none;\n",
              "      border-radius: 50%;\n",
              "      cursor: pointer;\n",
              "      display: none;\n",
              "      fill: #1967D2;\n",
              "      height: 32px;\n",
              "      padding: 0 0 0 0;\n",
              "      width: 32px;\n",
              "    }\n",
              "\n",
              "    .colab-df-convert:hover {\n",
              "      background-color: #E2EBFA;\n",
              "      box-shadow: 0px 1px 2px rgba(60, 64, 67, 0.3), 0px 1px 3px 1px rgba(60, 64, 67, 0.15);\n",
              "      fill: #174EA6;\n",
              "    }\n",
              "\n",
              "    [theme=dark] .colab-df-convert {\n",
              "      background-color: #3B4455;\n",
              "      fill: #D2E3FC;\n",
              "    }\n",
              "\n",
              "    [theme=dark] .colab-df-convert:hover {\n",
              "      background-color: #434B5C;\n",
              "      box-shadow: 0px 1px 3px 1px rgba(0, 0, 0, 0.15);\n",
              "      filter: drop-shadow(0px 1px 2px rgba(0, 0, 0, 0.3));\n",
              "      fill: #FFFFFF;\n",
              "    }\n",
              "  </style>\n",
              "\n",
              "      <script>\n",
              "        const buttonEl =\n",
              "          document.querySelector('#df-5d51faa1-d54c-492a-9e83-100e8c6fce97 button.colab-df-convert');\n",
              "        buttonEl.style.display =\n",
              "          google.colab.kernel.accessAllowed ? 'block' : 'none';\n",
              "\n",
              "        async function convertToInteractive(key) {\n",
              "          const element = document.querySelector('#df-5d51faa1-d54c-492a-9e83-100e8c6fce97');\n",
              "          const dataTable =\n",
              "            await google.colab.kernel.invokeFunction('convertToInteractive',\n",
              "                                                     [key], {});\n",
              "          if (!dataTable) return;\n",
              "\n",
              "          const docLinkHtml = 'Like what you see? Visit the ' +\n",
              "            '<a target=\"_blank\" href=https://colab.research.google.com/notebooks/data_table.ipynb>data table notebook</a>'\n",
              "            + ' to learn more about interactive tables.';\n",
              "          element.innerHTML = '';\n",
              "          dataTable['output_type'] = 'display_data';\n",
              "          await google.colab.output.renderOutput(dataTable, element);\n",
              "          const docLink = document.createElement('div');\n",
              "          docLink.innerHTML = docLinkHtml;\n",
              "          element.appendChild(docLink);\n",
              "        }\n",
              "      </script>\n",
              "    </div>\n",
              "  </div>\n",
              "  "
            ],
            "text/plain": [
              "         Order No       User Id Vehicle Type  Platform Type  \\\n",
              "0   Order_No_4211   User_Id_633         Bike              3   \n",
              "1  Order_No_25375  User_Id_2285         Bike              3   \n",
              "2   Order_No_1899   User_Id_265         Bike              3   \n",
              "3   Order_No_9336  User_Id_1402         Bike              3   \n",
              "4  Order_No_27883  User_Id_1737         Bike              1   \n",
              "\n",
              "  Personal or Business  Placement - Day of Month  \\\n",
              "0             Business                         9   \n",
              "1             Personal                        12   \n",
              "2             Business                        30   \n",
              "3             Business                        15   \n",
              "4             Personal                        13   \n",
              "\n",
              "   Placement - Weekday (Mo = 1) Placement - Time  Confirmation - Day of Month  \\\n",
              "0                             5       9:35:46 AM                            9   \n",
              "1                             5      11:16:16 AM                           12   \n",
              "2                             2      12:39:25 PM                           30   \n",
              "3                             5       9:25:34 AM                           15   \n",
              "4                             1       9:55:18 AM                           13   \n",
              "\n",
              "   Confirmation - Weekday (Mo = 1) Confirmation - Time  \\\n",
              "0                                5          9:40:10 AM   \n",
              "1                                5         11:23:21 AM   \n",
              "2                                2         12:42:44 PM   \n",
              "3                                5          9:26:05 AM   \n",
              "4                                1          9:56:18 AM   \n",
              "\n",
              "   Arrival at Pickup - Day of Month  Arrival at Pickup - Weekday (Mo = 1)  \\\n",
              "0                                 9                                     5   \n",
              "1                                12                                     5   \n",
              "2                                30                                     2   \n",
              "3                                15                                     5   \n",
              "4                                13                                     1   \n",
              "\n",
              "  Arrival at Pickup - Time  Pickup - Day of Month  Pickup - Weekday (Mo = 1)  \\\n",
              "0              10:04:47 AM                      9                          5   \n",
              "1              11:40:22 AM                     12                          5   \n",
              "2              12:49:34 PM                     30                          2   \n",
              "3               9:37:56 AM                     15                          5   \n",
              "4              10:03:53 AM                     13                          1   \n",
              "\n",
              "  Pickup - Time  Arrival at Destination - Day of Month  \\\n",
              "0   10:27:30 AM                                      9   \n",
              "1   11:44:09 AM                                     12   \n",
              "2   12:53:03 PM                                     30   \n",
              "3    9:43:06 AM                                     15   \n",
              "4   10:05:23 AM                                     13   \n",
              "\n",
              "   Arrival at Destination - Weekday (Mo = 1) Arrival at Destination - Time  \\\n",
              "0                                          5                   10:39:55 AM   \n",
              "1                                          5                   12:17:22 PM   \n",
              "2                                          2                    1:00:38 PM   \n",
              "3                                          5                   10:05:27 AM   \n",
              "4                                          1                   10:25:37 AM   \n",
              "\n",
              "   Distance (KM)  Temperature  Precipitation in millimeters  Pickup Lat  \\\n",
              "0              4         20.4                           NaN   -1.317755   \n",
              "1             16         26.4                           NaN   -1.351453   \n",
              "2              3          NaN                           NaN   -1.308284   \n",
              "3              9         19.2                           NaN   -1.281301   \n",
              "4              9         15.4                           NaN   -1.266597   \n",
              "\n",
              "   Pickup Long  Destination Lat  Destination Long      Rider Id  \\\n",
              "0    36.830370        -1.300406         36.829741  Rider_Id_432   \n",
              "1    36.899315        -1.295004         36.814358  Rider_Id_856   \n",
              "2    36.843419        -1.300921         36.828195  Rider_Id_155   \n",
              "3    36.832396        -1.257147         36.795063  Rider_Id_855   \n",
              "4    36.792118        -1.295041         36.809817  Rider_Id_770   \n",
              "\n",
              "   Time from Pickup to Arrival  \n",
              "0                          745  \n",
              "1                         1993  \n",
              "2                          455  \n",
              "3                         1341  \n",
              "4                         1214  "
            ]
          },
          "execution_count": 5,
          "metadata": {},
          "output_type": "execute_result"
        }
      ],
      "source": [
        "# Checking the first 5 rows of data\n",
        "df.head()"
      ]
    },
    {
      "cell_type": "code",
      "execution_count": null,
      "metadata": {
        "colab": {
          "base_uri": "https://localhost:8080/",
          "height": 461
        },
        "id": "87pOSl5MhcdL",
        "outputId": "4c39bbd9-6654-44c3-f4e0-9e5090ad134c"
      },
      "outputs": [
        {
          "data": {
            "text/html": [
              "\n",
              "  <div id=\"df-6d8ab561-08dc-4fa2-be50-b0441d074648\">\n",
              "    <div class=\"colab-df-container\">\n",
              "      <div>\n",
              "<style scoped>\n",
              "    .dataframe tbody tr th:only-of-type {\n",
              "        vertical-align: middle;\n",
              "    }\n",
              "\n",
              "    .dataframe tbody tr th {\n",
              "        vertical-align: top;\n",
              "    }\n",
              "\n",
              "    .dataframe thead th {\n",
              "        text-align: right;\n",
              "    }\n",
              "</style>\n",
              "<table border=\"1\" class=\"dataframe\">\n",
              "  <thead>\n",
              "    <tr style=\"text-align: right;\">\n",
              "      <th></th>\n",
              "      <th>Order No</th>\n",
              "      <th>User Id</th>\n",
              "      <th>Vehicle Type</th>\n",
              "      <th>Platform Type</th>\n",
              "      <th>Personal or Business</th>\n",
              "      <th>Placement - Day of Month</th>\n",
              "      <th>Placement - Weekday (Mo = 1)</th>\n",
              "      <th>Placement - Time</th>\n",
              "      <th>Confirmation - Day of Month</th>\n",
              "      <th>Confirmation - Weekday (Mo = 1)</th>\n",
              "      <th>Confirmation - Time</th>\n",
              "      <th>Arrival at Pickup - Day of Month</th>\n",
              "      <th>Arrival at Pickup - Weekday (Mo = 1)</th>\n",
              "      <th>Arrival at Pickup - Time</th>\n",
              "      <th>Pickup - Day of Month</th>\n",
              "      <th>Pickup - Weekday (Mo = 1)</th>\n",
              "      <th>Pickup - Time</th>\n",
              "      <th>Arrival at Destination - Day of Month</th>\n",
              "      <th>Arrival at Destination - Weekday (Mo = 1)</th>\n",
              "      <th>Arrival at Destination - Time</th>\n",
              "      <th>Distance (KM)</th>\n",
              "      <th>Temperature</th>\n",
              "      <th>Precipitation in millimeters</th>\n",
              "      <th>Pickup Lat</th>\n",
              "      <th>Pickup Long</th>\n",
              "      <th>Destination Lat</th>\n",
              "      <th>Destination Long</th>\n",
              "      <th>Rider Id</th>\n",
              "      <th>Time from Pickup to Arrival</th>\n",
              "    </tr>\n",
              "  </thead>\n",
              "  <tbody>\n",
              "    <tr>\n",
              "      <th>21196</th>\n",
              "      <td>Order_No_8834</td>\n",
              "      <td>User_Id_2001</td>\n",
              "      <td>Bike</td>\n",
              "      <td>3</td>\n",
              "      <td>Personal</td>\n",
              "      <td>20</td>\n",
              "      <td>3</td>\n",
              "      <td>3:54:38 PM</td>\n",
              "      <td>20</td>\n",
              "      <td>3</td>\n",
              "      <td>3:55:09 PM</td>\n",
              "      <td>20</td>\n",
              "      <td>3</td>\n",
              "      <td>3:58:49 PM</td>\n",
              "      <td>20</td>\n",
              "      <td>3</td>\n",
              "      <td>4:20:08 PM</td>\n",
              "      <td>20</td>\n",
              "      <td>3</td>\n",
              "      <td>4:20:17 PM</td>\n",
              "      <td>3</td>\n",
              "      <td>28.6</td>\n",
              "      <td>NaN</td>\n",
              "      <td>-1.258414</td>\n",
              "      <td>36.804800</td>\n",
              "      <td>-1.275285</td>\n",
              "      <td>36.802702</td>\n",
              "      <td>Rider_Id_953</td>\n",
              "      <td>9</td>\n",
              "    </tr>\n",
              "    <tr>\n",
              "      <th>21197</th>\n",
              "      <td>Order_No_22892</td>\n",
              "      <td>User_Id_1796</td>\n",
              "      <td>Bike</td>\n",
              "      <td>3</td>\n",
              "      <td>Business</td>\n",
              "      <td>13</td>\n",
              "      <td>6</td>\n",
              "      <td>10:13:34 AM</td>\n",
              "      <td>13</td>\n",
              "      <td>6</td>\n",
              "      <td>10:13:41 AM</td>\n",
              "      <td>13</td>\n",
              "      <td>6</td>\n",
              "      <td>10:20:04 AM</td>\n",
              "      <td>13</td>\n",
              "      <td>6</td>\n",
              "      <td>10:33:27 AM</td>\n",
              "      <td>13</td>\n",
              "      <td>6</td>\n",
              "      <td>10:46:17 AM</td>\n",
              "      <td>7</td>\n",
              "      <td>26.0</td>\n",
              "      <td>NaN</td>\n",
              "      <td>-1.307143</td>\n",
              "      <td>36.825009</td>\n",
              "      <td>-1.331619</td>\n",
              "      <td>36.847976</td>\n",
              "      <td>Rider_Id_155</td>\n",
              "      <td>770</td>\n",
              "    </tr>\n",
              "    <tr>\n",
              "      <th>21198</th>\n",
              "      <td>Order_No_2831</td>\n",
              "      <td>User_Id_2956</td>\n",
              "      <td>Bike</td>\n",
              "      <td>3</td>\n",
              "      <td>Business</td>\n",
              "      <td>7</td>\n",
              "      <td>4</td>\n",
              "      <td>5:06:16 PM</td>\n",
              "      <td>7</td>\n",
              "      <td>4</td>\n",
              "      <td>5:07:09 PM</td>\n",
              "      <td>7</td>\n",
              "      <td>4</td>\n",
              "      <td>5:30:17 PM</td>\n",
              "      <td>7</td>\n",
              "      <td>4</td>\n",
              "      <td>5:50:52 PM</td>\n",
              "      <td>7</td>\n",
              "      <td>4</td>\n",
              "      <td>6:40:05 PM</td>\n",
              "      <td>20</td>\n",
              "      <td>29.2</td>\n",
              "      <td>NaN</td>\n",
              "      <td>-1.286018</td>\n",
              "      <td>36.897534</td>\n",
              "      <td>-1.258414</td>\n",
              "      <td>36.804800</td>\n",
              "      <td>Rider_Id_697</td>\n",
              "      <td>2953</td>\n",
              "    </tr>\n",
              "    <tr>\n",
              "      <th>21199</th>\n",
              "      <td>Order_No_6174</td>\n",
              "      <td>User_Id_2524</td>\n",
              "      <td>Bike</td>\n",
              "      <td>1</td>\n",
              "      <td>Personal</td>\n",
              "      <td>4</td>\n",
              "      <td>3</td>\n",
              "      <td>9:31:39 AM</td>\n",
              "      <td>4</td>\n",
              "      <td>3</td>\n",
              "      <td>9:31:53 AM</td>\n",
              "      <td>4</td>\n",
              "      <td>3</td>\n",
              "      <td>9:38:59 AM</td>\n",
              "      <td>4</td>\n",
              "      <td>3</td>\n",
              "      <td>9:45:15 AM</td>\n",
              "      <td>4</td>\n",
              "      <td>3</td>\n",
              "      <td>10:08:15 AM</td>\n",
              "      <td>13</td>\n",
              "      <td>15.0</td>\n",
              "      <td>NaN</td>\n",
              "      <td>-1.250030</td>\n",
              "      <td>36.874167</td>\n",
              "      <td>-1.279210</td>\n",
              "      <td>36.794872</td>\n",
              "      <td>Rider_Id_347</td>\n",
              "      <td>1380</td>\n",
              "    </tr>\n",
              "    <tr>\n",
              "      <th>21200</th>\n",
              "      <td>Order_No_9836</td>\n",
              "      <td>User_Id_718</td>\n",
              "      <td>Bike</td>\n",
              "      <td>3</td>\n",
              "      <td>Business</td>\n",
              "      <td>26</td>\n",
              "      <td>2</td>\n",
              "      <td>2:19:47 PM</td>\n",
              "      <td>26</td>\n",
              "      <td>2</td>\n",
              "      <td>2:20:01 PM</td>\n",
              "      <td>26</td>\n",
              "      <td>2</td>\n",
              "      <td>2:24:29 PM</td>\n",
              "      <td>26</td>\n",
              "      <td>2</td>\n",
              "      <td>2:41:55 PM</td>\n",
              "      <td>26</td>\n",
              "      <td>2</td>\n",
              "      <td>3:17:23 PM</td>\n",
              "      <td>12</td>\n",
              "      <td>30.9</td>\n",
              "      <td>NaN</td>\n",
              "      <td>-1.255189</td>\n",
              "      <td>36.782203</td>\n",
              "      <td>-1.320157</td>\n",
              "      <td>36.830887</td>\n",
              "      <td>Rider_Id_177</td>\n",
              "      <td>2128</td>\n",
              "    </tr>\n",
              "  </tbody>\n",
              "</table>\n",
              "</div>\n",
              "      <button class=\"colab-df-convert\" onclick=\"convertToInteractive('df-6d8ab561-08dc-4fa2-be50-b0441d074648')\"\n",
              "              title=\"Convert this dataframe to an interactive table.\"\n",
              "              style=\"display:none;\">\n",
              "        \n",
              "  <svg xmlns=\"http://www.w3.org/2000/svg\" height=\"24px\"viewBox=\"0 0 24 24\"\n",
              "       width=\"24px\">\n",
              "    <path d=\"M0 0h24v24H0V0z\" fill=\"none\"/>\n",
              "    <path d=\"M18.56 5.44l.94 2.06.94-2.06 2.06-.94-2.06-.94-.94-2.06-.94 2.06-2.06.94zm-11 1L8.5 8.5l.94-2.06 2.06-.94-2.06-.94L8.5 2.5l-.94 2.06-2.06.94zm10 10l.94 2.06.94-2.06 2.06-.94-2.06-.94-.94-2.06-.94 2.06-2.06.94z\"/><path d=\"M17.41 7.96l-1.37-1.37c-.4-.4-.92-.59-1.43-.59-.52 0-1.04.2-1.43.59L10.3 9.45l-7.72 7.72c-.78.78-.78 2.05 0 2.83L4 21.41c.39.39.9.59 1.41.59.51 0 1.02-.2 1.41-.59l7.78-7.78 2.81-2.81c.8-.78.8-2.07 0-2.86zM5.41 20L4 18.59l7.72-7.72 1.47 1.35L5.41 20z\"/>\n",
              "  </svg>\n",
              "      </button>\n",
              "      \n",
              "  <style>\n",
              "    .colab-df-container {\n",
              "      display:flex;\n",
              "      flex-wrap:wrap;\n",
              "      gap: 12px;\n",
              "    }\n",
              "\n",
              "    .colab-df-convert {\n",
              "      background-color: #E8F0FE;\n",
              "      border: none;\n",
              "      border-radius: 50%;\n",
              "      cursor: pointer;\n",
              "      display: none;\n",
              "      fill: #1967D2;\n",
              "      height: 32px;\n",
              "      padding: 0 0 0 0;\n",
              "      width: 32px;\n",
              "    }\n",
              "\n",
              "    .colab-df-convert:hover {\n",
              "      background-color: #E2EBFA;\n",
              "      box-shadow: 0px 1px 2px rgba(60, 64, 67, 0.3), 0px 1px 3px 1px rgba(60, 64, 67, 0.15);\n",
              "      fill: #174EA6;\n",
              "    }\n",
              "\n",
              "    [theme=dark] .colab-df-convert {\n",
              "      background-color: #3B4455;\n",
              "      fill: #D2E3FC;\n",
              "    }\n",
              "\n",
              "    [theme=dark] .colab-df-convert:hover {\n",
              "      background-color: #434B5C;\n",
              "      box-shadow: 0px 1px 3px 1px rgba(0, 0, 0, 0.15);\n",
              "      filter: drop-shadow(0px 1px 2px rgba(0, 0, 0, 0.3));\n",
              "      fill: #FFFFFF;\n",
              "    }\n",
              "  </style>\n",
              "\n",
              "      <script>\n",
              "        const buttonEl =\n",
              "          document.querySelector('#df-6d8ab561-08dc-4fa2-be50-b0441d074648 button.colab-df-convert');\n",
              "        buttonEl.style.display =\n",
              "          google.colab.kernel.accessAllowed ? 'block' : 'none';\n",
              "\n",
              "        async function convertToInteractive(key) {\n",
              "          const element = document.querySelector('#df-6d8ab561-08dc-4fa2-be50-b0441d074648');\n",
              "          const dataTable =\n",
              "            await google.colab.kernel.invokeFunction('convertToInteractive',\n",
              "                                                     [key], {});\n",
              "          if (!dataTable) return;\n",
              "\n",
              "          const docLinkHtml = 'Like what you see? Visit the ' +\n",
              "            '<a target=\"_blank\" href=https://colab.research.google.com/notebooks/data_table.ipynb>data table notebook</a>'\n",
              "            + ' to learn more about interactive tables.';\n",
              "          element.innerHTML = '';\n",
              "          dataTable['output_type'] = 'display_data';\n",
              "          await google.colab.output.renderOutput(dataTable, element);\n",
              "          const docLink = document.createElement('div');\n",
              "          docLink.innerHTML = docLinkHtml;\n",
              "          element.appendChild(docLink);\n",
              "        }\n",
              "      </script>\n",
              "    </div>\n",
              "  </div>\n",
              "  "
            ],
            "text/plain": [
              "             Order No       User Id Vehicle Type  Platform Type  \\\n",
              "21196   Order_No_8834  User_Id_2001         Bike              3   \n",
              "21197  Order_No_22892  User_Id_1796         Bike              3   \n",
              "21198   Order_No_2831  User_Id_2956         Bike              3   \n",
              "21199   Order_No_6174  User_Id_2524         Bike              1   \n",
              "21200   Order_No_9836   User_Id_718         Bike              3   \n",
              "\n",
              "      Personal or Business  Placement - Day of Month  \\\n",
              "21196             Personal                        20   \n",
              "21197             Business                        13   \n",
              "21198             Business                         7   \n",
              "21199             Personal                         4   \n",
              "21200             Business                        26   \n",
              "\n",
              "       Placement - Weekday (Mo = 1) Placement - Time  \\\n",
              "21196                             3       3:54:38 PM   \n",
              "21197                             6      10:13:34 AM   \n",
              "21198                             4       5:06:16 PM   \n",
              "21199                             3       9:31:39 AM   \n",
              "21200                             2       2:19:47 PM   \n",
              "\n",
              "       Confirmation - Day of Month  Confirmation - Weekday (Mo = 1)  \\\n",
              "21196                           20                                3   \n",
              "21197                           13                                6   \n",
              "21198                            7                                4   \n",
              "21199                            4                                3   \n",
              "21200                           26                                2   \n",
              "\n",
              "      Confirmation - Time  Arrival at Pickup - Day of Month  \\\n",
              "21196          3:55:09 PM                                20   \n",
              "21197         10:13:41 AM                                13   \n",
              "21198          5:07:09 PM                                 7   \n",
              "21199          9:31:53 AM                                 4   \n",
              "21200          2:20:01 PM                                26   \n",
              "\n",
              "       Arrival at Pickup - Weekday (Mo = 1) Arrival at Pickup - Time  \\\n",
              "21196                                     3               3:58:49 PM   \n",
              "21197                                     6              10:20:04 AM   \n",
              "21198                                     4               5:30:17 PM   \n",
              "21199                                     3               9:38:59 AM   \n",
              "21200                                     2               2:24:29 PM   \n",
              "\n",
              "       Pickup - Day of Month  Pickup - Weekday (Mo = 1) Pickup - Time  \\\n",
              "21196                     20                          3    4:20:08 PM   \n",
              "21197                     13                          6   10:33:27 AM   \n",
              "21198                      7                          4    5:50:52 PM   \n",
              "21199                      4                          3    9:45:15 AM   \n",
              "21200                     26                          2    2:41:55 PM   \n",
              "\n",
              "       Arrival at Destination - Day of Month  \\\n",
              "21196                                     20   \n",
              "21197                                     13   \n",
              "21198                                      7   \n",
              "21199                                      4   \n",
              "21200                                     26   \n",
              "\n",
              "       Arrival at Destination - Weekday (Mo = 1)  \\\n",
              "21196                                          3   \n",
              "21197                                          6   \n",
              "21198                                          4   \n",
              "21199                                          3   \n",
              "21200                                          2   \n",
              "\n",
              "      Arrival at Destination - Time  Distance (KM)  Temperature  \\\n",
              "21196                    4:20:17 PM              3         28.6   \n",
              "21197                   10:46:17 AM              7         26.0   \n",
              "21198                    6:40:05 PM             20         29.2   \n",
              "21199                   10:08:15 AM             13         15.0   \n",
              "21200                    3:17:23 PM             12         30.9   \n",
              "\n",
              "       Precipitation in millimeters  Pickup Lat  Pickup Long  Destination Lat  \\\n",
              "21196                           NaN   -1.258414    36.804800        -1.275285   \n",
              "21197                           NaN   -1.307143    36.825009        -1.331619   \n",
              "21198                           NaN   -1.286018    36.897534        -1.258414   \n",
              "21199                           NaN   -1.250030    36.874167        -1.279210   \n",
              "21200                           NaN   -1.255189    36.782203        -1.320157   \n",
              "\n",
              "       Destination Long      Rider Id  Time from Pickup to Arrival  \n",
              "21196         36.802702  Rider_Id_953                            9  \n",
              "21197         36.847976  Rider_Id_155                          770  \n",
              "21198         36.804800  Rider_Id_697                         2953  \n",
              "21199         36.794872  Rider_Id_347                         1380  \n",
              "21200         36.830887  Rider_Id_177                         2128  "
            ]
          },
          "execution_count": 6,
          "metadata": {},
          "output_type": "execute_result"
        }
      ],
      "source": [
        "# Checking the last 5 rows of data\n",
        "# ---\n",
        "df.tail(5)"
      ]
    },
    {
      "cell_type": "code",
      "execution_count": null,
      "metadata": {
        "colab": {
          "base_uri": "https://localhost:8080/"
        },
        "id": "x3sfP6y2hgIS",
        "outputId": "dd4f24f3-8a4d-40f8-eaf6-65a83eb4536c"
      },
      "outputs": [
        {
          "data": {
            "text/plain": [
              "(21201, 29)"
            ]
          },
          "execution_count": 7,
          "metadata": {},
          "output_type": "execute_result"
        }
      ],
      "source": [
        "# Checking number of rows and columns\n",
        "df.shape"
      ]
    },
    {
      "cell_type": "code",
      "execution_count": null,
      "metadata": {
        "colab": {
          "base_uri": "https://localhost:8080/"
        },
        "id": "AovarG6Bhk4y",
        "outputId": "cdf49def-5b24-417a-d4f0-a8886f9e65af"
      },
      "outputs": [
        {
          "name": "stdout",
          "output_type": "stream",
          "text": [
            "<class 'pandas.core.frame.DataFrame'>\n",
            "RangeIndex: 21201 entries, 0 to 21200\n",
            "Data columns (total 29 columns):\n",
            " #   Column                                     Non-Null Count  Dtype  \n",
            "---  ------                                     --------------  -----  \n",
            " 0   Order No                                   21201 non-null  object \n",
            " 1   User Id                                    21201 non-null  object \n",
            " 2   Vehicle Type                               21201 non-null  object \n",
            " 3   Platform Type                              21201 non-null  int64  \n",
            " 4   Personal or Business                       21201 non-null  object \n",
            " 5   Placement - Day of Month                   21201 non-null  int64  \n",
            " 6   Placement - Weekday (Mo = 1)               21201 non-null  int64  \n",
            " 7   Placement - Time                           21201 non-null  object \n",
            " 8   Confirmation - Day of Month                21201 non-null  int64  \n",
            " 9   Confirmation - Weekday (Mo = 1)            21201 non-null  int64  \n",
            " 10  Confirmation - Time                        21201 non-null  object \n",
            " 11  Arrival at Pickup - Day of Month           21201 non-null  int64  \n",
            " 12  Arrival at Pickup - Weekday (Mo = 1)       21201 non-null  int64  \n",
            " 13  Arrival at Pickup - Time                   21201 non-null  object \n",
            " 14  Pickup - Day of Month                      21201 non-null  int64  \n",
            " 15  Pickup - Weekday (Mo = 1)                  21201 non-null  int64  \n",
            " 16  Pickup - Time                              21201 non-null  object \n",
            " 17  Arrival at Destination - Day of Month      21201 non-null  int64  \n",
            " 18  Arrival at Destination - Weekday (Mo = 1)  21201 non-null  int64  \n",
            " 19  Arrival at Destination - Time              21201 non-null  object \n",
            " 20  Distance (KM)                              21201 non-null  int64  \n",
            " 21  Temperature                                16835 non-null  float64\n",
            " 22  Precipitation in millimeters               552 non-null    float64\n",
            " 23  Pickup Lat                                 21201 non-null  float64\n",
            " 24  Pickup Long                                21201 non-null  float64\n",
            " 25  Destination Lat                            21201 non-null  float64\n",
            " 26  Destination Long                           21201 non-null  float64\n",
            " 27  Rider Id                                   21201 non-null  object \n",
            " 28  Time from Pickup to Arrival                21201 non-null  int64  \n",
            "dtypes: float64(6), int64(13), object(10)\n",
            "memory usage: 4.7+ MB\n"
          ]
        }
      ],
      "source": [
        "# Checking datatypes\n",
        "df.info()"
      ]
    },
    {
      "cell_type": "markdown",
      "metadata": {
        "id": "sKNcQTasmCgA"
      },
      "source": [
        "Observations:\n",
        "\n",
        "*   The are 21201 observations in the dataset.\n",
        "*   The dataset has 29 features.\n",
        "*   There are 10 categorical features\n",
        "*   There are 19 numerical features\n",
        "\n"
      ]
    },
    {
      "cell_type": "markdown",
      "metadata": {
        "id": "ckfufNrcUHeH"
      },
      "source": [
        "## 3. External Data Source Validation"
      ]
    },
    {
      "cell_type": "markdown",
      "metadata": {
        "id": "6L4sl_0WXlbg"
      },
      "source": [
        "The provided dataset has enough features to help in developing a machine learning model that can predict delivery time."
      ]
    },
    {
      "cell_type": "markdown",
      "metadata": {
        "id": "FlBMxEDBUc9B"
      },
      "source": [
        "## 4. Data Preparation"
      ]
    },
    {
      "cell_type": "markdown",
      "metadata": {
        "id": "3R12ITECzhLt"
      },
      "source": [
        "### Data Standardisation"
      ]
    },
    {
      "cell_type": "code",
      "execution_count": null,
      "metadata": {
        "colab": {
          "base_uri": "https://localhost:8080/"
        },
        "id": "AcHQpS8xzrDF",
        "outputId": "c343002f-3761-45ee-f84a-1bcce178d339"
      },
      "outputs": [
        {
          "data": {
            "text/plain": [
              "Index(['order_no', 'user_id', 'vehicle_type', 'platform_type',\n",
              "       'personal_or_business', 'placement_-_day_of_month',\n",
              "       'placement_-_weekday_(mo_=_1)', 'placement_-_time',\n",
              "       'confirmation_-_day_of_month', 'confirmation_-_weekday_(mo_=_1)',\n",
              "       'confirmation_-_time', 'arrival_at_pickup_-_day_of_month',\n",
              "       'arrival_at_pickup_-_weekday_(mo_=_1)', 'arrival_at_pickup_-_time',\n",
              "       'pickup_-_day_of_month', 'pickup_-_weekday_(mo_=_1)', 'pickup_-_time',\n",
              "       'arrival_at_destination_-_day_of_month',\n",
              "       'arrival_at_destination_-_weekday_(mo_=_1)',\n",
              "       'arrival_at_destination_-_time', 'distance_(km)', 'temperature',\n",
              "       'precipitation_in_millimeters', 'pickup_lat', 'pickup_long',\n",
              "       'destination_lat', 'destination_long', 'rider_id',\n",
              "       'time_from_pickup_to_arrival'],\n",
              "      dtype='object')"
            ]
          },
          "execution_count": 9,
          "metadata": {},
          "output_type": "execute_result"
        }
      ],
      "source": [
        "# Standardise column names\n",
        "# ---\n",
        "df.columns = df.columns.str.strip().str.lower().str.replace(\" \",\"_\")\n",
        "df.columns"
      ]
    },
    {
      "cell_type": "markdown",
      "metadata": {
        "id": "YNtWOlYAkcO_"
      },
      "source": [
        "### Data Cleaning"
      ]
    },
    {
      "cell_type": "markdown",
      "metadata": {
        "id": "fjn4T1d74jfH"
      },
      "source": [
        "#### Irrelevant Data"
      ]
    },
    {
      "cell_type": "markdown",
      "metadata": {
        "id": "wab4jk7S6bgH"
      },
      "source": [
        "The columns *order_no, user_id* and *rider_id* serve as identifier variables and serve no major purpose in modelling, hence I will remove them."
      ]
    },
    {
      "cell_type": "code",
      "execution_count": null,
      "metadata": {
        "id": "P-mCiUUa5nXT"
      },
      "outputs": [],
      "source": [
        "df.drop(columns=['order_no', 'user_id', 'rider_id'],inplace=True)"
      ]
    },
    {
      "cell_type": "code",
      "execution_count": null,
      "metadata": {
        "colab": {
          "base_uri": "https://localhost:8080/"
        },
        "id": "jheWwuCcE2Qn",
        "outputId": "4b937198-653d-45aa-92bb-692160bd7b29"
      },
      "outputs": [
        {
          "data": {
            "text/plain": [
              "Bike    21201\n",
              "Name: vehicle_type, dtype: int64"
            ]
          },
          "execution_count": 11,
          "metadata": {},
          "output_type": "execute_result"
        }
      ],
      "source": [
        "vehicle_type_count = df['vehicle_type'].value_counts()\n",
        "vehicle_type_count"
      ]
    },
    {
      "cell_type": "markdown",
      "metadata": {
        "id": "Qm59jyIMFJcI"
      },
      "source": [
        "There is only one vehicle type, hence it won't have an impact on modelling."
      ]
    },
    {
      "cell_type": "code",
      "execution_count": null,
      "metadata": {
        "id": "m6sElE7vF75Y"
      },
      "outputs": [],
      "source": [
        "df.drop(columns=['vehicle_type'],inplace=True)"
      ]
    },
    {
      "cell_type": "markdown",
      "metadata": {
        "id": "aVCS4su1PBPJ"
      },
      "source": [
        "In my opinion, the time related variables that are relevant in determining delivery time, are those that measure time from the moment an Order is picked up. Hence, I will keep a single 'Day of Month', 'Weekday' and 'Time' column for 'Pickup'."
      ]
    },
    {
      "cell_type": "code",
      "execution_count": null,
      "metadata": {
        "id": "15EN5Dq-XEuY"
      },
      "outputs": [],
      "source": [
        "time_cols_drop = ['confirmation_-_day_of_month', 'confirmation_-_weekday_(mo_=_1)', \\\n",
        "           'confirmation_-_time', 'arrival_at_pickup_-_day_of_month', 'arrival_at_pickup_-_weekday_(mo_=_1)', \\\n",
        "           'arrival_at_pickup_-_time','pickup_-_day_of_month', 'pickup_-_weekday_(mo_=_1)']\n",
        "\n",
        "df.drop(time_cols_drop, inplace=True, axis=1)"
      ]
    },
    {
      "cell_type": "markdown",
      "metadata": {
        "id": "ICn1Irlb5LWy"
      },
      "source": [
        "#### Duplicate data"
      ]
    },
    {
      "cell_type": "code",
      "execution_count": null,
      "metadata": {
        "colab": {
          "base_uri": "https://localhost:8080/"
        },
        "id": "dvpfHp1x7gbT",
        "outputId": "1d96a7f4-f964-42bd-d62c-0010e5bfc934"
      },
      "outputs": [
        {
          "data": {
            "text/plain": [
              "0"
            ]
          },
          "execution_count": 14,
          "metadata": {},
          "output_type": "execute_result"
        }
      ],
      "source": [
        "# Find the total duplicate records\n",
        "df.duplicated().sum()"
      ]
    },
    {
      "cell_type": "markdown",
      "metadata": {
        "id": "nocqWsTV5UcU"
      },
      "source": [
        "#### Missing Data"
      ]
    },
    {
      "cell_type": "code",
      "execution_count": null,
      "metadata": {
        "colab": {
          "base_uri": "https://localhost:8080/"
        },
        "id": "YYxrLT0GiQSc",
        "outputId": "27ff735e-c23d-4b2a-a192-1bf7efde7afa"
      },
      "outputs": [
        {
          "data": {
            "text/plain": [
              "platform_type                                    0\n",
              "personal_or_business                             0\n",
              "placement_-_day_of_month                         0\n",
              "placement_-_weekday_(mo_=_1)                     0\n",
              "placement_-_time                                 0\n",
              "pickup_-_time                                    0\n",
              "arrival_at_destination_-_day_of_month            0\n",
              "arrival_at_destination_-_weekday_(mo_=_1)        0\n",
              "arrival_at_destination_-_time                    0\n",
              "distance_(km)                                    0\n",
              "temperature                                   4366\n",
              "precipitation_in_millimeters                 20649\n",
              "pickup_lat                                       0\n",
              "pickup_long                                      0\n",
              "destination_lat                                  0\n",
              "destination_long                                 0\n",
              "time_from_pickup_to_arrival                      0\n",
              "dtype: int64"
            ]
          },
          "execution_count": 15,
          "metadata": {},
          "output_type": "execute_result"
        }
      ],
      "source": [
        "# Checking missing entries of all the variables\n",
        "# ---\n",
        "# \n",
        "df.isnull().sum()"
      ]
    },
    {
      "cell_type": "markdown",
      "metadata": {
        "id": "7GOkL62wpUWa"
      },
      "source": [
        "Since Nairobi is arid to semi-arid, precipitation in this case will refer to rainfall. Rainfall affects traffic and road confitions, hence I won't remove this variable. I will replace the null values with 0 mm of rainfall, assuming that the missing values imply no rainfall."
      ]
    },
    {
      "cell_type": "code",
      "execution_count": null,
      "metadata": {
        "id": "Jd9H4cHbqS_X"
      },
      "outputs": [],
      "source": [
        "df['precipitation_in_millimeters'].fillna(0,inplace=True)"
      ]
    },
    {
      "cell_type": "markdown",
      "metadata": {
        "id": "aYt40m0LtP8-"
      },
      "source": [
        "I will replace the missing values in the temperature values with the mean"
      ]
    },
    {
      "cell_type": "code",
      "execution_count": null,
      "metadata": {
        "colab": {
          "base_uri": "https://localhost:8080/"
        },
        "id": "hvcFdh9VBCHt",
        "outputId": "c8362fa9-24e7-49ae-e3c0-4b8a412f824b"
      },
      "outputs": [
        {
          "name": "stdout",
          "output_type": "stream",
          "text": [
            "<class 'pandas.core.frame.DataFrame'>\n",
            "RangeIndex: 21201 entries, 0 to 21200\n",
            "Data columns (total 17 columns):\n",
            " #   Column                                     Non-Null Count  Dtype  \n",
            "---  ------                                     --------------  -----  \n",
            " 0   platform_type                              21201 non-null  int64  \n",
            " 1   personal_or_business                       21201 non-null  object \n",
            " 2   placement_-_day_of_month                   21201 non-null  int64  \n",
            " 3   placement_-_weekday_(mo_=_1)               21201 non-null  int64  \n",
            " 4   placement_-_time                           21201 non-null  object \n",
            " 5   pickup_-_time                              21201 non-null  object \n",
            " 6   arrival_at_destination_-_day_of_month      21201 non-null  int64  \n",
            " 7   arrival_at_destination_-_weekday_(mo_=_1)  21201 non-null  int64  \n",
            " 8   arrival_at_destination_-_time              21201 non-null  object \n",
            " 9   distance_(km)                              21201 non-null  int64  \n",
            " 10  temperature                                21201 non-null  float64\n",
            " 11  precipitation_in_millimeters               21201 non-null  float64\n",
            " 12  pickup_lat                                 21201 non-null  float64\n",
            " 13  pickup_long                                21201 non-null  float64\n",
            " 14  destination_lat                            21201 non-null  float64\n",
            " 15  destination_long                           21201 non-null  float64\n",
            " 16  time_from_pickup_to_arrival                21201 non-null  int64  \n",
            "dtypes: float64(6), int64(7), object(4)\n",
            "memory usage: 2.7+ MB\n"
          ]
        }
      ],
      "source": [
        "# I will replace null values in the `temperature` column with the mean\n",
        "df['temperature'].fillna(value=df['temperature'].mean(), inplace=True)\n",
        "df.info()"
      ]
    },
    {
      "cell_type": "markdown",
      "metadata": {
        "id": "96Xs2ijF36dv"
      },
      "source": [
        "I will encode the personal_or_business variable"
      ]
    },
    {
      "cell_type": "code",
      "execution_count": null,
      "metadata": {
        "colab": {
          "base_uri": "https://localhost:8080/"
        },
        "id": "366mHQK14ALi",
        "outputId": "2013ac97-3fa2-439b-85b0-d5e7ac9ba393"
      },
      "outputs": [
        {
          "data": {
            "text/plain": [
              "0    17384\n",
              "1     3817\n",
              "Name: personal_or_business, dtype: int64"
            ]
          },
          "execution_count": 18,
          "metadata": {},
          "output_type": "execute_result"
        }
      ],
      "source": [
        "df['personal_or_business'] = df['personal_or_business'].astype('category').cat.codes\n",
        "df['personal_or_business'].value_counts()"
      ]
    },
    {
      "cell_type": "markdown",
      "metadata": {
        "id": "kOneJXOQLg08"
      },
      "source": [
        "I will convert the date/time columns to the format HMS e.g 3:54:38 PM becomes 155438"
      ]
    },
    {
      "cell_type": "code",
      "execution_count": null,
      "metadata": {
        "colab": {
          "base_uri": "https://localhost:8080/"
        },
        "id": "QJw3lNWxL0x0",
        "outputId": "7018b964-17e7-474c-864f-5ee81f79f648"
      },
      "outputs": [
        {
          "data": {
            "text/html": [
              "\n",
              "  <div id=\"df-784bec03-006a-40a9-9c3c-03244b29e139\">\n",
              "    <div class=\"colab-df-container\">\n",
              "      <div>\n",
              "<style scoped>\n",
              "    .dataframe tbody tr th:only-of-type {\n",
              "        vertical-align: middle;\n",
              "    }\n",
              "\n",
              "    .dataframe tbody tr th {\n",
              "        vertical-align: top;\n",
              "    }\n",
              "\n",
              "    .dataframe thead th {\n",
              "        text-align: right;\n",
              "    }\n",
              "</style>\n",
              "<table border=\"1\" class=\"dataframe\">\n",
              "  <thead>\n",
              "    <tr style=\"text-align: right;\">\n",
              "      <th></th>\n",
              "      <th>platform_type</th>\n",
              "      <th>personal_or_business</th>\n",
              "      <th>placement_-_day_of_month</th>\n",
              "      <th>placement_-_weekday_(mo_=_1)</th>\n",
              "      <th>placement_-_time</th>\n",
              "      <th>pickup_-_time</th>\n",
              "      <th>arrival_at_destination_-_day_of_month</th>\n",
              "      <th>arrival_at_destination_-_weekday_(mo_=_1)</th>\n",
              "      <th>arrival_at_destination_-_time</th>\n",
              "      <th>distance_(km)</th>\n",
              "      <th>temperature</th>\n",
              "      <th>precipitation_in_millimeters</th>\n",
              "      <th>pickup_lat</th>\n",
              "      <th>pickup_long</th>\n",
              "      <th>destination_lat</th>\n",
              "      <th>destination_long</th>\n",
              "      <th>time_from_pickup_to_arrival</th>\n",
              "    </tr>\n",
              "  </thead>\n",
              "  <tbody>\n",
              "    <tr>\n",
              "      <th>17615</th>\n",
              "      <td>3</td>\n",
              "      <td>1</td>\n",
              "      <td>6</td>\n",
              "      <td>4</td>\n",
              "      <td>110125</td>\n",
              "      <td>115131</td>\n",
              "      <td>6</td>\n",
              "      <td>4</td>\n",
              "      <td>120707</td>\n",
              "      <td>9</td>\n",
              "      <td>21.800000</td>\n",
              "      <td>0.0</td>\n",
              "      <td>-1.265533</td>\n",
              "      <td>36.809465</td>\n",
              "      <td>-1.296974</td>\n",
              "      <td>36.785661</td>\n",
              "      <td>936</td>\n",
              "    </tr>\n",
              "    <tr>\n",
              "      <th>18149</th>\n",
              "      <td>3</td>\n",
              "      <td>0</td>\n",
              "      <td>21</td>\n",
              "      <td>5</td>\n",
              "      <td>105920</td>\n",
              "      <td>113958</td>\n",
              "      <td>21</td>\n",
              "      <td>5</td>\n",
              "      <td>124719</td>\n",
              "      <td>12</td>\n",
              "      <td>22.700000</td>\n",
              "      <td>0.0</td>\n",
              "      <td>-1.285991</td>\n",
              "      <td>36.875681</td>\n",
              "      <td>-1.288780</td>\n",
              "      <td>36.816831</td>\n",
              "      <td>4041</td>\n",
              "    </tr>\n",
              "    <tr>\n",
              "      <th>9933</th>\n",
              "      <td>3</td>\n",
              "      <td>0</td>\n",
              "      <td>21</td>\n",
              "      <td>3</td>\n",
              "      <td>121815</td>\n",
              "      <td>125522</td>\n",
              "      <td>21</td>\n",
              "      <td>3</td>\n",
              "      <td>130314</td>\n",
              "      <td>6</td>\n",
              "      <td>21.900000</td>\n",
              "      <td>0.0</td>\n",
              "      <td>-1.272828</td>\n",
              "      <td>36.816608</td>\n",
              "      <td>-1.262847</td>\n",
              "      <td>36.781805</td>\n",
              "      <td>472</td>\n",
              "    </tr>\n",
              "    <tr>\n",
              "      <th>1869</th>\n",
              "      <td>3</td>\n",
              "      <td>0</td>\n",
              "      <td>5</td>\n",
              "      <td>2</td>\n",
              "      <td>133312</td>\n",
              "      <td>140358</td>\n",
              "      <td>5</td>\n",
              "      <td>2</td>\n",
              "      <td>141947</td>\n",
              "      <td>6</td>\n",
              "      <td>27.500000</td>\n",
              "      <td>0.0</td>\n",
              "      <td>-1.277071</td>\n",
              "      <td>36.823109</td>\n",
              "      <td>-1.263605</td>\n",
              "      <td>36.785100</td>\n",
              "      <td>949</td>\n",
              "    </tr>\n",
              "    <tr>\n",
              "      <th>3349</th>\n",
              "      <td>3</td>\n",
              "      <td>0</td>\n",
              "      <td>11</td>\n",
              "      <td>6</td>\n",
              "      <td>093818</td>\n",
              "      <td>100048</td>\n",
              "      <td>11</td>\n",
              "      <td>6</td>\n",
              "      <td>100230</td>\n",
              "      <td>8</td>\n",
              "      <td>23.258889</td>\n",
              "      <td>0.0</td>\n",
              "      <td>-1.300406</td>\n",
              "      <td>36.829741</td>\n",
              "      <td>-1.263818</td>\n",
              "      <td>36.793006</td>\n",
              "      <td>102</td>\n",
              "    </tr>\n",
              "  </tbody>\n",
              "</table>\n",
              "</div>\n",
              "      <button class=\"colab-df-convert\" onclick=\"convertToInteractive('df-784bec03-006a-40a9-9c3c-03244b29e139')\"\n",
              "              title=\"Convert this dataframe to an interactive table.\"\n",
              "              style=\"display:none;\">\n",
              "        \n",
              "  <svg xmlns=\"http://www.w3.org/2000/svg\" height=\"24px\"viewBox=\"0 0 24 24\"\n",
              "       width=\"24px\">\n",
              "    <path d=\"M0 0h24v24H0V0z\" fill=\"none\"/>\n",
              "    <path d=\"M18.56 5.44l.94 2.06.94-2.06 2.06-.94-2.06-.94-.94-2.06-.94 2.06-2.06.94zm-11 1L8.5 8.5l.94-2.06 2.06-.94-2.06-.94L8.5 2.5l-.94 2.06-2.06.94zm10 10l.94 2.06.94-2.06 2.06-.94-2.06-.94-.94-2.06-.94 2.06-2.06.94z\"/><path d=\"M17.41 7.96l-1.37-1.37c-.4-.4-.92-.59-1.43-.59-.52 0-1.04.2-1.43.59L10.3 9.45l-7.72 7.72c-.78.78-.78 2.05 0 2.83L4 21.41c.39.39.9.59 1.41.59.51 0 1.02-.2 1.41-.59l7.78-7.78 2.81-2.81c.8-.78.8-2.07 0-2.86zM5.41 20L4 18.59l7.72-7.72 1.47 1.35L5.41 20z\"/>\n",
              "  </svg>\n",
              "      </button>\n",
              "      \n",
              "  <style>\n",
              "    .colab-df-container {\n",
              "      display:flex;\n",
              "      flex-wrap:wrap;\n",
              "      gap: 12px;\n",
              "    }\n",
              "\n",
              "    .colab-df-convert {\n",
              "      background-color: #E8F0FE;\n",
              "      border: none;\n",
              "      border-radius: 50%;\n",
              "      cursor: pointer;\n",
              "      display: none;\n",
              "      fill: #1967D2;\n",
              "      height: 32px;\n",
              "      padding: 0 0 0 0;\n",
              "      width: 32px;\n",
              "    }\n",
              "\n",
              "    .colab-df-convert:hover {\n",
              "      background-color: #E2EBFA;\n",
              "      box-shadow: 0px 1px 2px rgba(60, 64, 67, 0.3), 0px 1px 3px 1px rgba(60, 64, 67, 0.15);\n",
              "      fill: #174EA6;\n",
              "    }\n",
              "\n",
              "    [theme=dark] .colab-df-convert {\n",
              "      background-color: #3B4455;\n",
              "      fill: #D2E3FC;\n",
              "    }\n",
              "\n",
              "    [theme=dark] .colab-df-convert:hover {\n",
              "      background-color: #434B5C;\n",
              "      box-shadow: 0px 1px 3px 1px rgba(0, 0, 0, 0.15);\n",
              "      filter: drop-shadow(0px 1px 2px rgba(0, 0, 0, 0.3));\n",
              "      fill: #FFFFFF;\n",
              "    }\n",
              "  </style>\n",
              "\n",
              "      <script>\n",
              "        const buttonEl =\n",
              "          document.querySelector('#df-784bec03-006a-40a9-9c3c-03244b29e139 button.colab-df-convert');\n",
              "        buttonEl.style.display =\n",
              "          google.colab.kernel.accessAllowed ? 'block' : 'none';\n",
              "\n",
              "        async function convertToInteractive(key) {\n",
              "          const element = document.querySelector('#df-784bec03-006a-40a9-9c3c-03244b29e139');\n",
              "          const dataTable =\n",
              "            await google.colab.kernel.invokeFunction('convertToInteractive',\n",
              "                                                     [key], {});\n",
              "          if (!dataTable) return;\n",
              "\n",
              "          const docLinkHtml = 'Like what you see? Visit the ' +\n",
              "            '<a target=\"_blank\" href=https://colab.research.google.com/notebooks/data_table.ipynb>data table notebook</a>'\n",
              "            + ' to learn more about interactive tables.';\n",
              "          element.innerHTML = '';\n",
              "          dataTable['output_type'] = 'display_data';\n",
              "          await google.colab.output.renderOutput(dataTable, element);\n",
              "          const docLink = document.createElement('div');\n",
              "          docLink.innerHTML = docLinkHtml;\n",
              "          element.appendChild(docLink);\n",
              "        }\n",
              "      </script>\n",
              "    </div>\n",
              "  </div>\n",
              "  "
            ],
            "text/plain": [
              "       platform_type  personal_or_business  placement_-_day_of_month  \\\n",
              "17615              3                     1                         6   \n",
              "18149              3                     0                        21   \n",
              "9933               3                     0                        21   \n",
              "1869               3                     0                         5   \n",
              "3349               3                     0                        11   \n",
              "\n",
              "       placement_-_weekday_(mo_=_1) placement_-_time pickup_-_time  \\\n",
              "17615                             4           110125        115131   \n",
              "18149                             5           105920        113958   \n",
              "9933                              3           121815        125522   \n",
              "1869                              2           133312        140358   \n",
              "3349                              6           093818        100048   \n",
              "\n",
              "       arrival_at_destination_-_day_of_month  \\\n",
              "17615                                      6   \n",
              "18149                                     21   \n",
              "9933                                      21   \n",
              "1869                                       5   \n",
              "3349                                      11   \n",
              "\n",
              "       arrival_at_destination_-_weekday_(mo_=_1)  \\\n",
              "17615                                          4   \n",
              "18149                                          5   \n",
              "9933                                           3   \n",
              "1869                                           2   \n",
              "3349                                           6   \n",
              "\n",
              "      arrival_at_destination_-_time  distance_(km)  temperature  \\\n",
              "17615                        120707              9    21.800000   \n",
              "18149                        124719             12    22.700000   \n",
              "9933                         130314              6    21.900000   \n",
              "1869                         141947              6    27.500000   \n",
              "3349                         100230              8    23.258889   \n",
              "\n",
              "       precipitation_in_millimeters  pickup_lat  pickup_long  destination_lat  \\\n",
              "17615                           0.0   -1.265533    36.809465        -1.296974   \n",
              "18149                           0.0   -1.285991    36.875681        -1.288780   \n",
              "9933                            0.0   -1.272828    36.816608        -1.262847   \n",
              "1869                            0.0   -1.277071    36.823109        -1.263605   \n",
              "3349                            0.0   -1.300406    36.829741        -1.263818   \n",
              "\n",
              "       destination_long  time_from_pickup_to_arrival  \n",
              "17615         36.785661                          936  \n",
              "18149         36.816831                         4041  \n",
              "9933          36.781805                          472  \n",
              "1869          36.785100                          949  \n",
              "3349          36.793006                          102  "
            ]
          },
          "execution_count": 19,
          "metadata": {},
          "output_type": "execute_result"
        }
      ],
      "source": [
        "from datetime import datetime\n",
        "\n",
        "def convert_time(time):\n",
        "  formatted_time = datetime.strptime(time, \"%I:%M:%S %p\")\n",
        "  str_from_time = datetime.strftime(formatted_time, \"%H%M%S\")\n",
        "  return str_from_time\n",
        "\n",
        "time_columns = ['placement_-_time', 'pickup_-_time', 'arrival_at_destination_-_time']\n",
        "\n",
        "for col in time_columns:\n",
        "  df[col] = df[col].apply(convert_time)\n",
        "\n",
        "df.sample(5)"
      ]
    },
    {
      "cell_type": "markdown",
      "metadata": {
        "id": "vTbdjSrhVIiT"
      },
      "source": [
        "## 5. Data Modelling"
      ]
    },
    {
      "cell_type": "markdown",
      "metadata": {
        "id": "so4xqtK_JrP9"
      },
      "source": [
        "#### Base model - Ensemble Regressor"
      ]
    },
    {
      "cell_type": "code",
      "execution_count": null,
      "metadata": {
        "colab": {
          "base_uri": "https://localhost:8080/"
        },
        "id": "jYU5mB0_J_Bs",
        "outputId": "ee4c9c8c-6e00-43da-bbdd-96560fcf9c73"
      },
      "outputs": [
        {
          "name": "stdout",
          "output_type": "stream",
          "text": [
            "RMSE:  525.3969582871707\n"
          ]
        }
      ],
      "source": [
        "features = df.drop(['time_from_pickup_to_arrival'], axis=1)\n",
        "target = df['time_from_pickup_to_arrival']\n",
        "\n",
        "# Splitting the data into training, testing and validation sets. Of the base dataset: 20% - testing, 80% - training.\n",
        "features_train, features_test, target_train, target_test = train_test_split(features, target, test_size=0.20, random_state=12345)\n",
        "\n",
        "# Model \n",
        "base_regressor = RandomForestRegressor(n_estimators = 10, random_state = 12345)\n",
        "\n",
        "# Train the model\n",
        "base_regressor.fit(features_train, target_train)\n",
        "\n",
        "# Predict using the model\n",
        "predictions = base_regressor.predict(features_test)\n",
        "\n",
        "# RMSE\n",
        "rmse = mean_squared_error(target_test, predictions) ** 0.5\n",
        "\n",
        "print('RMSE: ', rmse)"
      ]
    },
    {
      "cell_type": "markdown",
      "metadata": {
        "id": "OY3AfifsZPvL"
      },
      "source": [
        "## 5. Model Optimization"
      ]
    },
    {
      "cell_type": "markdown",
      "metadata": {
        "id": "Q7CPHo8DQtLT"
      },
      "source": [
        "#### Feature Scaling"
      ]
    },
    {
      "cell_type": "markdown",
      "metadata": {
        "id": "-Qw2iqfcT7pa"
      },
      "source": [
        "Standardization"
      ]
    },
    {
      "cell_type": "code",
      "execution_count": null,
      "metadata": {
        "colab": {
          "base_uri": "https://localhost:8080/"
        },
        "id": "fHEXx5rTT94O",
        "outputId": "c1b1a542-e41c-476d-90c4-d4fba343c012"
      },
      "outputs": [
        {
          "name": "stdout",
          "output_type": "stream",
          "text": [
            "RMSE:  526.5920410670499\n"
          ]
        }
      ],
      "source": [
        "# Scaler\n",
        "scaler = StandardScaler()\n",
        "\n",
        "# Scaled model\n",
        "features_train_scaled = scaler.fit_transform(features_train) \n",
        "features_test_scaled = scaler.fit_transform(features_test)\n",
        "\n",
        "# fit the model\n",
        "regressor_scaled = RandomForestRegressor(n_estimators = 10, random_state = 12345)\n",
        "regressor_scaled.fit(features_train_scaled, target_train)\n",
        "\n",
        "# predict\n",
        "predictions_scaled = regressor_scaled.predict(features_test_scaled)\n",
        "\n",
        "rmse = np.sqrt(mean_squared_error(target_test, predictions_scaled))\n",
        "\n",
        "print('RMSE: ', rmse)\n",
        "\n"
      ]
    },
    {
      "cell_type": "markdown",
      "metadata": {
        "id": "DMnMsJ7ZRzD_"
      },
      "source": [
        "Normalization"
      ]
    },
    {
      "cell_type": "code",
      "execution_count": null,
      "metadata": {
        "colab": {
          "base_uri": "https://localhost:8080/"
        },
        "id": "i7Y0x3w6R1mV",
        "outputId": "e9a25927-6b44-4ed3-ee4b-240888702b75"
      },
      "outputs": [
        {
          "name": "stdout",
          "output_type": "stream",
          "text": [
            "RMSE: 525.5213235397118\n"
          ]
        }
      ],
      "source": [
        "# Normalized model\n",
        "normalized = MinMaxScaler().fit(features_train) \n",
        "features_train_normalized = normalized.transform(features_train) \n",
        "features_test_normalized = normalized.transform(features_test)\n",
        "\n",
        "# fit the model\n",
        "regressor_normalized = RandomForestRegressor(n_estimators = 10, random_state = 12345)\n",
        "regressor_normalized.fit(features_train_normalized, target_train)\n",
        "\n",
        "# predict\n",
        "predictions_normalized = regressor_normalized.predict(features_test_normalized)\n",
        "\n",
        "# RMSE\n",
        "rmse = np.sqrt(mean_squared_error(target_test, predictions_normalized))\n",
        "\n",
        "print('RMSE:', rmse)"
      ]
    },
    {
      "cell_type": "markdown",
      "metadata": {
        "id": "hWjhd_J6WTNf"
      },
      "source": [
        "Normalization achieves better result than standardization"
      ]
    },
    {
      "cell_type": "markdown",
      "metadata": {
        "id": "lUXq8051W0uU"
      },
      "source": [
        "#### Feature Selection"
      ]
    },
    {
      "cell_type": "markdown",
      "metadata": {
        "id": "tDcJdCmOW7YN"
      },
      "source": [
        "**Step Forward Feature Selection**"
      ]
    },
    {
      "cell_type": "code",
      "execution_count": null,
      "metadata": {
        "colab": {
          "background_save": true,
          "base_uri": "https://localhost:8080/"
        },
        "id": "6TlU7YxjW8-C",
        "outputId": "60414678-c52c-4ea9-86a9-0ce968dde4c9"
      },
      "outputs": [
        {
          "name": "stderr",
          "output_type": "stream",
          "text": [
            "[Parallel(n_jobs=1)]: Using backend SequentialBackend with 1 concurrent workers.\n",
            "[Parallel(n_jobs=1)]: Done   1 out of   1 | elapsed:    0.1s remaining:    0.0s\n",
            "[Parallel(n_jobs=1)]: Done  16 out of  16 | elapsed:    7.7s finished\n",
            "\n",
            "[2022-11-29 05:01:07] Features: 1/15 -- score: 0.3391752466522554[Parallel(n_jobs=1)]: Using backend SequentialBackend with 1 concurrent workers.\n",
            "[Parallel(n_jobs=1)]: Done   1 out of   1 | elapsed:    0.2s remaining:    0.0s\n",
            "[Parallel(n_jobs=1)]: Done  15 out of  15 | elapsed:    7.4s finished\n",
            "\n",
            "[2022-11-29 05:01:15] Features: 2/15 -- score: 0.33770154263715374[Parallel(n_jobs=1)]: Using backend SequentialBackend with 1 concurrent workers.\n",
            "[Parallel(n_jobs=1)]: Done   1 out of   1 | elapsed:    0.2s remaining:    0.0s\n",
            "[Parallel(n_jobs=1)]: Done  14 out of  14 | elapsed:    8.0s finished\n",
            "\n",
            "[2022-11-29 05:01:23] Features: 3/15 -- score: 0.33470381059571186[Parallel(n_jobs=1)]: Using backend SequentialBackend with 1 concurrent workers.\n",
            "[Parallel(n_jobs=1)]: Done   1 out of   1 | elapsed:    0.2s remaining:    0.0s\n",
            "[Parallel(n_jobs=1)]: Done  13 out of  13 | elapsed:    8.5s finished\n",
            "\n",
            "[2022-11-29 05:01:31] Features: 4/15 -- score: 0.3304927949789883[Parallel(n_jobs=1)]: Using backend SequentialBackend with 1 concurrent workers.\n",
            "[Parallel(n_jobs=1)]: Done   1 out of   1 | elapsed:    0.5s remaining:    0.0s\n",
            "[Parallel(n_jobs=1)]: Done  12 out of  12 | elapsed:    8.8s finished\n",
            "\n",
            "[2022-11-29 05:01:40] Features: 5/15 -- score: 0.3058221164850581[Parallel(n_jobs=1)]: Using backend SequentialBackend with 1 concurrent workers.\n",
            "[Parallel(n_jobs=1)]: Done   1 out of   1 | elapsed:    0.7s remaining:    0.0s\n",
            "[Parallel(n_jobs=1)]: Done  11 out of  11 | elapsed:   10.7s finished\n",
            "\n",
            "[2022-11-29 05:01:51] Features: 6/15 -- score: 0.30630567722790913[Parallel(n_jobs=1)]: Using backend SequentialBackend with 1 concurrent workers.\n",
            "[Parallel(n_jobs=1)]: Done   1 out of   1 | elapsed:    0.8s remaining:    0.0s\n",
            "[Parallel(n_jobs=1)]: Done  10 out of  10 | elapsed:   11.6s finished\n",
            "\n",
            "[2022-11-29 05:02:02] Features: 7/15 -- score: 0.19372090909047462[Parallel(n_jobs=1)]: Using backend SequentialBackend with 1 concurrent workers.\n",
            "[Parallel(n_jobs=1)]: Done   1 out of   1 | elapsed:    1.5s remaining:    0.0s\n",
            "[Parallel(n_jobs=1)]: Done   9 out of   9 | elapsed:   15.3s finished\n",
            "\n",
            "[2022-11-29 05:02:18] Features: 8/15 -- score: 0.23971589660567913[Parallel(n_jobs=1)]: Using backend SequentialBackend with 1 concurrent workers.\n",
            "[Parallel(n_jobs=1)]: Done   1 out of   1 | elapsed:    2.1s remaining:    0.0s\n",
            "[Parallel(n_jobs=1)]: Done   8 out of   8 | elapsed:   18.1s finished\n",
            "\n",
            "[2022-11-29 05:02:36] Features: 9/15 -- score: 0.8349766706043882[Parallel(n_jobs=1)]: Using backend SequentialBackend with 1 concurrent workers.\n",
            "[Parallel(n_jobs=1)]: Done   1 out of   1 | elapsed:    2.8s remaining:    0.0s\n",
            "[Parallel(n_jobs=1)]: Done   7 out of   7 | elapsed:   20.1s finished\n",
            "\n",
            "[2022-11-29 05:02:56] Features: 10/15 -- score: 0.818321946473315[Parallel(n_jobs=1)]: Using backend SequentialBackend with 1 concurrent workers.\n",
            "[Parallel(n_jobs=1)]: Done   1 out of   1 | elapsed:    3.3s remaining:    0.0s\n",
            "[Parallel(n_jobs=1)]: Done   6 out of   6 | elapsed:   20.4s finished\n",
            "\n",
            "[2022-11-29 05:03:16] Features: 11/15 -- score: 0.7988198828586125[Parallel(n_jobs=1)]: Using backend SequentialBackend with 1 concurrent workers.\n",
            "[Parallel(n_jobs=1)]: Done   1 out of   1 | elapsed:    3.5s remaining:    0.0s\n",
            "[Parallel(n_jobs=1)]: Done   5 out of   5 | elapsed:   17.9s finished\n",
            "\n",
            "[2022-11-29 05:03:34] Features: 12/15 -- score: 0.7979240788014299[Parallel(n_jobs=1)]: Using backend SequentialBackend with 1 concurrent workers.\n",
            "[Parallel(n_jobs=1)]: Done   1 out of   1 | elapsed:    3.9s remaining:    0.0s\n",
            "[Parallel(n_jobs=1)]: Done   4 out of   4 | elapsed:   15.5s finished\n",
            "\n",
            "[2022-11-29 05:03:50] Features: 13/15 -- score: 0.7693584138524048[Parallel(n_jobs=1)]: Using backend SequentialBackend with 1 concurrent workers.\n",
            "[Parallel(n_jobs=1)]: Done   1 out of   1 | elapsed:    4.3s remaining:    0.0s\n",
            "[Parallel(n_jobs=1)]: Done   3 out of   3 | elapsed:   12.9s finished\n",
            "\n",
            "[2022-11-29 05:04:03] Features: 14/15 -- score: 0.7272837680191798[Parallel(n_jobs=1)]: Using backend SequentialBackend with 1 concurrent workers.\n",
            "[Parallel(n_jobs=1)]: Done   1 out of   1 | elapsed:    4.6s remaining:    0.0s\n",
            "[Parallel(n_jobs=1)]: Done   2 out of   2 | elapsed:    9.3s finished\n",
            "\n",
            "[2022-11-29 05:04:12] Features: 15/15 -- score: 0.6827128528080655"
          ]
        }
      ],
      "source": [
        "# I'll pass the normalised model defined above to the SequentialFeatureSelector function. \n",
        "# k_features: number of features to select. \n",
        "# forward: if set to True, performs step forward feature selection. \n",
        "# verbose: used for logging the progress of the feature selector\n",
        "# scoring: defines the performance evaluation criteria \n",
        "# cv: refers to cross-validation folds.\n",
        "\n",
        "feature_selector_sf = SequentialFeatureSelector(regressor_normalized,\n",
        "           k_features=15,\n",
        "           forward=True,\n",
        "           verbose=2,\n",
        "           scoring='r2',\n",
        "           cv=4)\n",
        " \n",
        "# Step forward feature selection\n",
        "feature_selector_sf = feature_selector_sf.fit(features_train_normalized, target_train)"
      ]
    },
    {
      "cell_type": "code",
      "execution_count": null,
      "metadata": {
        "colab": {
          "background_save": true
        },
        "id": "bAwAwabVj4Cv",
        "outputId": "3756d3fe-0e8b-45c7-f076-9c2b4fbda547"
      },
      "outputs": [
        {
          "name": "stdout",
          "output_type": "stream",
          "text": [
            "RMSE with step forward features:  490.43403365549784\n"
          ]
        }
      ],
      "source": [
        "selected_features_sf = list(feature_selector_sf.k_feature_idx_)\n",
        "#selected_features\n",
        "\n",
        "# Modelling with features from step forward selection\n",
        "step_forward_regressor = RandomForestRegressor(n_estimators = 10, random_state = 12345)\n",
        "step_forward_regressor.fit(features_train_normalized[:, selected_features_sf], target_train)\n",
        "\n",
        "# Making Predictions\n",
        "step_forward_predictions = step_forward_regressor.predict(features_test_normalized[:, selected_features_sf])\n",
        "\n",
        "# RMSE\n",
        "rmse = np.sqrt(mean_squared_error(target_test, step_forward_predictions))\n",
        "\n",
        "print('RMSE with step forward features: ', rmse)"
      ]
    },
    {
      "cell_type": "markdown",
      "metadata": {
        "id": "2KmL1ih3qO-7"
      },
      "source": [
        "**Step Backward Feature Selection**"
      ]
    },
    {
      "cell_type": "code",
      "execution_count": null,
      "metadata": {
        "colab": {
          "background_save": true
        },
        "id": "-2_kfmNZqWEg",
        "outputId": "d83d8731-f4e7-48af-c001-00f34b845b89"
      },
      "outputs": [
        {
          "name": "stderr",
          "output_type": "stream",
          "text": [
            "[Parallel(n_jobs=1)]: Using backend SequentialBackend with 1 concurrent workers.\n",
            "[Parallel(n_jobs=1)]: Done   1 out of   1 | elapsed:    4.7s remaining:    0.0s\n",
            "[Parallel(n_jobs=1)]: Done  16 out of  16 | elapsed:  1.3min finished\n",
            "\n",
            "[2022-11-29 05:05:37] Features: 15/15 -- score: 0.6827128528080655"
          ]
        }
      ],
      "source": [
        "# This time I set the `forward` parameter to False\n",
        "\n",
        "feature_selector_sb = SequentialFeatureSelector(regressor_normalized,\n",
        "           k_features=15,\n",
        "           forward=False,\n",
        "           verbose=2,\n",
        "           scoring='r2',\n",
        "           cv=4)\n",
        " \n",
        "# Step forward feature selection\n",
        "feature_selector_sb = feature_selector_sb.fit(features_train_normalized, target_train)"
      ]
    },
    {
      "cell_type": "code",
      "execution_count": null,
      "metadata": {
        "colab": {
          "background_save": true
        },
        "id": "jv1lPwFTrRZa",
        "outputId": "0e64abbb-7caa-4a4b-8a28-882d316e5e18"
      },
      "outputs": [
        {
          "name": "stdout",
          "output_type": "stream",
          "text": [
            "RMSE with step backward features:  490.43403365549784\n"
          ]
        }
      ],
      "source": [
        "selected_features_sb = list(feature_selector_sb.k_feature_idx_)\n",
        "#selected_features\n",
        "\n",
        "# Modelling with features from step backward selection\n",
        "step_backward_regressor = RandomForestRegressor(n_estimators = 10, random_state = 12345)\n",
        "step_backward_regressor.fit(features_train_normalized[:, selected_features_sb], target_train)\n",
        "\n",
        "# Making Predictions and determining the accuracies\n",
        "step_backward_predictions = step_backward_regressor.predict(features_test_normalized[:, selected_features_sb])\n",
        "\n",
        "# RMSE\n",
        "rmse = np.sqrt(mean_squared_error(target_test, step_backward_predictions))\n",
        "\n",
        "print('RMSE with step backward features: ', rmse)"
      ]
    },
    {
      "cell_type": "markdown",
      "metadata": {
        "id": "FCHxguHsuAWo"
      },
      "source": [
        "**Recursive Feature Elimination**"
      ]
    },
    {
      "cell_type": "code",
      "execution_count": null,
      "metadata": {
        "colab": {
          "background_save": true
        },
        "id": "u0QAl-qcEtEP",
        "outputId": "36d38ce9-0152-493c-d1f3-e52c66eb94b5"
      },
      "outputs": [
        {
          "name": "stdout",
          "output_type": "stream",
          "text": [
            "RMSE for RFE: 526.1907049308937\n"
          ]
        }
      ],
      "source": [
        "# I'm selecting the best 15 features for the model. \n",
        "# n_features_to_select will include the response variable\n",
        "regressor_rfe = RFE(regressor_normalized, n_features_to_select = 15, step=1)\n",
        "\n",
        "regressor_rfe.fit(features_train_normalized, target_train) \n",
        "\n",
        "# Predict using the model  \n",
        "rfe_predictions = regressor_rfe.predict(features_test_normalized)\n",
        "\n",
        "# RMSE\n",
        "rmse = np.sqrt(mean_squared_error(target_test, rfe_predictions))\n",
        "\n",
        "print('RMSE for RFE:', rmse)"
      ]
    },
    {
      "cell_type": "markdown",
      "metadata": {
        "id": "SuSbv4-KI7Oh"
      },
      "source": [
        "**Linear Discriminant Analysis**"
      ]
    },
    {
      "cell_type": "code",
      "execution_count": null,
      "metadata": {
        "colab": {
          "background_save": true
        },
        "id": "jpMGGtPEI8UV",
        "outputId": "ba741a85-937a-4033-b521-d4016fb66884"
      },
      "outputs": [
        {
          "name": "stdout",
          "output_type": "stream",
          "text": [
            "RMSE with Linear Discriminant Analysis: 705.8346313142732\n"
          ]
        }
      ],
      "source": [
        "lda = LinearDiscriminantAnalysis()\n",
        "lda.fit(features_train_normalized, target_train)\n",
        "\n",
        "# Predictions\n",
        "lda_predictions = lda.predict(features_test_normalized)\n",
        "\n",
        "# Evaluation\n",
        "rmse = np.sqrt(mean_squared_error(target_test, lda_predictions))\n",
        "\n",
        "print('RMSE with Linear Discriminant Analysis:', rmse)"
      ]
    },
    {
      "cell_type": "markdown",
      "metadata": {
        "id": "B4ZJRPE1KRJV"
      },
      "source": [
        "Step Backward Feature Selection and Step Forward Feature selections give the same lowest rmse"
      ]
    },
    {
      "cell_type": "markdown",
      "metadata": {
        "id": "JJjIsfXmLMM9"
      },
      "source": [
        "#### Feature Construction"
      ]
    },
    {
      "cell_type": "code",
      "execution_count": null,
      "metadata": {
        "colab": {
          "background_save": true
        },
        "id": "rtt2-65RLOZP",
        "outputId": "5f01a32d-31ee-45df-ac4f-cb6201a5ad13"
      },
      "outputs": [
        {
          "data": {
            "text/html": [
              "\n",
              "  <div id=\"df-80837a82-f730-44c3-9e01-688753d3f918\">\n",
              "    <div class=\"colab-df-container\">\n",
              "      <div>\n",
              "<style scoped>\n",
              "    .dataframe tbody tr th:only-of-type {\n",
              "        vertical-align: middle;\n",
              "    }\n",
              "\n",
              "    .dataframe tbody tr th {\n",
              "        vertical-align: top;\n",
              "    }\n",
              "\n",
              "    .dataframe thead th {\n",
              "        text-align: right;\n",
              "    }\n",
              "</style>\n",
              "<table border=\"1\" class=\"dataframe\">\n",
              "  <thead>\n",
              "    <tr style=\"text-align: right;\">\n",
              "      <th></th>\n",
              "      <th>platform_type</th>\n",
              "      <th>personal_or_business</th>\n",
              "      <th>placement_-_day_of_month</th>\n",
              "      <th>placement_-_weekday_(mo_=_1)</th>\n",
              "      <th>placement_-_time</th>\n",
              "      <th>pickup_-_time</th>\n",
              "      <th>arrival_at_destination_-_day_of_month</th>\n",
              "      <th>arrival_at_destination_-_weekday_(mo_=_1)</th>\n",
              "      <th>arrival_at_destination_-_time</th>\n",
              "      <th>distance_(km)</th>\n",
              "      <th>temperature</th>\n",
              "      <th>precipitation_in_millimeters</th>\n",
              "      <th>pickup_lat</th>\n",
              "      <th>pickup_long</th>\n",
              "      <th>destination_lat</th>\n",
              "      <th>destination_long</th>\n",
              "      <th>time_from_pickup_to_arrival</th>\n",
              "      <th>speed</th>\n",
              "    </tr>\n",
              "  </thead>\n",
              "  <tbody>\n",
              "    <tr>\n",
              "      <th>0</th>\n",
              "      <td>3</td>\n",
              "      <td>0</td>\n",
              "      <td>9</td>\n",
              "      <td>5</td>\n",
              "      <td>093546</td>\n",
              "      <td>102730</td>\n",
              "      <td>9</td>\n",
              "      <td>5</td>\n",
              "      <td>103955</td>\n",
              "      <td>4</td>\n",
              "      <td>20.400000</td>\n",
              "      <td>0.0</td>\n",
              "      <td>-1.317755</td>\n",
              "      <td>36.830370</td>\n",
              "      <td>-1.300406</td>\n",
              "      <td>36.829741</td>\n",
              "      <td>745</td>\n",
              "      <td>19.328859</td>\n",
              "    </tr>\n",
              "    <tr>\n",
              "      <th>1</th>\n",
              "      <td>3</td>\n",
              "      <td>1</td>\n",
              "      <td>12</td>\n",
              "      <td>5</td>\n",
              "      <td>111616</td>\n",
              "      <td>114409</td>\n",
              "      <td>12</td>\n",
              "      <td>5</td>\n",
              "      <td>121722</td>\n",
              "      <td>16</td>\n",
              "      <td>26.400000</td>\n",
              "      <td>0.0</td>\n",
              "      <td>-1.351453</td>\n",
              "      <td>36.899315</td>\n",
              "      <td>-1.295004</td>\n",
              "      <td>36.814358</td>\n",
              "      <td>1993</td>\n",
              "      <td>28.901154</td>\n",
              "    </tr>\n",
              "    <tr>\n",
              "      <th>2</th>\n",
              "      <td>3</td>\n",
              "      <td>0</td>\n",
              "      <td>30</td>\n",
              "      <td>2</td>\n",
              "      <td>123925</td>\n",
              "      <td>125303</td>\n",
              "      <td>30</td>\n",
              "      <td>2</td>\n",
              "      <td>130038</td>\n",
              "      <td>3</td>\n",
              "      <td>23.258889</td>\n",
              "      <td>0.0</td>\n",
              "      <td>-1.308284</td>\n",
              "      <td>36.843419</td>\n",
              "      <td>-1.300921</td>\n",
              "      <td>36.828195</td>\n",
              "      <td>455</td>\n",
              "      <td>23.736264</td>\n",
              "    </tr>\n",
              "    <tr>\n",
              "      <th>3</th>\n",
              "      <td>3</td>\n",
              "      <td>0</td>\n",
              "      <td>15</td>\n",
              "      <td>5</td>\n",
              "      <td>092534</td>\n",
              "      <td>094306</td>\n",
              "      <td>15</td>\n",
              "      <td>5</td>\n",
              "      <td>100527</td>\n",
              "      <td>9</td>\n",
              "      <td>19.200000</td>\n",
              "      <td>0.0</td>\n",
              "      <td>-1.281301</td>\n",
              "      <td>36.832396</td>\n",
              "      <td>-1.257147</td>\n",
              "      <td>36.795063</td>\n",
              "      <td>1341</td>\n",
              "      <td>24.161074</td>\n",
              "    </tr>\n",
              "    <tr>\n",
              "      <th>4</th>\n",
              "      <td>1</td>\n",
              "      <td>1</td>\n",
              "      <td>13</td>\n",
              "      <td>1</td>\n",
              "      <td>095518</td>\n",
              "      <td>100523</td>\n",
              "      <td>13</td>\n",
              "      <td>1</td>\n",
              "      <td>102537</td>\n",
              "      <td>9</td>\n",
              "      <td>15.400000</td>\n",
              "      <td>0.0</td>\n",
              "      <td>-1.266597</td>\n",
              "      <td>36.792118</td>\n",
              "      <td>-1.295041</td>\n",
              "      <td>36.809817</td>\n",
              "      <td>1214</td>\n",
              "      <td>26.688633</td>\n",
              "    </tr>\n",
              "  </tbody>\n",
              "</table>\n",
              "</div>\n",
              "      <button class=\"colab-df-convert\" onclick=\"convertToInteractive('df-80837a82-f730-44c3-9e01-688753d3f918')\"\n",
              "              title=\"Convert this dataframe to an interactive table.\"\n",
              "              style=\"display:none;\">\n",
              "        \n",
              "  <svg xmlns=\"http://www.w3.org/2000/svg\" height=\"24px\"viewBox=\"0 0 24 24\"\n",
              "       width=\"24px\">\n",
              "    <path d=\"M0 0h24v24H0V0z\" fill=\"none\"/>\n",
              "    <path d=\"M18.56 5.44l.94 2.06.94-2.06 2.06-.94-2.06-.94-.94-2.06-.94 2.06-2.06.94zm-11 1L8.5 8.5l.94-2.06 2.06-.94-2.06-.94L8.5 2.5l-.94 2.06-2.06.94zm10 10l.94 2.06.94-2.06 2.06-.94-2.06-.94-.94-2.06-.94 2.06-2.06.94z\"/><path d=\"M17.41 7.96l-1.37-1.37c-.4-.4-.92-.59-1.43-.59-.52 0-1.04.2-1.43.59L10.3 9.45l-7.72 7.72c-.78.78-.78 2.05 0 2.83L4 21.41c.39.39.9.59 1.41.59.51 0 1.02-.2 1.41-.59l7.78-7.78 2.81-2.81c.8-.78.8-2.07 0-2.86zM5.41 20L4 18.59l7.72-7.72 1.47 1.35L5.41 20z\"/>\n",
              "  </svg>\n",
              "      </button>\n",
              "      \n",
              "  <style>\n",
              "    .colab-df-container {\n",
              "      display:flex;\n",
              "      flex-wrap:wrap;\n",
              "      gap: 12px;\n",
              "    }\n",
              "\n",
              "    .colab-df-convert {\n",
              "      background-color: #E8F0FE;\n",
              "      border: none;\n",
              "      border-radius: 50%;\n",
              "      cursor: pointer;\n",
              "      display: none;\n",
              "      fill: #1967D2;\n",
              "      height: 32px;\n",
              "      padding: 0 0 0 0;\n",
              "      width: 32px;\n",
              "    }\n",
              "\n",
              "    .colab-df-convert:hover {\n",
              "      background-color: #E2EBFA;\n",
              "      box-shadow: 0px 1px 2px rgba(60, 64, 67, 0.3), 0px 1px 3px 1px rgba(60, 64, 67, 0.15);\n",
              "      fill: #174EA6;\n",
              "    }\n",
              "\n",
              "    [theme=dark] .colab-df-convert {\n",
              "      background-color: #3B4455;\n",
              "      fill: #D2E3FC;\n",
              "    }\n",
              "\n",
              "    [theme=dark] .colab-df-convert:hover {\n",
              "      background-color: #434B5C;\n",
              "      box-shadow: 0px 1px 3px 1px rgba(0, 0, 0, 0.15);\n",
              "      filter: drop-shadow(0px 1px 2px rgba(0, 0, 0, 0.3));\n",
              "      fill: #FFFFFF;\n",
              "    }\n",
              "  </style>\n",
              "\n",
              "      <script>\n",
              "        const buttonEl =\n",
              "          document.querySelector('#df-80837a82-f730-44c3-9e01-688753d3f918 button.colab-df-convert');\n",
              "        buttonEl.style.display =\n",
              "          google.colab.kernel.accessAllowed ? 'block' : 'none';\n",
              "\n",
              "        async function convertToInteractive(key) {\n",
              "          const element = document.querySelector('#df-80837a82-f730-44c3-9e01-688753d3f918');\n",
              "          const dataTable =\n",
              "            await google.colab.kernel.invokeFunction('convertToInteractive',\n",
              "                                                     [key], {});\n",
              "          if (!dataTable) return;\n",
              "\n",
              "          const docLinkHtml = 'Like what you see? Visit the ' +\n",
              "            '<a target=\"_blank\" href=https://colab.research.google.com/notebooks/data_table.ipynb>data table notebook</a>'\n",
              "            + ' to learn more about interactive tables.';\n",
              "          element.innerHTML = '';\n",
              "          dataTable['output_type'] = 'display_data';\n",
              "          await google.colab.output.renderOutput(dataTable, element);\n",
              "          const docLink = document.createElement('div');\n",
              "          docLink.innerHTML = docLinkHtml;\n",
              "          element.appendChild(docLink);\n",
              "        }\n",
              "      </script>\n",
              "    </div>\n",
              "  </div>\n",
              "  "
            ],
            "text/plain": [
              "   platform_type  personal_or_business  placement_-_day_of_month  \\\n",
              "0              3                     0                         9   \n",
              "1              3                     1                        12   \n",
              "2              3                     0                        30   \n",
              "3              3                     0                        15   \n",
              "4              1                     1                        13   \n",
              "\n",
              "   placement_-_weekday_(mo_=_1) placement_-_time pickup_-_time  \\\n",
              "0                             5           093546        102730   \n",
              "1                             5           111616        114409   \n",
              "2                             2           123925        125303   \n",
              "3                             5           092534        094306   \n",
              "4                             1           095518        100523   \n",
              "\n",
              "   arrival_at_destination_-_day_of_month  \\\n",
              "0                                      9   \n",
              "1                                     12   \n",
              "2                                     30   \n",
              "3                                     15   \n",
              "4                                     13   \n",
              "\n",
              "   arrival_at_destination_-_weekday_(mo_=_1) arrival_at_destination_-_time  \\\n",
              "0                                          5                        103955   \n",
              "1                                          5                        121722   \n",
              "2                                          2                        130038   \n",
              "3                                          5                        100527   \n",
              "4                                          1                        102537   \n",
              "\n",
              "   distance_(km)  temperature  precipitation_in_millimeters  pickup_lat  \\\n",
              "0              4    20.400000                           0.0   -1.317755   \n",
              "1             16    26.400000                           0.0   -1.351453   \n",
              "2              3    23.258889                           0.0   -1.308284   \n",
              "3              9    19.200000                           0.0   -1.281301   \n",
              "4              9    15.400000                           0.0   -1.266597   \n",
              "\n",
              "   pickup_long  destination_lat  destination_long  \\\n",
              "0    36.830370        -1.300406         36.829741   \n",
              "1    36.899315        -1.295004         36.814358   \n",
              "2    36.843419        -1.300921         36.828195   \n",
              "3    36.832396        -1.257147         36.795063   \n",
              "4    36.792118        -1.295041         36.809817   \n",
              "\n",
              "   time_from_pickup_to_arrival      speed  \n",
              "0                          745  19.328859  \n",
              "1                         1993  28.901154  \n",
              "2                          455  23.736264  \n",
              "3                         1341  24.161074  \n",
              "4                         1214  26.688633  "
            ]
          },
          "execution_count": 29,
          "metadata": {},
          "output_type": "execute_result"
        }
      ],
      "source": [
        " # I will create a new feature:  speed = distance/time\n",
        "# convert time to hours so that speed is km/hr\n",
        "df['speed'] = df['distance_(km)'] / (df['time_from_pickup_to_arrival'] / 3600)\n",
        "df.head()"
      ]
    },
    {
      "cell_type": "markdown",
      "metadata": {
        "id": "a0yww7GIntR4"
      },
      "source": [
        "#### Final Modelling"
      ]
    },
    {
      "cell_type": "markdown",
      "metadata": {
        "id": "00EA-R14rUIi"
      },
      "source": [
        "Without Normalisation"
      ]
    },
    {
      "cell_type": "code",
      "execution_count": null,
      "metadata": {
        "colab": {
          "background_save": true
        },
        "id": "4n2Dp1Xhnvih",
        "outputId": "54bc7f31-0033-4d73-ad9a-f6ddb1329f2e"
      },
      "outputs": [
        {
          "name": "stdout",
          "output_type": "stream",
          "text": [
            "RMSE: 51.31816703528443\n"
          ]
        }
      ],
      "source": [
        "# Split data\n",
        "features = df.drop(['time_from_pickup_to_arrival'], axis=1)\n",
        "target = df['time_from_pickup_to_arrival']\n",
        "\n",
        "features_train, features_test, target_train, target_test = train_test_split(features, target, test_size=0.2, random_state=12345)\n",
        "\n",
        "# The model\n",
        "base_regressor_new = RandomForestRegressor(n_estimators = 10, random_state = 12345)\n",
        "base_regressor_new.fit(features_train, target_train)\n",
        "\n",
        "# Predict \n",
        "new_predictions = base_regressor_new.predict(features_test)\n",
        "\n",
        "# RMSE\n",
        "rmse = np.sqrt(mean_squared_error(target_test, new_predictions))\n",
        "print('RMSE:', rmse)"
      ]
    },
    {
      "cell_type": "markdown",
      "metadata": {
        "id": "nxiL1XmkpSUn"
      },
      "source": [
        "With Normalisation"
      ]
    },
    {
      "cell_type": "code",
      "execution_count": null,
      "metadata": {
        "colab": {
          "background_save": true
        },
        "id": "24X508VQpQbZ",
        "outputId": "551cf9ca-29c1-4b19-f44d-33284a09ef7e"
      },
      "outputs": [
        {
          "name": "stdout",
          "output_type": "stream",
          "text": [
            "RMSE: 49.63455594714024\n"
          ]
        }
      ],
      "source": [
        "norm = MinMaxScaler().fit(features_train)\n",
        "features_train_normalized = norm.transform(features_train) \n",
        "features_test_normalized = norm.transform(features_test)\n",
        "\n",
        "# Model\n",
        "new_base_regressor = RandomForestRegressor(n_estimators = 10, random_state = 12345)\n",
        "new_base_regressor.fit(features_train_normalized, target_train)\n",
        "\n",
        "# Predict\n",
        "new_predictions_normalized = new_base_regressor.predict(features_test_normalized)\n",
        "\n",
        "# RMSE\n",
        "rmse = np.sqrt(mean_squared_error(target_test, new_predictions_normalized))\n",
        "print('RMSE:', rmse)"
      ]
    },
    {
      "cell_type": "markdown",
      "metadata": {
        "id": "mNeWgC-4tGs2"
      },
      "source": [
        "With Step Backward Feature Selection"
      ]
    },
    {
      "cell_type": "markdown",
      "metadata": {
        "id": "jPJHvivh2w86"
      },
      "source": [
        "I chose this because it takes less time than Step Forward Feature Selection"
      ]
    },
    {
      "cell_type": "code",
      "execution_count": null,
      "metadata": {
        "id": "Lg0gFz1MtNKF"
      },
      "outputs": [],
      "source": [
        "# Modelling with features from step backward selection\n",
        "\n",
        "# Normalized model\n",
        "normalized = MinMaxScaler().fit(features_train) \n",
        "features_train_normalized = normalized.transform(features_train) \n",
        "features_test_normalized = normalized.transform(features_test)\n",
        "\n",
        "new_sb_regressor = RandomForestRegressor(n_estimators = 10, random_state = 12345)\n",
        "\n",
        "# We pass the regressor the estimator to the SequentialFeatureSelector function. \n",
        "# k_features specifies the number of features to select. \n",
        "# forward parameter, if set to True, performs step forward feature selection. \n",
        "# verbose parameter is used for logging the progress of the feature selector\n",
        "# scoring parameter defines the performance evaluation criteria \n",
        "# cv refers to cross-validation folds.\n",
        "\n",
        "feature_selector_sb_new = SequentialFeatureSelector(new_sb_regressor,\n",
        "           k_features=15,\n",
        "           forward=False,\n",
        "           verbose=2,\n",
        "           scoring='r2',\n",
        "           cv=4)\n",
        " \n",
        "# Perform step backward feature selection\n",
        "feature_selector_sb_new = feature_selector_sb_new.fit(features_train_normalized, target_train)"
      ]
    },
    {
      "cell_type": "code",
      "execution_count": null,
      "metadata": {
        "id": "gInWt8q_Xi71"
      },
      "outputs": [],
      "source": [
        "#selected_features\n",
        "selected_features_sb_new = list(feature_selector_sb_new.k_feature_idx_)\n",
        "\n",
        "step_backward_regressor_new = RandomForestRegressor(n_estimators = 10, random_state = 12345)\n",
        "step_backward_regressor_new.fit(features_train_normalized[:, selected_features_sb_new], target_train)\n",
        "\n",
        "# Making Predictions and determining the accuracies\n",
        "step_backward_predictions_new = step_backward_regressor_new.predict(features_test_normalized[:, selected_features_sb_new])\n",
        "\n",
        "# RMSE\n",
        "rmse = np.sqrt(mean_squared_error(target_test, step_backward_predictions_new))\n",
        "\n",
        "print('RMSE with step backward features: ', rmse)"
      ]
    },
    {
      "cell_type": "markdown",
      "metadata": {
        "id": "F7hvzviUX3Y4"
      },
      "source": [
        "## Summary"
      ]
    },
    {
      "cell_type": "markdown",
      "metadata": {
        "id": "u3hLfjogX5fJ"
      },
      "source": [
        "The RMSE to dropped from 525 to 49 after creating new feature, normalizing and performing Step Back Fature selection\n",
        "\n",
        "Feature construction produced the best RMSE of 51. RMSE improved to 49 after normalisation followed by step backward feature selection.\n",
        "\n",
        "This is reliable in predicting delivery time."
      ]
    },
    {
      "cell_type": "markdown",
      "metadata": {
        "id": "31z7JlZRyj-9"
      },
      "source": [
        "## Challenge the Solution"
      ]
    },
    {
      "cell_type": "markdown",
      "metadata": {
        "id": "PCbeE6flyvN5"
      },
      "source": [
        "Did we have the right question? Yes"
      ]
    },
    {
      "cell_type": "markdown",
      "metadata": {
        "id": "NuBul5-My2CC"
      },
      "source": [
        "What can be done to improve the solution?\n",
        "\n",
        "* Handle any outliers in the dataset\n",
        "* Hyperparameter tuning\n",
        "* Construct more features"
      ]
    }
  ],
  "metadata": {
    "colab": {
      "collapsed_sections": [
        "fjn4T1d74jfH",
        "ICn1Irlb5LWy",
        "nocqWsTV5UcU",
        "so4xqtK_JrP9"
      ],
      "provenance": [],
      "toc_visible": true
    },
    "kernelspec": {
      "display_name": "Python 3",
      "name": "python3"
    }
  },
  "nbformat": 4,
  "nbformat_minor": 0
}