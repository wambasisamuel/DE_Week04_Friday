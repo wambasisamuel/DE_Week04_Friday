{
  "nbformat": 4,
  "nbformat_minor": 0,
  "metadata": {
    "colab": {
      "provenance": [],
      "toc_visible": true
    },
    "kernelspec": {
      "name": "python3",
      "display_name": "Python 3"
    }
  },
  "cells": [
    {
      "cell_type": "markdown",
      "metadata": {
        "id": "y1HW8GjoS7AN"
      },
      "source": [
        "# Beta Bank Client CHurn Analysis"
      ]
    },
    {
      "cell_type": "markdown",
      "metadata": {
        "id": "kLG2VTrnTvYL"
      },
      "source": [
        "## 1. Defining the Question"
      ]
    },
    {
      "cell_type": "markdown",
      "metadata": {
        "id": "XecOwPNorl2W"
      },
      "source": [
        "### a) Data Analysis Question"
      ]
    },
    {
      "cell_type": "markdown",
      "metadata": {
        "id": "pZykmRrbGd13"
      },
      "source": [
        "Can we predict the delivery time of Sendy orders?"
      ]
    },
    {
      "cell_type": "markdown",
      "metadata": {
        "id": "J4wfHZwQrs-t"
      },
      "source": [
        "### b) Metric for Success"
      ]
    },
    {
      "cell_type": "markdown",
      "metadata": {
        "id": "IuQcoaLFGjkH"
      },
      "source": [
        "The model should predict an accurate delivery time, from picking up a package upto when it arrives at the final\n",
        "destination."
      ]
    },
    {
      "cell_type": "markdown",
      "metadata": {
        "id": "a9BPYqunry97"
      },
      "source": [
        "### c) Understanding the context "
      ]
    },
    {
      "cell_type": "markdown",
      "metadata": {
        "id": "2jeqV9VPG1tg"
      },
      "source": [
        "Sendy has hired you to help predict the estimated time of delivery of orders, from the point of driver pickup to the point of arrival at the final destination. \n",
        "\n",
        "Build a model that predicts an accurate delivery time, from picking up a package to arriving at the final destination. An accurate arrival time prediction will help all business to improve their logistics and communicate the accurate time their time to their customers.\n",
        "\n",
        "You will be required to perform various feature engineering techniques while preparing your data for further analysis."
      ]
    },
    {
      "cell_type": "markdown",
      "metadata": {
        "id": "7KMRBJ7zr9HD"
      },
      "source": [
        "### d) Experimental Design"
      ]
    },
    {
      "cell_type": "markdown",
      "metadata": {
        "id": "YG0dB0_PG5_i"
      },
      "source": [
        "1. Defining the Research Question\n",
        "2. Data Importation\n",
        "3. Data Exploration\n",
        "4. Data Cleaning\n",
        "5. Data Analysis (Univariate and Bivariate)\n",
        "6. Data Preparation\n",
        "7. Data Modeling\n",
        "8. Model Evaluation\n",
        "9. Challenging your Solution\n",
        "10. Recommendations / Conclusion"
      ]
    },
    {
      "cell_type": "markdown",
      "metadata": {
        "id": "zSGyg6kWsBUl"
      },
      "source": [
        "### e) Data Relevance"
      ]
    },
    {
      "cell_type": "markdown",
      "metadata": {
        "id": "UogUWzkTHJ9D"
      },
      "source": [
        "The given data set is relevant in answering the research question."
      ]
    },
    {
      "cell_type": "markdown",
      "metadata": {
        "id": "iUNbvIvnT7ep"
      },
      "source": [
        "## 2. Reading the Data"
      ]
    },
    {
      "cell_type": "code",
      "metadata": {
        "id": "STUSuuyTTBgx"
      },
      "source": [
        "# Importing our libraries\n",
        "import pandas as pd\n",
        "import numpy as np\n",
        "import matplotlib.pyplot as plt\n",
        "from sklearn.preprocessing import MinMaxScaler, StandardScaler, OneHotEncoder\n",
        "from sklearn.model_selection import train_test_split, GridSearchCV\n",
        "from sklearn.svm import SVR\n",
        "from sklearn.ensemble import RandomForestRegressor, AdaBoostRegressor, GradientBoostingRegressor\n",
        "from sklearn.metrics import mean_squared_error\n",
        "from sklearn.feature_selection import RFE\n",
        "from sklearn.decomposition import PCA\n",
        "from sklearn.discriminant_analysis import LinearDiscriminantAnalysis\n",
        "pd.set_option('display.max_columns', None)\n"
      ],
      "execution_count": 1,
      "outputs": []
    },
    {
      "cell_type": "code",
      "source": [
        "# Additional packages\n",
        "\n",
        "# importing six and sys\n",
        "import six\n",
        "import sys\n",
        "sys.modules['sklearn.externals.six'] = six\n",
        "\n",
        "# installing mlrose\n",
        "!pip install mlrose\n",
        "import mlrose\n",
        "\n",
        "# importing joblib\n",
        "import joblib\n",
        "sys.modules['sklearn.externals.joblib'] = joblib\n",
        "from mlxtend.feature_selection import SequentialFeatureSelector"
      ],
      "metadata": {
        "colab": {
          "base_uri": "https://localhost:8080/"
        },
        "id": "ibgt7QEnJl5u",
        "outputId": "66b64b3b-370c-4456-f5e9-991302785a09"
      },
      "execution_count": 2,
      "outputs": [
        {
          "output_type": "stream",
          "name": "stdout",
          "text": [
            "Looking in indexes: https://pypi.org/simple, https://us-python.pkg.dev/colab-wheels/public/simple/\n",
            "Collecting mlrose\n",
            "  Downloading mlrose-1.3.0-py3-none-any.whl (27 kB)\n",
            "Collecting sklearn\n",
            "  Downloading sklearn-0.0.post1.tar.gz (3.6 kB)\n",
            "Requirement already satisfied: numpy in /usr/local/lib/python3.7/dist-packages (from mlrose) (1.21.6)\n",
            "Requirement already satisfied: scipy in /usr/local/lib/python3.7/dist-packages (from mlrose) (1.7.3)\n",
            "Building wheels for collected packages: sklearn\n",
            "  Building wheel for sklearn (setup.py) ... \u001b[?25l\u001b[?25hdone\n",
            "  Created wheel for sklearn: filename=sklearn-0.0.post1-py3-none-any.whl size=2344 sha256=c02255599c1f8e3358c72bef55408c3be43c2c69ecaab75a04c5323fa507a76f\n",
            "  Stored in directory: /root/.cache/pip/wheels/42/56/cc/4a8bf86613aafd5b7f1b310477667c1fca5c51c3ae4124a003\n",
            "Successfully built sklearn\n",
            "Installing collected packages: sklearn, mlrose\n",
            "Successfully installed mlrose-1.3.0 sklearn-0.0.post1\n"
          ]
        }
      ]
    },
    {
      "cell_type": "code",
      "metadata": {
        "id": "U4ZDFANeLGVR"
      },
      "source": [
        "# Load the data\n",
        "# --- \n",
        "data_url = \"https://raw.githubusercontent.com/wambasisamuel/DE_Week04_Friday/main/sendy_logistics.csv\"\n",
        "df = pd.read_csv(data_url) "
      ],
      "execution_count": 3,
      "outputs": []
    },
    {
      "cell_type": "code",
      "metadata": {
        "id": "XJn2KjW-WMlG",
        "colab": {
          "base_uri": "https://localhost:8080/",
          "height": 1000
        },
        "outputId": "6500e99e-3318-40f8-8f6e-2624334c3014"
      },
      "source": [
        "# Description of the data\n",
        "# --- \n",
        "description_url = \"https://raw.githubusercontent.com/wambasisamuel/DE_Week04_Friday/main/VariableDefinitions.csv\"\n",
        "data_desc = pd.read_csv(description_url)\n",
        "data_desc"
      ],
      "execution_count": 4,
      "outputs": [
        {
          "output_type": "execute_result",
          "data": {
            "text/plain": [
              "                                     Order No  \\\n",
              "0                                     User Id   \n",
              "1                                Vehicle Type   \n",
              "2                               Platform Type   \n",
              "3                        Personal or Business   \n",
              "4                    Placement - Day of Month   \n",
              "5                Placement - Weekday (Mo = 1)   \n",
              "6                            Placement - Time   \n",
              "7                 Confirmation - Day of Month   \n",
              "8             Confirmation - Weekday (Mo = 1)   \n",
              "9                         Confirmation - Time   \n",
              "10           Arrival at Pickup - Day of Month   \n",
              "11       Arrival at Pickup - Weekday (Mo = 1)   \n",
              "12                   Arrival at Pickup - Time   \n",
              "13                      Pickup - Day of Month   \n",
              "14                  Pickup - Weekday (Mo = 1)   \n",
              "15                              Pickup - Time   \n",
              "16      Arrival at Destination - Day of Month   \n",
              "17  Arrival at Destination - Weekday (Mo = 1)   \n",
              "18              Arrival at Destination - Time   \n",
              "19                              Distance (KM)   \n",
              "20                                Temperature   \n",
              "21               Precipitation in millimeters   \n",
              "22                                 Pickup Lat   \n",
              "23                                Pickup Long   \n",
              "24                            Destination Lat   \n",
              "25                           Destination Long   \n",
              "26                                   Rider Id   \n",
              "27                Time from Pickup to Arrival   \n",
              "28                                        NaN   \n",
              "29                              Rider Metrics   \n",
              "30                                   Rider Id   \n",
              "31                               No_Of_Orders   \n",
              "32                                        Age   \n",
              "33                             Average_Rating   \n",
              "34                              No_of_Ratings   \n",
              "\n",
              "                  Unique number identifying the order  \n",
              "0   Unique number identifying the customer on a pl...  \n",
              "1   For this competition limited to bikes, however...  \n",
              "2   Platform used to place the order, there are 4 ...  \n",
              "3                                       Customer type  \n",
              "4                   Placement - Day of Month i.e 1-31  \n",
              "5                    Placement - Weekday (Monday = 1)  \n",
              "6   Placement - Time - Time of day the order was p...  \n",
              "7                Confirmation - Day of Month i.e 1-31  \n",
              "8                 Confirmation - Weekday (Monday = 1)  \n",
              "9   Confirmation - Time - Time of day the order wa...  \n",
              "10          Arrival at Pickup - Day of Month i.e 1-31  \n",
              "11           Arrival at Pickup - Weekday (Monday = 1)  \n",
              "12  Time of day the the rider arrived at the locat...  \n",
              "13                     Pickup - Day of Month i.e 1-31  \n",
              "14                      Pickup - Weekday (Monday = 1)  \n",
              "15  Pickup - Time - Time of day the the rider pick...  \n",
              "16        Arrival at Delivery - Day of Month i.e 1-31  \n",
              "17         Arrival at Delivery - Weekday (Monday = 1)  \n",
              "18  Arrival at Delivery Time - Time of day the rid...  \n",
              "19            The distance from Pickup to Destination  \n",
              "20  Temperature at the time of order placement in ...  \n",
              "21   Precipitation at the time of order placement ...  \n",
              "22                       Latitude of pick up location  \n",
              "23                      Longitude of pick up location  \n",
              "24                      Latitude of delivery location  \n",
              "25                     Longitude of delivery location  \n",
              "26             ID of the Rider who accepted the order  \n",
              "27  Time in seconds between 'Pickup' and 'Arrival ...  \n",
              "28                                                NaN  \n",
              "29                                                NaN  \n",
              "30  Unique number identifying the rider (same as i...  \n",
              "31           Number of Orders the rider has delivered  \n",
              "32  Number of days since the rider delivered the f...  \n",
              "33                        Average rating of the rider  \n",
              "34   Number of ratings the rider has received. Rat...  "
            ],
            "text/html": [
              "\n",
              "  <div id=\"df-94d37526-5068-4b03-94d1-607279c8295d\">\n",
              "    <div class=\"colab-df-container\">\n",
              "      <div>\n",
              "<style scoped>\n",
              "    .dataframe tbody tr th:only-of-type {\n",
              "        vertical-align: middle;\n",
              "    }\n",
              "\n",
              "    .dataframe tbody tr th {\n",
              "        vertical-align: top;\n",
              "    }\n",
              "\n",
              "    .dataframe thead th {\n",
              "        text-align: right;\n",
              "    }\n",
              "</style>\n",
              "<table border=\"1\" class=\"dataframe\">\n",
              "  <thead>\n",
              "    <tr style=\"text-align: right;\">\n",
              "      <th></th>\n",
              "      <th>Order No</th>\n",
              "      <th>Unique number identifying the order</th>\n",
              "    </tr>\n",
              "  </thead>\n",
              "  <tbody>\n",
              "    <tr>\n",
              "      <th>0</th>\n",
              "      <td>User Id</td>\n",
              "      <td>Unique number identifying the customer on a pl...</td>\n",
              "    </tr>\n",
              "    <tr>\n",
              "      <th>1</th>\n",
              "      <td>Vehicle Type</td>\n",
              "      <td>For this competition limited to bikes, however...</td>\n",
              "    </tr>\n",
              "    <tr>\n",
              "      <th>2</th>\n",
              "      <td>Platform Type</td>\n",
              "      <td>Platform used to place the order, there are 4 ...</td>\n",
              "    </tr>\n",
              "    <tr>\n",
              "      <th>3</th>\n",
              "      <td>Personal or Business</td>\n",
              "      <td>Customer type</td>\n",
              "    </tr>\n",
              "    <tr>\n",
              "      <th>4</th>\n",
              "      <td>Placement - Day of Month</td>\n",
              "      <td>Placement - Day of Month i.e 1-31</td>\n",
              "    </tr>\n",
              "    <tr>\n",
              "      <th>5</th>\n",
              "      <td>Placement - Weekday (Mo = 1)</td>\n",
              "      <td>Placement - Weekday (Monday = 1)</td>\n",
              "    </tr>\n",
              "    <tr>\n",
              "      <th>6</th>\n",
              "      <td>Placement - Time</td>\n",
              "      <td>Placement - Time - Time of day the order was p...</td>\n",
              "    </tr>\n",
              "    <tr>\n",
              "      <th>7</th>\n",
              "      <td>Confirmation - Day of Month</td>\n",
              "      <td>Confirmation - Day of Month i.e 1-31</td>\n",
              "    </tr>\n",
              "    <tr>\n",
              "      <th>8</th>\n",
              "      <td>Confirmation - Weekday (Mo = 1)</td>\n",
              "      <td>Confirmation - Weekday (Monday = 1)</td>\n",
              "    </tr>\n",
              "    <tr>\n",
              "      <th>9</th>\n",
              "      <td>Confirmation - Time</td>\n",
              "      <td>Confirmation - Time - Time of day the order wa...</td>\n",
              "    </tr>\n",
              "    <tr>\n",
              "      <th>10</th>\n",
              "      <td>Arrival at Pickup - Day of Month</td>\n",
              "      <td>Arrival at Pickup - Day of Month i.e 1-31</td>\n",
              "    </tr>\n",
              "    <tr>\n",
              "      <th>11</th>\n",
              "      <td>Arrival at Pickup - Weekday (Mo = 1)</td>\n",
              "      <td>Arrival at Pickup - Weekday (Monday = 1)</td>\n",
              "    </tr>\n",
              "    <tr>\n",
              "      <th>12</th>\n",
              "      <td>Arrival at Pickup - Time</td>\n",
              "      <td>Time of day the the rider arrived at the locat...</td>\n",
              "    </tr>\n",
              "    <tr>\n",
              "      <th>13</th>\n",
              "      <td>Pickup - Day of Month</td>\n",
              "      <td>Pickup - Day of Month i.e 1-31</td>\n",
              "    </tr>\n",
              "    <tr>\n",
              "      <th>14</th>\n",
              "      <td>Pickup - Weekday (Mo = 1)</td>\n",
              "      <td>Pickup - Weekday (Monday = 1)</td>\n",
              "    </tr>\n",
              "    <tr>\n",
              "      <th>15</th>\n",
              "      <td>Pickup - Time</td>\n",
              "      <td>Pickup - Time - Time of day the the rider pick...</td>\n",
              "    </tr>\n",
              "    <tr>\n",
              "      <th>16</th>\n",
              "      <td>Arrival at Destination - Day of Month</td>\n",
              "      <td>Arrival at Delivery - Day of Month i.e 1-31</td>\n",
              "    </tr>\n",
              "    <tr>\n",
              "      <th>17</th>\n",
              "      <td>Arrival at Destination - Weekday (Mo = 1)</td>\n",
              "      <td>Arrival at Delivery - Weekday (Monday = 1)</td>\n",
              "    </tr>\n",
              "    <tr>\n",
              "      <th>18</th>\n",
              "      <td>Arrival at Destination - Time</td>\n",
              "      <td>Arrival at Delivery Time - Time of day the rid...</td>\n",
              "    </tr>\n",
              "    <tr>\n",
              "      <th>19</th>\n",
              "      <td>Distance (KM)</td>\n",
              "      <td>The distance from Pickup to Destination</td>\n",
              "    </tr>\n",
              "    <tr>\n",
              "      <th>20</th>\n",
              "      <td>Temperature</td>\n",
              "      <td>Temperature at the time of order placement in ...</td>\n",
              "    </tr>\n",
              "    <tr>\n",
              "      <th>21</th>\n",
              "      <td>Precipitation in millimeters</td>\n",
              "      <td>Precipitation at the time of order placement ...</td>\n",
              "    </tr>\n",
              "    <tr>\n",
              "      <th>22</th>\n",
              "      <td>Pickup Lat</td>\n",
              "      <td>Latitude of pick up location</td>\n",
              "    </tr>\n",
              "    <tr>\n",
              "      <th>23</th>\n",
              "      <td>Pickup Long</td>\n",
              "      <td>Longitude of pick up location</td>\n",
              "    </tr>\n",
              "    <tr>\n",
              "      <th>24</th>\n",
              "      <td>Destination Lat</td>\n",
              "      <td>Latitude of delivery location</td>\n",
              "    </tr>\n",
              "    <tr>\n",
              "      <th>25</th>\n",
              "      <td>Destination Long</td>\n",
              "      <td>Longitude of delivery location</td>\n",
              "    </tr>\n",
              "    <tr>\n",
              "      <th>26</th>\n",
              "      <td>Rider Id</td>\n",
              "      <td>ID of the Rider who accepted the order</td>\n",
              "    </tr>\n",
              "    <tr>\n",
              "      <th>27</th>\n",
              "      <td>Time from Pickup to Arrival</td>\n",
              "      <td>Time in seconds between 'Pickup' and 'Arrival ...</td>\n",
              "    </tr>\n",
              "    <tr>\n",
              "      <th>28</th>\n",
              "      <td>NaN</td>\n",
              "      <td>NaN</td>\n",
              "    </tr>\n",
              "    <tr>\n",
              "      <th>29</th>\n",
              "      <td>Rider Metrics</td>\n",
              "      <td>NaN</td>\n",
              "    </tr>\n",
              "    <tr>\n",
              "      <th>30</th>\n",
              "      <td>Rider Id</td>\n",
              "      <td>Unique number identifying the rider (same as i...</td>\n",
              "    </tr>\n",
              "    <tr>\n",
              "      <th>31</th>\n",
              "      <td>No_Of_Orders</td>\n",
              "      <td>Number of Orders the rider has delivered</td>\n",
              "    </tr>\n",
              "    <tr>\n",
              "      <th>32</th>\n",
              "      <td>Age</td>\n",
              "      <td>Number of days since the rider delivered the f...</td>\n",
              "    </tr>\n",
              "    <tr>\n",
              "      <th>33</th>\n",
              "      <td>Average_Rating</td>\n",
              "      <td>Average rating of the rider</td>\n",
              "    </tr>\n",
              "    <tr>\n",
              "      <th>34</th>\n",
              "      <td>No_of_Ratings</td>\n",
              "      <td>Number of ratings the rider has received. Rat...</td>\n",
              "    </tr>\n",
              "  </tbody>\n",
              "</table>\n",
              "</div>\n",
              "      <button class=\"colab-df-convert\" onclick=\"convertToInteractive('df-94d37526-5068-4b03-94d1-607279c8295d')\"\n",
              "              title=\"Convert this dataframe to an interactive table.\"\n",
              "              style=\"display:none;\">\n",
              "        \n",
              "  <svg xmlns=\"http://www.w3.org/2000/svg\" height=\"24px\"viewBox=\"0 0 24 24\"\n",
              "       width=\"24px\">\n",
              "    <path d=\"M0 0h24v24H0V0z\" fill=\"none\"/>\n",
              "    <path d=\"M18.56 5.44l.94 2.06.94-2.06 2.06-.94-2.06-.94-.94-2.06-.94 2.06-2.06.94zm-11 1L8.5 8.5l.94-2.06 2.06-.94-2.06-.94L8.5 2.5l-.94 2.06-2.06.94zm10 10l.94 2.06.94-2.06 2.06-.94-2.06-.94-.94-2.06-.94 2.06-2.06.94z\"/><path d=\"M17.41 7.96l-1.37-1.37c-.4-.4-.92-.59-1.43-.59-.52 0-1.04.2-1.43.59L10.3 9.45l-7.72 7.72c-.78.78-.78 2.05 0 2.83L4 21.41c.39.39.9.59 1.41.59.51 0 1.02-.2 1.41-.59l7.78-7.78 2.81-2.81c.8-.78.8-2.07 0-2.86zM5.41 20L4 18.59l7.72-7.72 1.47 1.35L5.41 20z\"/>\n",
              "  </svg>\n",
              "      </button>\n",
              "      \n",
              "  <style>\n",
              "    .colab-df-container {\n",
              "      display:flex;\n",
              "      flex-wrap:wrap;\n",
              "      gap: 12px;\n",
              "    }\n",
              "\n",
              "    .colab-df-convert {\n",
              "      background-color: #E8F0FE;\n",
              "      border: none;\n",
              "      border-radius: 50%;\n",
              "      cursor: pointer;\n",
              "      display: none;\n",
              "      fill: #1967D2;\n",
              "      height: 32px;\n",
              "      padding: 0 0 0 0;\n",
              "      width: 32px;\n",
              "    }\n",
              "\n",
              "    .colab-df-convert:hover {\n",
              "      background-color: #E2EBFA;\n",
              "      box-shadow: 0px 1px 2px rgba(60, 64, 67, 0.3), 0px 1px 3px 1px rgba(60, 64, 67, 0.15);\n",
              "      fill: #174EA6;\n",
              "    }\n",
              "\n",
              "    [theme=dark] .colab-df-convert {\n",
              "      background-color: #3B4455;\n",
              "      fill: #D2E3FC;\n",
              "    }\n",
              "\n",
              "    [theme=dark] .colab-df-convert:hover {\n",
              "      background-color: #434B5C;\n",
              "      box-shadow: 0px 1px 3px 1px rgba(0, 0, 0, 0.15);\n",
              "      filter: drop-shadow(0px 1px 2px rgba(0, 0, 0, 0.3));\n",
              "      fill: #FFFFFF;\n",
              "    }\n",
              "  </style>\n",
              "\n",
              "      <script>\n",
              "        const buttonEl =\n",
              "          document.querySelector('#df-94d37526-5068-4b03-94d1-607279c8295d button.colab-df-convert');\n",
              "        buttonEl.style.display =\n",
              "          google.colab.kernel.accessAllowed ? 'block' : 'none';\n",
              "\n",
              "        async function convertToInteractive(key) {\n",
              "          const element = document.querySelector('#df-94d37526-5068-4b03-94d1-607279c8295d');\n",
              "          const dataTable =\n",
              "            await google.colab.kernel.invokeFunction('convertToInteractive',\n",
              "                                                     [key], {});\n",
              "          if (!dataTable) return;\n",
              "\n",
              "          const docLinkHtml = 'Like what you see? Visit the ' +\n",
              "            '<a target=\"_blank\" href=https://colab.research.google.com/notebooks/data_table.ipynb>data table notebook</a>'\n",
              "            + ' to learn more about interactive tables.';\n",
              "          element.innerHTML = '';\n",
              "          dataTable['output_type'] = 'display_data';\n",
              "          await google.colab.output.renderOutput(dataTable, element);\n",
              "          const docLink = document.createElement('div');\n",
              "          docLink.innerHTML = docLinkHtml;\n",
              "          element.appendChild(docLink);\n",
              "        }\n",
              "      </script>\n",
              "    </div>\n",
              "  </div>\n",
              "  "
            ]
          },
          "metadata": {},
          "execution_count": 4
        }
      ]
    },
    {
      "cell_type": "code",
      "metadata": {
        "id": "7168_y8EhZg7",
        "colab": {
          "base_uri": "https://localhost:8080/",
          "height": 461
        },
        "outputId": "8fc02e23-5585-46d3-84a5-c5419a98230c"
      },
      "source": [
        "# Checking the first 5 rows of data\n",
        "df.head()"
      ],
      "execution_count": 5,
      "outputs": [
        {
          "output_type": "execute_result",
          "data": {
            "text/plain": [
              "         Order No       User Id Vehicle Type  Platform Type  \\\n",
              "0   Order_No_4211   User_Id_633         Bike              3   \n",
              "1  Order_No_25375  User_Id_2285         Bike              3   \n",
              "2   Order_No_1899   User_Id_265         Bike              3   \n",
              "3   Order_No_9336  User_Id_1402         Bike              3   \n",
              "4  Order_No_27883  User_Id_1737         Bike              1   \n",
              "\n",
              "  Personal or Business  Placement - Day of Month  \\\n",
              "0             Business                         9   \n",
              "1             Personal                        12   \n",
              "2             Business                        30   \n",
              "3             Business                        15   \n",
              "4             Personal                        13   \n",
              "\n",
              "   Placement - Weekday (Mo = 1) Placement - Time  Confirmation - Day of Month  \\\n",
              "0                             5       9:35:46 AM                            9   \n",
              "1                             5      11:16:16 AM                           12   \n",
              "2                             2      12:39:25 PM                           30   \n",
              "3                             5       9:25:34 AM                           15   \n",
              "4                             1       9:55:18 AM                           13   \n",
              "\n",
              "   Confirmation - Weekday (Mo = 1) Confirmation - Time  \\\n",
              "0                                5          9:40:10 AM   \n",
              "1                                5         11:23:21 AM   \n",
              "2                                2         12:42:44 PM   \n",
              "3                                5          9:26:05 AM   \n",
              "4                                1          9:56:18 AM   \n",
              "\n",
              "   Arrival at Pickup - Day of Month  Arrival at Pickup - Weekday (Mo = 1)  \\\n",
              "0                                 9                                     5   \n",
              "1                                12                                     5   \n",
              "2                                30                                     2   \n",
              "3                                15                                     5   \n",
              "4                                13                                     1   \n",
              "\n",
              "  Arrival at Pickup - Time  Pickup - Day of Month  Pickup - Weekday (Mo = 1)  \\\n",
              "0              10:04:47 AM                      9                          5   \n",
              "1              11:40:22 AM                     12                          5   \n",
              "2              12:49:34 PM                     30                          2   \n",
              "3               9:37:56 AM                     15                          5   \n",
              "4              10:03:53 AM                     13                          1   \n",
              "\n",
              "  Pickup - Time  Arrival at Destination - Day of Month  \\\n",
              "0   10:27:30 AM                                      9   \n",
              "1   11:44:09 AM                                     12   \n",
              "2   12:53:03 PM                                     30   \n",
              "3    9:43:06 AM                                     15   \n",
              "4   10:05:23 AM                                     13   \n",
              "\n",
              "   Arrival at Destination - Weekday (Mo = 1) Arrival at Destination - Time  \\\n",
              "0                                          5                   10:39:55 AM   \n",
              "1                                          5                   12:17:22 PM   \n",
              "2                                          2                    1:00:38 PM   \n",
              "3                                          5                   10:05:27 AM   \n",
              "4                                          1                   10:25:37 AM   \n",
              "\n",
              "   Distance (KM)  Temperature  Precipitation in millimeters  Pickup Lat  \\\n",
              "0              4         20.4                           NaN   -1.317755   \n",
              "1             16         26.4                           NaN   -1.351453   \n",
              "2              3          NaN                           NaN   -1.308284   \n",
              "3              9         19.2                           NaN   -1.281301   \n",
              "4              9         15.4                           NaN   -1.266597   \n",
              "\n",
              "   Pickup Long  Destination Lat  Destination Long      Rider Id  \\\n",
              "0    36.830370        -1.300406         36.829741  Rider_Id_432   \n",
              "1    36.899315        -1.295004         36.814358  Rider_Id_856   \n",
              "2    36.843419        -1.300921         36.828195  Rider_Id_155   \n",
              "3    36.832396        -1.257147         36.795063  Rider_Id_855   \n",
              "4    36.792118        -1.295041         36.809817  Rider_Id_770   \n",
              "\n",
              "   Time from Pickup to Arrival  \n",
              "0                          745  \n",
              "1                         1993  \n",
              "2                          455  \n",
              "3                         1341  \n",
              "4                         1214  "
            ],
            "text/html": [
              "\n",
              "  <div id=\"df-84d61e4d-40f6-4cb6-8a0b-dad2a413fc4b\">\n",
              "    <div class=\"colab-df-container\">\n",
              "      <div>\n",
              "<style scoped>\n",
              "    .dataframe tbody tr th:only-of-type {\n",
              "        vertical-align: middle;\n",
              "    }\n",
              "\n",
              "    .dataframe tbody tr th {\n",
              "        vertical-align: top;\n",
              "    }\n",
              "\n",
              "    .dataframe thead th {\n",
              "        text-align: right;\n",
              "    }\n",
              "</style>\n",
              "<table border=\"1\" class=\"dataframe\">\n",
              "  <thead>\n",
              "    <tr style=\"text-align: right;\">\n",
              "      <th></th>\n",
              "      <th>Order No</th>\n",
              "      <th>User Id</th>\n",
              "      <th>Vehicle Type</th>\n",
              "      <th>Platform Type</th>\n",
              "      <th>Personal or Business</th>\n",
              "      <th>Placement - Day of Month</th>\n",
              "      <th>Placement - Weekday (Mo = 1)</th>\n",
              "      <th>Placement - Time</th>\n",
              "      <th>Confirmation - Day of Month</th>\n",
              "      <th>Confirmation - Weekday (Mo = 1)</th>\n",
              "      <th>Confirmation - Time</th>\n",
              "      <th>Arrival at Pickup - Day of Month</th>\n",
              "      <th>Arrival at Pickup - Weekday (Mo = 1)</th>\n",
              "      <th>Arrival at Pickup - Time</th>\n",
              "      <th>Pickup - Day of Month</th>\n",
              "      <th>Pickup - Weekday (Mo = 1)</th>\n",
              "      <th>Pickup - Time</th>\n",
              "      <th>Arrival at Destination - Day of Month</th>\n",
              "      <th>Arrival at Destination - Weekday (Mo = 1)</th>\n",
              "      <th>Arrival at Destination - Time</th>\n",
              "      <th>Distance (KM)</th>\n",
              "      <th>Temperature</th>\n",
              "      <th>Precipitation in millimeters</th>\n",
              "      <th>Pickup Lat</th>\n",
              "      <th>Pickup Long</th>\n",
              "      <th>Destination Lat</th>\n",
              "      <th>Destination Long</th>\n",
              "      <th>Rider Id</th>\n",
              "      <th>Time from Pickup to Arrival</th>\n",
              "    </tr>\n",
              "  </thead>\n",
              "  <tbody>\n",
              "    <tr>\n",
              "      <th>0</th>\n",
              "      <td>Order_No_4211</td>\n",
              "      <td>User_Id_633</td>\n",
              "      <td>Bike</td>\n",
              "      <td>3</td>\n",
              "      <td>Business</td>\n",
              "      <td>9</td>\n",
              "      <td>5</td>\n",
              "      <td>9:35:46 AM</td>\n",
              "      <td>9</td>\n",
              "      <td>5</td>\n",
              "      <td>9:40:10 AM</td>\n",
              "      <td>9</td>\n",
              "      <td>5</td>\n",
              "      <td>10:04:47 AM</td>\n",
              "      <td>9</td>\n",
              "      <td>5</td>\n",
              "      <td>10:27:30 AM</td>\n",
              "      <td>9</td>\n",
              "      <td>5</td>\n",
              "      <td>10:39:55 AM</td>\n",
              "      <td>4</td>\n",
              "      <td>20.4</td>\n",
              "      <td>NaN</td>\n",
              "      <td>-1.317755</td>\n",
              "      <td>36.830370</td>\n",
              "      <td>-1.300406</td>\n",
              "      <td>36.829741</td>\n",
              "      <td>Rider_Id_432</td>\n",
              "      <td>745</td>\n",
              "    </tr>\n",
              "    <tr>\n",
              "      <th>1</th>\n",
              "      <td>Order_No_25375</td>\n",
              "      <td>User_Id_2285</td>\n",
              "      <td>Bike</td>\n",
              "      <td>3</td>\n",
              "      <td>Personal</td>\n",
              "      <td>12</td>\n",
              "      <td>5</td>\n",
              "      <td>11:16:16 AM</td>\n",
              "      <td>12</td>\n",
              "      <td>5</td>\n",
              "      <td>11:23:21 AM</td>\n",
              "      <td>12</td>\n",
              "      <td>5</td>\n",
              "      <td>11:40:22 AM</td>\n",
              "      <td>12</td>\n",
              "      <td>5</td>\n",
              "      <td>11:44:09 AM</td>\n",
              "      <td>12</td>\n",
              "      <td>5</td>\n",
              "      <td>12:17:22 PM</td>\n",
              "      <td>16</td>\n",
              "      <td>26.4</td>\n",
              "      <td>NaN</td>\n",
              "      <td>-1.351453</td>\n",
              "      <td>36.899315</td>\n",
              "      <td>-1.295004</td>\n",
              "      <td>36.814358</td>\n",
              "      <td>Rider_Id_856</td>\n",
              "      <td>1993</td>\n",
              "    </tr>\n",
              "    <tr>\n",
              "      <th>2</th>\n",
              "      <td>Order_No_1899</td>\n",
              "      <td>User_Id_265</td>\n",
              "      <td>Bike</td>\n",
              "      <td>3</td>\n",
              "      <td>Business</td>\n",
              "      <td>30</td>\n",
              "      <td>2</td>\n",
              "      <td>12:39:25 PM</td>\n",
              "      <td>30</td>\n",
              "      <td>2</td>\n",
              "      <td>12:42:44 PM</td>\n",
              "      <td>30</td>\n",
              "      <td>2</td>\n",
              "      <td>12:49:34 PM</td>\n",
              "      <td>30</td>\n",
              "      <td>2</td>\n",
              "      <td>12:53:03 PM</td>\n",
              "      <td>30</td>\n",
              "      <td>2</td>\n",
              "      <td>1:00:38 PM</td>\n",
              "      <td>3</td>\n",
              "      <td>NaN</td>\n",
              "      <td>NaN</td>\n",
              "      <td>-1.308284</td>\n",
              "      <td>36.843419</td>\n",
              "      <td>-1.300921</td>\n",
              "      <td>36.828195</td>\n",
              "      <td>Rider_Id_155</td>\n",
              "      <td>455</td>\n",
              "    </tr>\n",
              "    <tr>\n",
              "      <th>3</th>\n",
              "      <td>Order_No_9336</td>\n",
              "      <td>User_Id_1402</td>\n",
              "      <td>Bike</td>\n",
              "      <td>3</td>\n",
              "      <td>Business</td>\n",
              "      <td>15</td>\n",
              "      <td>5</td>\n",
              "      <td>9:25:34 AM</td>\n",
              "      <td>15</td>\n",
              "      <td>5</td>\n",
              "      <td>9:26:05 AM</td>\n",
              "      <td>15</td>\n",
              "      <td>5</td>\n",
              "      <td>9:37:56 AM</td>\n",
              "      <td>15</td>\n",
              "      <td>5</td>\n",
              "      <td>9:43:06 AM</td>\n",
              "      <td>15</td>\n",
              "      <td>5</td>\n",
              "      <td>10:05:27 AM</td>\n",
              "      <td>9</td>\n",
              "      <td>19.2</td>\n",
              "      <td>NaN</td>\n",
              "      <td>-1.281301</td>\n",
              "      <td>36.832396</td>\n",
              "      <td>-1.257147</td>\n",
              "      <td>36.795063</td>\n",
              "      <td>Rider_Id_855</td>\n",
              "      <td>1341</td>\n",
              "    </tr>\n",
              "    <tr>\n",
              "      <th>4</th>\n",
              "      <td>Order_No_27883</td>\n",
              "      <td>User_Id_1737</td>\n",
              "      <td>Bike</td>\n",
              "      <td>1</td>\n",
              "      <td>Personal</td>\n",
              "      <td>13</td>\n",
              "      <td>1</td>\n",
              "      <td>9:55:18 AM</td>\n",
              "      <td>13</td>\n",
              "      <td>1</td>\n",
              "      <td>9:56:18 AM</td>\n",
              "      <td>13</td>\n",
              "      <td>1</td>\n",
              "      <td>10:03:53 AM</td>\n",
              "      <td>13</td>\n",
              "      <td>1</td>\n",
              "      <td>10:05:23 AM</td>\n",
              "      <td>13</td>\n",
              "      <td>1</td>\n",
              "      <td>10:25:37 AM</td>\n",
              "      <td>9</td>\n",
              "      <td>15.4</td>\n",
              "      <td>NaN</td>\n",
              "      <td>-1.266597</td>\n",
              "      <td>36.792118</td>\n",
              "      <td>-1.295041</td>\n",
              "      <td>36.809817</td>\n",
              "      <td>Rider_Id_770</td>\n",
              "      <td>1214</td>\n",
              "    </tr>\n",
              "  </tbody>\n",
              "</table>\n",
              "</div>\n",
              "      <button class=\"colab-df-convert\" onclick=\"convertToInteractive('df-84d61e4d-40f6-4cb6-8a0b-dad2a413fc4b')\"\n",
              "              title=\"Convert this dataframe to an interactive table.\"\n",
              "              style=\"display:none;\">\n",
              "        \n",
              "  <svg xmlns=\"http://www.w3.org/2000/svg\" height=\"24px\"viewBox=\"0 0 24 24\"\n",
              "       width=\"24px\">\n",
              "    <path d=\"M0 0h24v24H0V0z\" fill=\"none\"/>\n",
              "    <path d=\"M18.56 5.44l.94 2.06.94-2.06 2.06-.94-2.06-.94-.94-2.06-.94 2.06-2.06.94zm-11 1L8.5 8.5l.94-2.06 2.06-.94-2.06-.94L8.5 2.5l-.94 2.06-2.06.94zm10 10l.94 2.06.94-2.06 2.06-.94-2.06-.94-.94-2.06-.94 2.06-2.06.94z\"/><path d=\"M17.41 7.96l-1.37-1.37c-.4-.4-.92-.59-1.43-.59-.52 0-1.04.2-1.43.59L10.3 9.45l-7.72 7.72c-.78.78-.78 2.05 0 2.83L4 21.41c.39.39.9.59 1.41.59.51 0 1.02-.2 1.41-.59l7.78-7.78 2.81-2.81c.8-.78.8-2.07 0-2.86zM5.41 20L4 18.59l7.72-7.72 1.47 1.35L5.41 20z\"/>\n",
              "  </svg>\n",
              "      </button>\n",
              "      \n",
              "  <style>\n",
              "    .colab-df-container {\n",
              "      display:flex;\n",
              "      flex-wrap:wrap;\n",
              "      gap: 12px;\n",
              "    }\n",
              "\n",
              "    .colab-df-convert {\n",
              "      background-color: #E8F0FE;\n",
              "      border: none;\n",
              "      border-radius: 50%;\n",
              "      cursor: pointer;\n",
              "      display: none;\n",
              "      fill: #1967D2;\n",
              "      height: 32px;\n",
              "      padding: 0 0 0 0;\n",
              "      width: 32px;\n",
              "    }\n",
              "\n",
              "    .colab-df-convert:hover {\n",
              "      background-color: #E2EBFA;\n",
              "      box-shadow: 0px 1px 2px rgba(60, 64, 67, 0.3), 0px 1px 3px 1px rgba(60, 64, 67, 0.15);\n",
              "      fill: #174EA6;\n",
              "    }\n",
              "\n",
              "    [theme=dark] .colab-df-convert {\n",
              "      background-color: #3B4455;\n",
              "      fill: #D2E3FC;\n",
              "    }\n",
              "\n",
              "    [theme=dark] .colab-df-convert:hover {\n",
              "      background-color: #434B5C;\n",
              "      box-shadow: 0px 1px 3px 1px rgba(0, 0, 0, 0.15);\n",
              "      filter: drop-shadow(0px 1px 2px rgba(0, 0, 0, 0.3));\n",
              "      fill: #FFFFFF;\n",
              "    }\n",
              "  </style>\n",
              "\n",
              "      <script>\n",
              "        const buttonEl =\n",
              "          document.querySelector('#df-84d61e4d-40f6-4cb6-8a0b-dad2a413fc4b button.colab-df-convert');\n",
              "        buttonEl.style.display =\n",
              "          google.colab.kernel.accessAllowed ? 'block' : 'none';\n",
              "\n",
              "        async function convertToInteractive(key) {\n",
              "          const element = document.querySelector('#df-84d61e4d-40f6-4cb6-8a0b-dad2a413fc4b');\n",
              "          const dataTable =\n",
              "            await google.colab.kernel.invokeFunction('convertToInteractive',\n",
              "                                                     [key], {});\n",
              "          if (!dataTable) return;\n",
              "\n",
              "          const docLinkHtml = 'Like what you see? Visit the ' +\n",
              "            '<a target=\"_blank\" href=https://colab.research.google.com/notebooks/data_table.ipynb>data table notebook</a>'\n",
              "            + ' to learn more about interactive tables.';\n",
              "          element.innerHTML = '';\n",
              "          dataTable['output_type'] = 'display_data';\n",
              "          await google.colab.output.renderOutput(dataTable, element);\n",
              "          const docLink = document.createElement('div');\n",
              "          docLink.innerHTML = docLinkHtml;\n",
              "          element.appendChild(docLink);\n",
              "        }\n",
              "      </script>\n",
              "    </div>\n",
              "  </div>\n",
              "  "
            ]
          },
          "metadata": {},
          "execution_count": 5
        }
      ]
    },
    {
      "cell_type": "code",
      "metadata": {
        "id": "87pOSl5MhcdL",
        "colab": {
          "base_uri": "https://localhost:8080/",
          "height": 461
        },
        "outputId": "3d0f86e5-89cc-4ee1-ff24-f313262a7c57"
      },
      "source": [
        "# Checking the last 5 rows of data\n",
        "# ---\n",
        "df.tail(5)"
      ],
      "execution_count": 6,
      "outputs": [
        {
          "output_type": "execute_result",
          "data": {
            "text/plain": [
              "             Order No       User Id Vehicle Type  Platform Type  \\\n",
              "21196   Order_No_8834  User_Id_2001         Bike              3   \n",
              "21197  Order_No_22892  User_Id_1796         Bike              3   \n",
              "21198   Order_No_2831  User_Id_2956         Bike              3   \n",
              "21199   Order_No_6174  User_Id_2524         Bike              1   \n",
              "21200   Order_No_9836   User_Id_718         Bike              3   \n",
              "\n",
              "      Personal or Business  Placement - Day of Month  \\\n",
              "21196             Personal                        20   \n",
              "21197             Business                        13   \n",
              "21198             Business                         7   \n",
              "21199             Personal                         4   \n",
              "21200             Business                        26   \n",
              "\n",
              "       Placement - Weekday (Mo = 1) Placement - Time  \\\n",
              "21196                             3       3:54:38 PM   \n",
              "21197                             6      10:13:34 AM   \n",
              "21198                             4       5:06:16 PM   \n",
              "21199                             3       9:31:39 AM   \n",
              "21200                             2       2:19:47 PM   \n",
              "\n",
              "       Confirmation - Day of Month  Confirmation - Weekday (Mo = 1)  \\\n",
              "21196                           20                                3   \n",
              "21197                           13                                6   \n",
              "21198                            7                                4   \n",
              "21199                            4                                3   \n",
              "21200                           26                                2   \n",
              "\n",
              "      Confirmation - Time  Arrival at Pickup - Day of Month  \\\n",
              "21196          3:55:09 PM                                20   \n",
              "21197         10:13:41 AM                                13   \n",
              "21198          5:07:09 PM                                 7   \n",
              "21199          9:31:53 AM                                 4   \n",
              "21200          2:20:01 PM                                26   \n",
              "\n",
              "       Arrival at Pickup - Weekday (Mo = 1) Arrival at Pickup - Time  \\\n",
              "21196                                     3               3:58:49 PM   \n",
              "21197                                     6              10:20:04 AM   \n",
              "21198                                     4               5:30:17 PM   \n",
              "21199                                     3               9:38:59 AM   \n",
              "21200                                     2               2:24:29 PM   \n",
              "\n",
              "       Pickup - Day of Month  Pickup - Weekday (Mo = 1) Pickup - Time  \\\n",
              "21196                     20                          3    4:20:08 PM   \n",
              "21197                     13                          6   10:33:27 AM   \n",
              "21198                      7                          4    5:50:52 PM   \n",
              "21199                      4                          3    9:45:15 AM   \n",
              "21200                     26                          2    2:41:55 PM   \n",
              "\n",
              "       Arrival at Destination - Day of Month  \\\n",
              "21196                                     20   \n",
              "21197                                     13   \n",
              "21198                                      7   \n",
              "21199                                      4   \n",
              "21200                                     26   \n",
              "\n",
              "       Arrival at Destination - Weekday (Mo = 1)  \\\n",
              "21196                                          3   \n",
              "21197                                          6   \n",
              "21198                                          4   \n",
              "21199                                          3   \n",
              "21200                                          2   \n",
              "\n",
              "      Arrival at Destination - Time  Distance (KM)  Temperature  \\\n",
              "21196                    4:20:17 PM              3         28.6   \n",
              "21197                   10:46:17 AM              7         26.0   \n",
              "21198                    6:40:05 PM             20         29.2   \n",
              "21199                   10:08:15 AM             13         15.0   \n",
              "21200                    3:17:23 PM             12         30.9   \n",
              "\n",
              "       Precipitation in millimeters  Pickup Lat  Pickup Long  Destination Lat  \\\n",
              "21196                           NaN   -1.258414    36.804800        -1.275285   \n",
              "21197                           NaN   -1.307143    36.825009        -1.331619   \n",
              "21198                           NaN   -1.286018    36.897534        -1.258414   \n",
              "21199                           NaN   -1.250030    36.874167        -1.279210   \n",
              "21200                           NaN   -1.255189    36.782203        -1.320157   \n",
              "\n",
              "       Destination Long      Rider Id  Time from Pickup to Arrival  \n",
              "21196         36.802702  Rider_Id_953                            9  \n",
              "21197         36.847976  Rider_Id_155                          770  \n",
              "21198         36.804800  Rider_Id_697                         2953  \n",
              "21199         36.794872  Rider_Id_347                         1380  \n",
              "21200         36.830887  Rider_Id_177                         2128  "
            ],
            "text/html": [
              "\n",
              "  <div id=\"df-a9741e0c-5bee-40d2-b9cc-d9efebdf84e0\">\n",
              "    <div class=\"colab-df-container\">\n",
              "      <div>\n",
              "<style scoped>\n",
              "    .dataframe tbody tr th:only-of-type {\n",
              "        vertical-align: middle;\n",
              "    }\n",
              "\n",
              "    .dataframe tbody tr th {\n",
              "        vertical-align: top;\n",
              "    }\n",
              "\n",
              "    .dataframe thead th {\n",
              "        text-align: right;\n",
              "    }\n",
              "</style>\n",
              "<table border=\"1\" class=\"dataframe\">\n",
              "  <thead>\n",
              "    <tr style=\"text-align: right;\">\n",
              "      <th></th>\n",
              "      <th>Order No</th>\n",
              "      <th>User Id</th>\n",
              "      <th>Vehicle Type</th>\n",
              "      <th>Platform Type</th>\n",
              "      <th>Personal or Business</th>\n",
              "      <th>Placement - Day of Month</th>\n",
              "      <th>Placement - Weekday (Mo = 1)</th>\n",
              "      <th>Placement - Time</th>\n",
              "      <th>Confirmation - Day of Month</th>\n",
              "      <th>Confirmation - Weekday (Mo = 1)</th>\n",
              "      <th>Confirmation - Time</th>\n",
              "      <th>Arrival at Pickup - Day of Month</th>\n",
              "      <th>Arrival at Pickup - Weekday (Mo = 1)</th>\n",
              "      <th>Arrival at Pickup - Time</th>\n",
              "      <th>Pickup - Day of Month</th>\n",
              "      <th>Pickup - Weekday (Mo = 1)</th>\n",
              "      <th>Pickup - Time</th>\n",
              "      <th>Arrival at Destination - Day of Month</th>\n",
              "      <th>Arrival at Destination - Weekday (Mo = 1)</th>\n",
              "      <th>Arrival at Destination - Time</th>\n",
              "      <th>Distance (KM)</th>\n",
              "      <th>Temperature</th>\n",
              "      <th>Precipitation in millimeters</th>\n",
              "      <th>Pickup Lat</th>\n",
              "      <th>Pickup Long</th>\n",
              "      <th>Destination Lat</th>\n",
              "      <th>Destination Long</th>\n",
              "      <th>Rider Id</th>\n",
              "      <th>Time from Pickup to Arrival</th>\n",
              "    </tr>\n",
              "  </thead>\n",
              "  <tbody>\n",
              "    <tr>\n",
              "      <th>21196</th>\n",
              "      <td>Order_No_8834</td>\n",
              "      <td>User_Id_2001</td>\n",
              "      <td>Bike</td>\n",
              "      <td>3</td>\n",
              "      <td>Personal</td>\n",
              "      <td>20</td>\n",
              "      <td>3</td>\n",
              "      <td>3:54:38 PM</td>\n",
              "      <td>20</td>\n",
              "      <td>3</td>\n",
              "      <td>3:55:09 PM</td>\n",
              "      <td>20</td>\n",
              "      <td>3</td>\n",
              "      <td>3:58:49 PM</td>\n",
              "      <td>20</td>\n",
              "      <td>3</td>\n",
              "      <td>4:20:08 PM</td>\n",
              "      <td>20</td>\n",
              "      <td>3</td>\n",
              "      <td>4:20:17 PM</td>\n",
              "      <td>3</td>\n",
              "      <td>28.6</td>\n",
              "      <td>NaN</td>\n",
              "      <td>-1.258414</td>\n",
              "      <td>36.804800</td>\n",
              "      <td>-1.275285</td>\n",
              "      <td>36.802702</td>\n",
              "      <td>Rider_Id_953</td>\n",
              "      <td>9</td>\n",
              "    </tr>\n",
              "    <tr>\n",
              "      <th>21197</th>\n",
              "      <td>Order_No_22892</td>\n",
              "      <td>User_Id_1796</td>\n",
              "      <td>Bike</td>\n",
              "      <td>3</td>\n",
              "      <td>Business</td>\n",
              "      <td>13</td>\n",
              "      <td>6</td>\n",
              "      <td>10:13:34 AM</td>\n",
              "      <td>13</td>\n",
              "      <td>6</td>\n",
              "      <td>10:13:41 AM</td>\n",
              "      <td>13</td>\n",
              "      <td>6</td>\n",
              "      <td>10:20:04 AM</td>\n",
              "      <td>13</td>\n",
              "      <td>6</td>\n",
              "      <td>10:33:27 AM</td>\n",
              "      <td>13</td>\n",
              "      <td>6</td>\n",
              "      <td>10:46:17 AM</td>\n",
              "      <td>7</td>\n",
              "      <td>26.0</td>\n",
              "      <td>NaN</td>\n",
              "      <td>-1.307143</td>\n",
              "      <td>36.825009</td>\n",
              "      <td>-1.331619</td>\n",
              "      <td>36.847976</td>\n",
              "      <td>Rider_Id_155</td>\n",
              "      <td>770</td>\n",
              "    </tr>\n",
              "    <tr>\n",
              "      <th>21198</th>\n",
              "      <td>Order_No_2831</td>\n",
              "      <td>User_Id_2956</td>\n",
              "      <td>Bike</td>\n",
              "      <td>3</td>\n",
              "      <td>Business</td>\n",
              "      <td>7</td>\n",
              "      <td>4</td>\n",
              "      <td>5:06:16 PM</td>\n",
              "      <td>7</td>\n",
              "      <td>4</td>\n",
              "      <td>5:07:09 PM</td>\n",
              "      <td>7</td>\n",
              "      <td>4</td>\n",
              "      <td>5:30:17 PM</td>\n",
              "      <td>7</td>\n",
              "      <td>4</td>\n",
              "      <td>5:50:52 PM</td>\n",
              "      <td>7</td>\n",
              "      <td>4</td>\n",
              "      <td>6:40:05 PM</td>\n",
              "      <td>20</td>\n",
              "      <td>29.2</td>\n",
              "      <td>NaN</td>\n",
              "      <td>-1.286018</td>\n",
              "      <td>36.897534</td>\n",
              "      <td>-1.258414</td>\n",
              "      <td>36.804800</td>\n",
              "      <td>Rider_Id_697</td>\n",
              "      <td>2953</td>\n",
              "    </tr>\n",
              "    <tr>\n",
              "      <th>21199</th>\n",
              "      <td>Order_No_6174</td>\n",
              "      <td>User_Id_2524</td>\n",
              "      <td>Bike</td>\n",
              "      <td>1</td>\n",
              "      <td>Personal</td>\n",
              "      <td>4</td>\n",
              "      <td>3</td>\n",
              "      <td>9:31:39 AM</td>\n",
              "      <td>4</td>\n",
              "      <td>3</td>\n",
              "      <td>9:31:53 AM</td>\n",
              "      <td>4</td>\n",
              "      <td>3</td>\n",
              "      <td>9:38:59 AM</td>\n",
              "      <td>4</td>\n",
              "      <td>3</td>\n",
              "      <td>9:45:15 AM</td>\n",
              "      <td>4</td>\n",
              "      <td>3</td>\n",
              "      <td>10:08:15 AM</td>\n",
              "      <td>13</td>\n",
              "      <td>15.0</td>\n",
              "      <td>NaN</td>\n",
              "      <td>-1.250030</td>\n",
              "      <td>36.874167</td>\n",
              "      <td>-1.279210</td>\n",
              "      <td>36.794872</td>\n",
              "      <td>Rider_Id_347</td>\n",
              "      <td>1380</td>\n",
              "    </tr>\n",
              "    <tr>\n",
              "      <th>21200</th>\n",
              "      <td>Order_No_9836</td>\n",
              "      <td>User_Id_718</td>\n",
              "      <td>Bike</td>\n",
              "      <td>3</td>\n",
              "      <td>Business</td>\n",
              "      <td>26</td>\n",
              "      <td>2</td>\n",
              "      <td>2:19:47 PM</td>\n",
              "      <td>26</td>\n",
              "      <td>2</td>\n",
              "      <td>2:20:01 PM</td>\n",
              "      <td>26</td>\n",
              "      <td>2</td>\n",
              "      <td>2:24:29 PM</td>\n",
              "      <td>26</td>\n",
              "      <td>2</td>\n",
              "      <td>2:41:55 PM</td>\n",
              "      <td>26</td>\n",
              "      <td>2</td>\n",
              "      <td>3:17:23 PM</td>\n",
              "      <td>12</td>\n",
              "      <td>30.9</td>\n",
              "      <td>NaN</td>\n",
              "      <td>-1.255189</td>\n",
              "      <td>36.782203</td>\n",
              "      <td>-1.320157</td>\n",
              "      <td>36.830887</td>\n",
              "      <td>Rider_Id_177</td>\n",
              "      <td>2128</td>\n",
              "    </tr>\n",
              "  </tbody>\n",
              "</table>\n",
              "</div>\n",
              "      <button class=\"colab-df-convert\" onclick=\"convertToInteractive('df-a9741e0c-5bee-40d2-b9cc-d9efebdf84e0')\"\n",
              "              title=\"Convert this dataframe to an interactive table.\"\n",
              "              style=\"display:none;\">\n",
              "        \n",
              "  <svg xmlns=\"http://www.w3.org/2000/svg\" height=\"24px\"viewBox=\"0 0 24 24\"\n",
              "       width=\"24px\">\n",
              "    <path d=\"M0 0h24v24H0V0z\" fill=\"none\"/>\n",
              "    <path d=\"M18.56 5.44l.94 2.06.94-2.06 2.06-.94-2.06-.94-.94-2.06-.94 2.06-2.06.94zm-11 1L8.5 8.5l.94-2.06 2.06-.94-2.06-.94L8.5 2.5l-.94 2.06-2.06.94zm10 10l.94 2.06.94-2.06 2.06-.94-2.06-.94-.94-2.06-.94 2.06-2.06.94z\"/><path d=\"M17.41 7.96l-1.37-1.37c-.4-.4-.92-.59-1.43-.59-.52 0-1.04.2-1.43.59L10.3 9.45l-7.72 7.72c-.78.78-.78 2.05 0 2.83L4 21.41c.39.39.9.59 1.41.59.51 0 1.02-.2 1.41-.59l7.78-7.78 2.81-2.81c.8-.78.8-2.07 0-2.86zM5.41 20L4 18.59l7.72-7.72 1.47 1.35L5.41 20z\"/>\n",
              "  </svg>\n",
              "      </button>\n",
              "      \n",
              "  <style>\n",
              "    .colab-df-container {\n",
              "      display:flex;\n",
              "      flex-wrap:wrap;\n",
              "      gap: 12px;\n",
              "    }\n",
              "\n",
              "    .colab-df-convert {\n",
              "      background-color: #E8F0FE;\n",
              "      border: none;\n",
              "      border-radius: 50%;\n",
              "      cursor: pointer;\n",
              "      display: none;\n",
              "      fill: #1967D2;\n",
              "      height: 32px;\n",
              "      padding: 0 0 0 0;\n",
              "      width: 32px;\n",
              "    }\n",
              "\n",
              "    .colab-df-convert:hover {\n",
              "      background-color: #E2EBFA;\n",
              "      box-shadow: 0px 1px 2px rgba(60, 64, 67, 0.3), 0px 1px 3px 1px rgba(60, 64, 67, 0.15);\n",
              "      fill: #174EA6;\n",
              "    }\n",
              "\n",
              "    [theme=dark] .colab-df-convert {\n",
              "      background-color: #3B4455;\n",
              "      fill: #D2E3FC;\n",
              "    }\n",
              "\n",
              "    [theme=dark] .colab-df-convert:hover {\n",
              "      background-color: #434B5C;\n",
              "      box-shadow: 0px 1px 3px 1px rgba(0, 0, 0, 0.15);\n",
              "      filter: drop-shadow(0px 1px 2px rgba(0, 0, 0, 0.3));\n",
              "      fill: #FFFFFF;\n",
              "    }\n",
              "  </style>\n",
              "\n",
              "      <script>\n",
              "        const buttonEl =\n",
              "          document.querySelector('#df-a9741e0c-5bee-40d2-b9cc-d9efebdf84e0 button.colab-df-convert');\n",
              "        buttonEl.style.display =\n",
              "          google.colab.kernel.accessAllowed ? 'block' : 'none';\n",
              "\n",
              "        async function convertToInteractive(key) {\n",
              "          const element = document.querySelector('#df-a9741e0c-5bee-40d2-b9cc-d9efebdf84e0');\n",
              "          const dataTable =\n",
              "            await google.colab.kernel.invokeFunction('convertToInteractive',\n",
              "                                                     [key], {});\n",
              "          if (!dataTable) return;\n",
              "\n",
              "          const docLinkHtml = 'Like what you see? Visit the ' +\n",
              "            '<a target=\"_blank\" href=https://colab.research.google.com/notebooks/data_table.ipynb>data table notebook</a>'\n",
              "            + ' to learn more about interactive tables.';\n",
              "          element.innerHTML = '';\n",
              "          dataTable['output_type'] = 'display_data';\n",
              "          await google.colab.output.renderOutput(dataTable, element);\n",
              "          const docLink = document.createElement('div');\n",
              "          docLink.innerHTML = docLinkHtml;\n",
              "          element.appendChild(docLink);\n",
              "        }\n",
              "      </script>\n",
              "    </div>\n",
              "  </div>\n",
              "  "
            ]
          },
          "metadata": {},
          "execution_count": 6
        }
      ]
    },
    {
      "cell_type": "code",
      "metadata": {
        "id": "x3sfP6y2hgIS",
        "colab": {
          "base_uri": "https://localhost:8080/"
        },
        "outputId": "85d6774a-3b69-4b74-f8fb-5b2295b61a0e"
      },
      "source": [
        "# Checking number of rows and columns\n",
        "df.shape"
      ],
      "execution_count": 7,
      "outputs": [
        {
          "output_type": "execute_result",
          "data": {
            "text/plain": [
              "(21201, 29)"
            ]
          },
          "metadata": {},
          "execution_count": 7
        }
      ]
    },
    {
      "cell_type": "code",
      "metadata": {
        "id": "AovarG6Bhk4y",
        "colab": {
          "base_uri": "https://localhost:8080/"
        },
        "outputId": "0173a6d9-e963-448a-81f2-139167c2a262"
      },
      "source": [
        "# Checking datatypes\n",
        "df.info()"
      ],
      "execution_count": 8,
      "outputs": [
        {
          "output_type": "stream",
          "name": "stdout",
          "text": [
            "<class 'pandas.core.frame.DataFrame'>\n",
            "RangeIndex: 21201 entries, 0 to 21200\n",
            "Data columns (total 29 columns):\n",
            " #   Column                                     Non-Null Count  Dtype  \n",
            "---  ------                                     --------------  -----  \n",
            " 0   Order No                                   21201 non-null  object \n",
            " 1   User Id                                    21201 non-null  object \n",
            " 2   Vehicle Type                               21201 non-null  object \n",
            " 3   Platform Type                              21201 non-null  int64  \n",
            " 4   Personal or Business                       21201 non-null  object \n",
            " 5   Placement - Day of Month                   21201 non-null  int64  \n",
            " 6   Placement - Weekday (Mo = 1)               21201 non-null  int64  \n",
            " 7   Placement - Time                           21201 non-null  object \n",
            " 8   Confirmation - Day of Month                21201 non-null  int64  \n",
            " 9   Confirmation - Weekday (Mo = 1)            21201 non-null  int64  \n",
            " 10  Confirmation - Time                        21201 non-null  object \n",
            " 11  Arrival at Pickup - Day of Month           21201 non-null  int64  \n",
            " 12  Arrival at Pickup - Weekday (Mo = 1)       21201 non-null  int64  \n",
            " 13  Arrival at Pickup - Time                   21201 non-null  object \n",
            " 14  Pickup - Day of Month                      21201 non-null  int64  \n",
            " 15  Pickup - Weekday (Mo = 1)                  21201 non-null  int64  \n",
            " 16  Pickup - Time                              21201 non-null  object \n",
            " 17  Arrival at Destination - Day of Month      21201 non-null  int64  \n",
            " 18  Arrival at Destination - Weekday (Mo = 1)  21201 non-null  int64  \n",
            " 19  Arrival at Destination - Time              21201 non-null  object \n",
            " 20  Distance (KM)                              21201 non-null  int64  \n",
            " 21  Temperature                                16835 non-null  float64\n",
            " 22  Precipitation in millimeters               552 non-null    float64\n",
            " 23  Pickup Lat                                 21201 non-null  float64\n",
            " 24  Pickup Long                                21201 non-null  float64\n",
            " 25  Destination Lat                            21201 non-null  float64\n",
            " 26  Destination Long                           21201 non-null  float64\n",
            " 27  Rider Id                                   21201 non-null  object \n",
            " 28  Time from Pickup to Arrival                21201 non-null  int64  \n",
            "dtypes: float64(6), int64(13), object(10)\n",
            "memory usage: 4.7+ MB\n"
          ]
        }
      ]
    },
    {
      "cell_type": "markdown",
      "metadata": {
        "id": "sKNcQTasmCgA"
      },
      "source": [
        "Observations:\n",
        "\n",
        "*   The are 21201 observations in the dataset.\n",
        "*   The dataset has 29 features.\n",
        "*   There are 10 categorical features\n",
        "*   There are 19 numerical features\n",
        "\n"
      ]
    },
    {
      "cell_type": "markdown",
      "metadata": {
        "id": "ckfufNrcUHeH"
      },
      "source": [
        "## 3. External Data Source Validation"
      ]
    },
    {
      "cell_type": "markdown",
      "metadata": {
        "id": "6L4sl_0WXlbg"
      },
      "source": [
        "The provided dataset has enough features to help in developing a machine learning model that can predict delivery time."
      ]
    },
    {
      "cell_type": "markdown",
      "metadata": {
        "id": "FlBMxEDBUc9B"
      },
      "source": [
        "## 4. Data Preparation"
      ]
    },
    {
      "cell_type": "markdown",
      "source": [
        "### Data Standardisation"
      ],
      "metadata": {
        "id": "3R12ITECzhLt"
      }
    },
    {
      "cell_type": "code",
      "source": [
        "# Standardise column names\n",
        "# ---\n",
        "df.columns = df.columns.str.strip().str.lower().str.replace(\" \",\"_\")\n",
        "df.columns"
      ],
      "metadata": {
        "id": "AcHQpS8xzrDF",
        "colab": {
          "base_uri": "https://localhost:8080/"
        },
        "outputId": "da78d4f7-bc62-4908-fe58-135a38f26bea"
      },
      "execution_count": 9,
      "outputs": [
        {
          "output_type": "execute_result",
          "data": {
            "text/plain": [
              "Index(['order_no', 'user_id', 'vehicle_type', 'platform_type',\n",
              "       'personal_or_business', 'placement_-_day_of_month',\n",
              "       'placement_-_weekday_(mo_=_1)', 'placement_-_time',\n",
              "       'confirmation_-_day_of_month', 'confirmation_-_weekday_(mo_=_1)',\n",
              "       'confirmation_-_time', 'arrival_at_pickup_-_day_of_month',\n",
              "       'arrival_at_pickup_-_weekday_(mo_=_1)', 'arrival_at_pickup_-_time',\n",
              "       'pickup_-_day_of_month', 'pickup_-_weekday_(mo_=_1)', 'pickup_-_time',\n",
              "       'arrival_at_destination_-_day_of_month',\n",
              "       'arrival_at_destination_-_weekday_(mo_=_1)',\n",
              "       'arrival_at_destination_-_time', 'distance_(km)', 'temperature',\n",
              "       'precipitation_in_millimeters', 'pickup_lat', 'pickup_long',\n",
              "       'destination_lat', 'destination_long', 'rider_id',\n",
              "       'time_from_pickup_to_arrival'],\n",
              "      dtype='object')"
            ]
          },
          "metadata": {},
          "execution_count": 9
        }
      ]
    },
    {
      "cell_type": "markdown",
      "metadata": {
        "id": "YNtWOlYAkcO_"
      },
      "source": [
        "### Data Cleaning"
      ]
    },
    {
      "cell_type": "markdown",
      "source": [
        "#### Irrelevant Data"
      ],
      "metadata": {
        "id": "fjn4T1d74jfH"
      }
    },
    {
      "cell_type": "markdown",
      "source": [
        "The columns *order_no, user_id* and *rider_id* serve as identifier variables and serve no major purpose in modelling, hence I will remove them."
      ],
      "metadata": {
        "id": "wab4jk7S6bgH"
      }
    },
    {
      "cell_type": "code",
      "source": [
        "df.drop(columns=['order_no', 'user_id', 'rider_id'],inplace=True)"
      ],
      "metadata": {
        "id": "P-mCiUUa5nXT"
      },
      "execution_count": 10,
      "outputs": []
    },
    {
      "cell_type": "code",
      "source": [
        "vehicle_type_count = df['vehicle_type'].value_counts()\n",
        "vehicle_type_count"
      ],
      "metadata": {
        "colab": {
          "base_uri": "https://localhost:8080/"
        },
        "id": "jheWwuCcE2Qn",
        "outputId": "65f7d8ff-fad5-436d-c63d-093147ca38c3"
      },
      "execution_count": 11,
      "outputs": [
        {
          "output_type": "execute_result",
          "data": {
            "text/plain": [
              "Bike    21201\n",
              "Name: vehicle_type, dtype: int64"
            ]
          },
          "metadata": {},
          "execution_count": 11
        }
      ]
    },
    {
      "cell_type": "markdown",
      "source": [
        "There is only one vehicle type, hence it won't have an impact on modelling."
      ],
      "metadata": {
        "id": "Qm59jyIMFJcI"
      }
    },
    {
      "cell_type": "code",
      "source": [
        "df.drop(columns=['vehicle_type'],inplace=True)"
      ],
      "metadata": {
        "id": "m6sElE7vF75Y"
      },
      "execution_count": 12,
      "outputs": []
    },
    {
      "cell_type": "markdown",
      "source": [
        "In my opinion, the time related variables that are relevant in determining delivery time, are those that measure time from the moment an Order is picked up. Hence, I will keep a single 'Day of Month', 'Weekday' and 'Time' column for 'Pickup'."
      ],
      "metadata": {
        "id": "aVCS4su1PBPJ"
      }
    },
    {
      "cell_type": "code",
      "source": [
        "time_cols_drop = ['confirmation_-_day_of_month', 'confirmation_-_weekday_(mo_=_1)', \\\n",
        "           'confirmation_-_time', 'arrival_at_pickup_-_day_of_month', 'arrival_at_pickup_-_weekday_(mo_=_1)', \\\n",
        "           'arrival_at_pickup_-_time','pickup_-_day_of_month', 'pickup_-_weekday_(mo_=_1)']\n",
        "\n",
        "df.drop(time_cols_drop, inplace=True, axis=1)"
      ],
      "metadata": {
        "id": "15EN5Dq-XEuY"
      },
      "execution_count": 13,
      "outputs": []
    },
    {
      "cell_type": "markdown",
      "source": [
        "#### Duplicate data"
      ],
      "metadata": {
        "id": "ICn1Irlb5LWy"
      }
    },
    {
      "cell_type": "code",
      "source": [
        "# Find the total duplicate records\n",
        "df.duplicated().sum()"
      ],
      "metadata": {
        "colab": {
          "base_uri": "https://localhost:8080/"
        },
        "id": "dvpfHp1x7gbT",
        "outputId": "ed8c37f5-c8a8-4d0d-a879-68408f76090c"
      },
      "execution_count": 14,
      "outputs": [
        {
          "output_type": "execute_result",
          "data": {
            "text/plain": [
              "0"
            ]
          },
          "metadata": {},
          "execution_count": 14
        }
      ]
    },
    {
      "cell_type": "markdown",
      "source": [
        "#### Missing Data"
      ],
      "metadata": {
        "id": "nocqWsTV5UcU"
      }
    },
    {
      "cell_type": "code",
      "metadata": {
        "id": "YYxrLT0GiQSc",
        "colab": {
          "base_uri": "https://localhost:8080/"
        },
        "outputId": "29bcde5b-b1a6-47d4-ff71-d28835a83886"
      },
      "source": [
        "# Checking missing entries of all the variables\n",
        "# ---\n",
        "# \n",
        "df.isnull().sum()"
      ],
      "execution_count": 15,
      "outputs": [
        {
          "output_type": "execute_result",
          "data": {
            "text/plain": [
              "platform_type                                    0\n",
              "personal_or_business                             0\n",
              "placement_-_day_of_month                         0\n",
              "placement_-_weekday_(mo_=_1)                     0\n",
              "placement_-_time                                 0\n",
              "pickup_-_time                                    0\n",
              "arrival_at_destination_-_day_of_month            0\n",
              "arrival_at_destination_-_weekday_(mo_=_1)        0\n",
              "arrival_at_destination_-_time                    0\n",
              "distance_(km)                                    0\n",
              "temperature                                   4366\n",
              "precipitation_in_millimeters                 20649\n",
              "pickup_lat                                       0\n",
              "pickup_long                                      0\n",
              "destination_lat                                  0\n",
              "destination_long                                 0\n",
              "time_from_pickup_to_arrival                      0\n",
              "dtype: int64"
            ]
          },
          "metadata": {},
          "execution_count": 15
        }
      ]
    },
    {
      "cell_type": "markdown",
      "source": [
        "Since Nairobi is arid to semi-arid, precipitation in this case will refer to rainfall. Rainfall affects traffic and road confitions, hence I won't remove this variable. I will replace the null values with 0 mm of rainfall, assuming that the missing values imply no rainfall."
      ],
      "metadata": {
        "id": "7GOkL62wpUWa"
      }
    },
    {
      "cell_type": "code",
      "source": [
        "df['precipitation_in_millimeters'].fillna(0,inplace=True)"
      ],
      "metadata": {
        "id": "Jd9H4cHbqS_X"
      },
      "execution_count": 16,
      "outputs": []
    },
    {
      "cell_type": "markdown",
      "source": [
        "I will replace the missing values in the temperature values with the mean"
      ],
      "metadata": {
        "id": "aYt40m0LtP8-"
      }
    },
    {
      "cell_type": "code",
      "source": [
        "# I will replace null values in the `temperature` column with the mean\n",
        "df['temperature'].fillna(value=df['temperature'].mean(), inplace=True)\n",
        "df.info()"
      ],
      "metadata": {
        "id": "hvcFdh9VBCHt",
        "colab": {
          "base_uri": "https://localhost:8080/"
        },
        "outputId": "752b26af-e4fa-47fb-83e7-cac7c03939b7"
      },
      "execution_count": 17,
      "outputs": [
        {
          "output_type": "stream",
          "name": "stdout",
          "text": [
            "<class 'pandas.core.frame.DataFrame'>\n",
            "RangeIndex: 21201 entries, 0 to 21200\n",
            "Data columns (total 17 columns):\n",
            " #   Column                                     Non-Null Count  Dtype  \n",
            "---  ------                                     --------------  -----  \n",
            " 0   platform_type                              21201 non-null  int64  \n",
            " 1   personal_or_business                       21201 non-null  object \n",
            " 2   placement_-_day_of_month                   21201 non-null  int64  \n",
            " 3   placement_-_weekday_(mo_=_1)               21201 non-null  int64  \n",
            " 4   placement_-_time                           21201 non-null  object \n",
            " 5   pickup_-_time                              21201 non-null  object \n",
            " 6   arrival_at_destination_-_day_of_month      21201 non-null  int64  \n",
            " 7   arrival_at_destination_-_weekday_(mo_=_1)  21201 non-null  int64  \n",
            " 8   arrival_at_destination_-_time              21201 non-null  object \n",
            " 9   distance_(km)                              21201 non-null  int64  \n",
            " 10  temperature                                21201 non-null  float64\n",
            " 11  precipitation_in_millimeters               21201 non-null  float64\n",
            " 12  pickup_lat                                 21201 non-null  float64\n",
            " 13  pickup_long                                21201 non-null  float64\n",
            " 14  destination_lat                            21201 non-null  float64\n",
            " 15  destination_long                           21201 non-null  float64\n",
            " 16  time_from_pickup_to_arrival                21201 non-null  int64  \n",
            "dtypes: float64(6), int64(7), object(4)\n",
            "memory usage: 2.7+ MB\n"
          ]
        }
      ]
    },
    {
      "cell_type": "markdown",
      "source": [
        "I will encode the personal_or_business variable"
      ],
      "metadata": {
        "id": "96Xs2ijF36dv"
      }
    },
    {
      "cell_type": "code",
      "source": [
        "df['personal_or_business'] = df['personal_or_business'].astype('category').cat.codes\n",
        "df['personal_or_business'].value_counts()"
      ],
      "metadata": {
        "colab": {
          "base_uri": "https://localhost:8080/"
        },
        "id": "366mHQK14ALi",
        "outputId": "1e59c615-4766-42df-efc9-590531cc5038"
      },
      "execution_count": 18,
      "outputs": [
        {
          "output_type": "execute_result",
          "data": {
            "text/plain": [
              "0    17384\n",
              "1     3817\n",
              "Name: personal_or_business, dtype: int64"
            ]
          },
          "metadata": {},
          "execution_count": 18
        }
      ]
    },
    {
      "cell_type": "markdown",
      "source": [
        "I will convert the date/time columns to the format HMS e.g 3:54:38 PM becomes 155438"
      ],
      "metadata": {
        "id": "kOneJXOQLg08"
      }
    },
    {
      "cell_type": "code",
      "source": [
        "from datetime import datetime\n",
        "\n",
        "def convert_time(time):\n",
        "  formatted_time = datetime.strptime(time, \"%I:%M:%S %p\")\n",
        "  str_from_time = datetime.strftime(formatted_time, \"%H%M%S\")\n",
        "  return str_from_time\n",
        "\n",
        "time_columns = ['placement_-_time', 'pickup_-_time', 'arrival_at_destination_-_time']\n",
        "\n",
        "for col in time_columns:\n",
        "  df[col] = df[col].apply(convert_time)\n",
        "\n",
        "df.sample(5)"
      ],
      "metadata": {
        "colab": {
          "base_uri": "https://localhost:8080/",
          "height": 288
        },
        "id": "QJw3lNWxL0x0",
        "outputId": "805279eb-ad88-4107-fa36-b329e1a7f7a9"
      },
      "execution_count": 19,
      "outputs": [
        {
          "output_type": "execute_result",
          "data": {
            "text/plain": [
              "      platform_type  personal_or_business  placement_-_day_of_month  \\\n",
              "8441              3                     0                        16   \n",
              "9280              3                     0                        28   \n",
              "938               3                     0                         6   \n",
              "6594              3                     0                        10   \n",
              "299               3                     0                        28   \n",
              "\n",
              "      placement_-_weekday_(mo_=_1) placement_-_time pickup_-_time  \\\n",
              "8441                             7           140807        141725   \n",
              "9280                             4           132030        152214   \n",
              "938                              2           112400        120210   \n",
              "6594                             1           142839        151356   \n",
              "299                              4           092202        095938   \n",
              "\n",
              "      arrival_at_destination_-_day_of_month  \\\n",
              "8441                                     16   \n",
              "9280                                     28   \n",
              "938                                       6   \n",
              "6594                                     10   \n",
              "299                                      28   \n",
              "\n",
              "      arrival_at_destination_-_weekday_(mo_=_1) arrival_at_destination_-_time  \\\n",
              "8441                                          7                        142311   \n",
              "9280                                          4                        160249   \n",
              "938                                           2                        123342   \n",
              "6594                                          1                        153234   \n",
              "299                                           4                        101448   \n",
              "\n",
              "      distance_(km)  temperature  precipitation_in_millimeters  pickup_lat  \\\n",
              "8441              1    24.000000                           0.0   -1.264960   \n",
              "9280             17    29.900000                           0.0   -1.370038   \n",
              "938               6    25.200000                           0.0   -1.304601   \n",
              "6594              8    23.258889                           0.0   -1.255189   \n",
              "299               4    22.600000                           0.0   -1.272828   \n",
              "\n",
              "      pickup_long  destination_lat  destination_long  \\\n",
              "8441    36.798178        -1.252796         36.800313   \n",
              "9280    36.919017        -1.290894         36.822971   \n",
              "938     36.821174        -1.265981         36.793612   \n",
              "6594    36.782203        -1.304344         36.812274   \n",
              "299     36.816608        -1.260093         36.808869   \n",
              "\n",
              "      time_from_pickup_to_arrival  \n",
              "8441                          346  \n",
              "9280                         2435  \n",
              "938                          1892  \n",
              "6594                         1118  \n",
              "299                           910  "
            ],
            "text/html": [
              "\n",
              "  <div id=\"df-d0ef0b74-2e44-474b-8a7e-65331c5e1810\">\n",
              "    <div class=\"colab-df-container\">\n",
              "      <div>\n",
              "<style scoped>\n",
              "    .dataframe tbody tr th:only-of-type {\n",
              "        vertical-align: middle;\n",
              "    }\n",
              "\n",
              "    .dataframe tbody tr th {\n",
              "        vertical-align: top;\n",
              "    }\n",
              "\n",
              "    .dataframe thead th {\n",
              "        text-align: right;\n",
              "    }\n",
              "</style>\n",
              "<table border=\"1\" class=\"dataframe\">\n",
              "  <thead>\n",
              "    <tr style=\"text-align: right;\">\n",
              "      <th></th>\n",
              "      <th>platform_type</th>\n",
              "      <th>personal_or_business</th>\n",
              "      <th>placement_-_day_of_month</th>\n",
              "      <th>placement_-_weekday_(mo_=_1)</th>\n",
              "      <th>placement_-_time</th>\n",
              "      <th>pickup_-_time</th>\n",
              "      <th>arrival_at_destination_-_day_of_month</th>\n",
              "      <th>arrival_at_destination_-_weekday_(mo_=_1)</th>\n",
              "      <th>arrival_at_destination_-_time</th>\n",
              "      <th>distance_(km)</th>\n",
              "      <th>temperature</th>\n",
              "      <th>precipitation_in_millimeters</th>\n",
              "      <th>pickup_lat</th>\n",
              "      <th>pickup_long</th>\n",
              "      <th>destination_lat</th>\n",
              "      <th>destination_long</th>\n",
              "      <th>time_from_pickup_to_arrival</th>\n",
              "    </tr>\n",
              "  </thead>\n",
              "  <tbody>\n",
              "    <tr>\n",
              "      <th>8441</th>\n",
              "      <td>3</td>\n",
              "      <td>0</td>\n",
              "      <td>16</td>\n",
              "      <td>7</td>\n",
              "      <td>140807</td>\n",
              "      <td>141725</td>\n",
              "      <td>16</td>\n",
              "      <td>7</td>\n",
              "      <td>142311</td>\n",
              "      <td>1</td>\n",
              "      <td>24.000000</td>\n",
              "      <td>0.0</td>\n",
              "      <td>-1.264960</td>\n",
              "      <td>36.798178</td>\n",
              "      <td>-1.252796</td>\n",
              "      <td>36.800313</td>\n",
              "      <td>346</td>\n",
              "    </tr>\n",
              "    <tr>\n",
              "      <th>9280</th>\n",
              "      <td>3</td>\n",
              "      <td>0</td>\n",
              "      <td>28</td>\n",
              "      <td>4</td>\n",
              "      <td>132030</td>\n",
              "      <td>152214</td>\n",
              "      <td>28</td>\n",
              "      <td>4</td>\n",
              "      <td>160249</td>\n",
              "      <td>17</td>\n",
              "      <td>29.900000</td>\n",
              "      <td>0.0</td>\n",
              "      <td>-1.370038</td>\n",
              "      <td>36.919017</td>\n",
              "      <td>-1.290894</td>\n",
              "      <td>36.822971</td>\n",
              "      <td>2435</td>\n",
              "    </tr>\n",
              "    <tr>\n",
              "      <th>938</th>\n",
              "      <td>3</td>\n",
              "      <td>0</td>\n",
              "      <td>6</td>\n",
              "      <td>2</td>\n",
              "      <td>112400</td>\n",
              "      <td>120210</td>\n",
              "      <td>6</td>\n",
              "      <td>2</td>\n",
              "      <td>123342</td>\n",
              "      <td>6</td>\n",
              "      <td>25.200000</td>\n",
              "      <td>0.0</td>\n",
              "      <td>-1.304601</td>\n",
              "      <td>36.821174</td>\n",
              "      <td>-1.265981</td>\n",
              "      <td>36.793612</td>\n",
              "      <td>1892</td>\n",
              "    </tr>\n",
              "    <tr>\n",
              "      <th>6594</th>\n",
              "      <td>3</td>\n",
              "      <td>0</td>\n",
              "      <td>10</td>\n",
              "      <td>1</td>\n",
              "      <td>142839</td>\n",
              "      <td>151356</td>\n",
              "      <td>10</td>\n",
              "      <td>1</td>\n",
              "      <td>153234</td>\n",
              "      <td>8</td>\n",
              "      <td>23.258889</td>\n",
              "      <td>0.0</td>\n",
              "      <td>-1.255189</td>\n",
              "      <td>36.782203</td>\n",
              "      <td>-1.304344</td>\n",
              "      <td>36.812274</td>\n",
              "      <td>1118</td>\n",
              "    </tr>\n",
              "    <tr>\n",
              "      <th>299</th>\n",
              "      <td>3</td>\n",
              "      <td>0</td>\n",
              "      <td>28</td>\n",
              "      <td>4</td>\n",
              "      <td>092202</td>\n",
              "      <td>095938</td>\n",
              "      <td>28</td>\n",
              "      <td>4</td>\n",
              "      <td>101448</td>\n",
              "      <td>4</td>\n",
              "      <td>22.600000</td>\n",
              "      <td>0.0</td>\n",
              "      <td>-1.272828</td>\n",
              "      <td>36.816608</td>\n",
              "      <td>-1.260093</td>\n",
              "      <td>36.808869</td>\n",
              "      <td>910</td>\n",
              "    </tr>\n",
              "  </tbody>\n",
              "</table>\n",
              "</div>\n",
              "      <button class=\"colab-df-convert\" onclick=\"convertToInteractive('df-d0ef0b74-2e44-474b-8a7e-65331c5e1810')\"\n",
              "              title=\"Convert this dataframe to an interactive table.\"\n",
              "              style=\"display:none;\">\n",
              "        \n",
              "  <svg xmlns=\"http://www.w3.org/2000/svg\" height=\"24px\"viewBox=\"0 0 24 24\"\n",
              "       width=\"24px\">\n",
              "    <path d=\"M0 0h24v24H0V0z\" fill=\"none\"/>\n",
              "    <path d=\"M18.56 5.44l.94 2.06.94-2.06 2.06-.94-2.06-.94-.94-2.06-.94 2.06-2.06.94zm-11 1L8.5 8.5l.94-2.06 2.06-.94-2.06-.94L8.5 2.5l-.94 2.06-2.06.94zm10 10l.94 2.06.94-2.06 2.06-.94-2.06-.94-.94-2.06-.94 2.06-2.06.94z\"/><path d=\"M17.41 7.96l-1.37-1.37c-.4-.4-.92-.59-1.43-.59-.52 0-1.04.2-1.43.59L10.3 9.45l-7.72 7.72c-.78.78-.78 2.05 0 2.83L4 21.41c.39.39.9.59 1.41.59.51 0 1.02-.2 1.41-.59l7.78-7.78 2.81-2.81c.8-.78.8-2.07 0-2.86zM5.41 20L4 18.59l7.72-7.72 1.47 1.35L5.41 20z\"/>\n",
              "  </svg>\n",
              "      </button>\n",
              "      \n",
              "  <style>\n",
              "    .colab-df-container {\n",
              "      display:flex;\n",
              "      flex-wrap:wrap;\n",
              "      gap: 12px;\n",
              "    }\n",
              "\n",
              "    .colab-df-convert {\n",
              "      background-color: #E8F0FE;\n",
              "      border: none;\n",
              "      border-radius: 50%;\n",
              "      cursor: pointer;\n",
              "      display: none;\n",
              "      fill: #1967D2;\n",
              "      height: 32px;\n",
              "      padding: 0 0 0 0;\n",
              "      width: 32px;\n",
              "    }\n",
              "\n",
              "    .colab-df-convert:hover {\n",
              "      background-color: #E2EBFA;\n",
              "      box-shadow: 0px 1px 2px rgba(60, 64, 67, 0.3), 0px 1px 3px 1px rgba(60, 64, 67, 0.15);\n",
              "      fill: #174EA6;\n",
              "    }\n",
              "\n",
              "    [theme=dark] .colab-df-convert {\n",
              "      background-color: #3B4455;\n",
              "      fill: #D2E3FC;\n",
              "    }\n",
              "\n",
              "    [theme=dark] .colab-df-convert:hover {\n",
              "      background-color: #434B5C;\n",
              "      box-shadow: 0px 1px 3px 1px rgba(0, 0, 0, 0.15);\n",
              "      filter: drop-shadow(0px 1px 2px rgba(0, 0, 0, 0.3));\n",
              "      fill: #FFFFFF;\n",
              "    }\n",
              "  </style>\n",
              "\n",
              "      <script>\n",
              "        const buttonEl =\n",
              "          document.querySelector('#df-d0ef0b74-2e44-474b-8a7e-65331c5e1810 button.colab-df-convert');\n",
              "        buttonEl.style.display =\n",
              "          google.colab.kernel.accessAllowed ? 'block' : 'none';\n",
              "\n",
              "        async function convertToInteractive(key) {\n",
              "          const element = document.querySelector('#df-d0ef0b74-2e44-474b-8a7e-65331c5e1810');\n",
              "          const dataTable =\n",
              "            await google.colab.kernel.invokeFunction('convertToInteractive',\n",
              "                                                     [key], {});\n",
              "          if (!dataTable) return;\n",
              "\n",
              "          const docLinkHtml = 'Like what you see? Visit the ' +\n",
              "            '<a target=\"_blank\" href=https://colab.research.google.com/notebooks/data_table.ipynb>data table notebook</a>'\n",
              "            + ' to learn more about interactive tables.';\n",
              "          element.innerHTML = '';\n",
              "          dataTable['output_type'] = 'display_data';\n",
              "          await google.colab.output.renderOutput(dataTable, element);\n",
              "          const docLink = document.createElement('div');\n",
              "          docLink.innerHTML = docLinkHtml;\n",
              "          element.appendChild(docLink);\n",
              "        }\n",
              "      </script>\n",
              "    </div>\n",
              "  </div>\n",
              "  "
            ]
          },
          "metadata": {},
          "execution_count": 19
        }
      ]
    },
    {
      "cell_type": "markdown",
      "metadata": {
        "id": "vTbdjSrhVIiT"
      },
      "source": [
        "## 5. Data Modelling"
      ]
    },
    {
      "cell_type": "markdown",
      "source": [
        "#### Base model - Ensemble Regressor"
      ],
      "metadata": {
        "id": "so4xqtK_JrP9"
      }
    },
    {
      "cell_type": "code",
      "source": [
        "features = df.drop(['time_from_pickup_to_arrival'], axis=1)\n",
        "target = df['time_from_pickup_to_arrival']\n",
        "\n",
        "# Splitting the data into training, testing and validation sets. Of the base dataset: 20% - testing, 80% - training.\n",
        "features_train, features_test, target_train, target_test = train_test_split(features, target, test_size=0.20, random_state=12345)\n",
        "\n",
        "# Model \n",
        "base_regressor = RandomForestRegressor(n_estimators = 10, random_state = 12345)\n",
        "\n",
        "# Train the model\n",
        "base_regressor.fit(features_train, target_train)\n",
        "\n",
        "# Predict using the model\n",
        "predictions = base_regressor.predict(features_test)\n",
        "\n",
        "# RMSE\n",
        "rmse = mean_squared_error(target_test, predictions) ** 0.5\n",
        "\n",
        "print('RMSE: ', rmse)"
      ],
      "metadata": {
        "colab": {
          "base_uri": "https://localhost:8080/"
        },
        "id": "jYU5mB0_J_Bs",
        "outputId": "b26cbf17-9190-4831-a4ab-eb38d5d899ce"
      },
      "execution_count": 20,
      "outputs": [
        {
          "output_type": "stream",
          "name": "stdout",
          "text": [
            "RMSE:  525.3969582871707\n"
          ]
        }
      ]
    },
    {
      "cell_type": "markdown",
      "source": [
        "## 5. Model Optimization"
      ],
      "metadata": {
        "id": "OY3AfifsZPvL"
      }
    },
    {
      "cell_type": "markdown",
      "source": [
        "#### Feature Scaling"
      ],
      "metadata": {
        "id": "Q7CPHo8DQtLT"
      }
    },
    {
      "cell_type": "markdown",
      "source": [
        "Standardization"
      ],
      "metadata": {
        "id": "-Qw2iqfcT7pa"
      }
    },
    {
      "cell_type": "code",
      "source": [
        "# Scaler\n",
        "scaler = StandardScaler()\n",
        "\n",
        "# Scaled model\n",
        "features_train_scaled = scaler.fit_transform(features_train) \n",
        "features_test_scaled = scaler.fit_transform(features_test)\n",
        "\n",
        "# fit the model\n",
        "regressor_scaled = RandomForestRegressor(n_estimators = 10, random_state = 12345)\n",
        "regressor_scaled.fit(features_train_scaled, target_train)\n",
        "\n",
        "# predict\n",
        "predictions_scaled = regressor_scaled.predict(features_test_scaled)\n",
        "\n",
        "rmse = np.sqrt(mean_squared_error(target_test, predictions_scaled))\n",
        "\n",
        "print('RMSE: ', rmse)\n",
        "\n"
      ],
      "metadata": {
        "colab": {
          "base_uri": "https://localhost:8080/"
        },
        "id": "fHEXx5rTT94O",
        "outputId": "622a74e0-7582-402d-dddf-6e062173b9a0"
      },
      "execution_count": 21,
      "outputs": [
        {
          "output_type": "stream",
          "name": "stdout",
          "text": [
            "RMSE:  526.5920410670499\n"
          ]
        }
      ]
    },
    {
      "cell_type": "markdown",
      "source": [
        "Normalization"
      ],
      "metadata": {
        "id": "DMnMsJ7ZRzD_"
      }
    },
    {
      "cell_type": "code",
      "source": [
        "# Normalized model\n",
        "normalized = MinMaxScaler().fit(features_train) \n",
        "features_train_normalized = normalized.transform(features_train) \n",
        "features_test_normalized = normalized.transform(features_test)\n",
        "\n",
        "# fit the model\n",
        "regressor_normalized = RandomForestRegressor(n_estimators = 10, random_state = 12345)\n",
        "regressor_normalized.fit(features_train_normalized, target_train)\n",
        "\n",
        "# predict\n",
        "predictions_normalized = regressor_normalized.predict(features_test_normalized)\n",
        "\n",
        "# RMSE\n",
        "rmse = np.sqrt(mean_squared_error(target_test, predictions_normalized))\n",
        "\n",
        "print('RMSE:', rmse)"
      ],
      "metadata": {
        "colab": {
          "base_uri": "https://localhost:8080/"
        },
        "id": "i7Y0x3w6R1mV",
        "outputId": "2d7e5b51-6b83-406f-93eb-9313b3113978"
      },
      "execution_count": 22,
      "outputs": [
        {
          "output_type": "stream",
          "name": "stdout",
          "text": [
            "RMSE: 525.5213235397118\n"
          ]
        }
      ]
    },
    {
      "cell_type": "markdown",
      "source": [
        "Normalization achieves better result than standardization"
      ],
      "metadata": {
        "id": "hWjhd_J6WTNf"
      }
    },
    {
      "cell_type": "markdown",
      "source": [
        "#### Feature Selection"
      ],
      "metadata": {
        "id": "lUXq8051W0uU"
      }
    },
    {
      "cell_type": "markdown",
      "source": [
        "**Step Forward Feature Selection**"
      ],
      "metadata": {
        "id": "tDcJdCmOW7YN"
      }
    },
    {
      "cell_type": "code",
      "source": [
        "features = df.drop(['time_from_pickup_to_arrival'], axis=1)\n",
        "target = df['time_from_pickup_to_arrival']\n",
        "\n",
        "# Splitting the data into training, testing and validation sets. Of the base dataset: 20% - testing, 80% - training.\n",
        "features_train, features_test, target_train, target_test = train_test_split(features, target, test_size=0.20, random_state=12345)\n",
        "\n",
        "# Normalized model\n",
        "normalized = MinMaxScaler().fit(features_train) \n",
        "features_train_normalized = normalized.transform(features_train) \n",
        "features_test_normalized = normalized.transform(features_test)\n",
        "\n",
        "regressor_sf = RandomForestRegressor(n_estimators = 10, random_state = 12345)\n",
        "\n",
        "# I'll pass the normalised model defined above to the SequentialFeatureSelector function. \n",
        "# k_features: number of features to select. \n",
        "# forward: if set to True, performs step forward feature selection. \n",
        "# verbose: used for logging the progress of the feature selector\n",
        "# scoring: defines the performance evaluation criteria \n",
        "# cv: refers to cross-validation folds.\n",
        "\n",
        "feature_selector_sf = SequentialFeatureSelector(regressor_sf,\n",
        "           k_features=15,\n",
        "           forward=True,\n",
        "           verbose=2,\n",
        "           scoring='r2',\n",
        "           cv=4)\n",
        " \n",
        "# Step forward feature selection\n",
        "feature_selector_sf = feature_selector_sf.fit(features_train_normalized, target_train)"
      ],
      "metadata": {
        "colab": {
          "base_uri": "https://localhost:8080/"
        },
        "id": "6TlU7YxjW8-C",
        "outputId": "6f78ba74-ec36-4af5-af4c-5746257a129e"
      },
      "execution_count": 23,
      "outputs": [
        {
          "output_type": "stream",
          "name": "stderr",
          "text": [
            "[Parallel(n_jobs=1)]: Using backend SequentialBackend with 1 concurrent workers.\n",
            "[Parallel(n_jobs=1)]: Done   1 out of   1 | elapsed:    0.1s remaining:    0.0s\n",
            "[Parallel(n_jobs=1)]: Done  16 out of  16 | elapsed:    9.8s finished\n",
            "\n",
            "[2022-11-28 02:24:37] Features: 1/15 -- score: 0.3391752466522554[Parallel(n_jobs=1)]: Using backend SequentialBackend with 1 concurrent workers.\n",
            "[Parallel(n_jobs=1)]: Done   1 out of   1 | elapsed:    0.2s remaining:    0.0s\n",
            "[Parallel(n_jobs=1)]: Done  15 out of  15 | elapsed:    9.5s finished\n",
            "\n",
            "[2022-11-28 02:24:47] Features: 2/15 -- score: 0.33770154263715374[Parallel(n_jobs=1)]: Using backend SequentialBackend with 1 concurrent workers.\n",
            "[Parallel(n_jobs=1)]: Done   1 out of   1 | elapsed:    0.1s remaining:    0.0s\n",
            "[Parallel(n_jobs=1)]: Done  14 out of  14 | elapsed:    6.7s finished\n",
            "\n",
            "[2022-11-28 02:24:54] Features: 3/15 -- score: 0.33470381059571186[Parallel(n_jobs=1)]: Using backend SequentialBackend with 1 concurrent workers.\n",
            "[Parallel(n_jobs=1)]: Done   1 out of   1 | elapsed:    0.2s remaining:    0.0s\n",
            "[Parallel(n_jobs=1)]: Done  13 out of  13 | elapsed:    7.0s finished\n",
            "\n",
            "[2022-11-28 02:25:01] Features: 4/15 -- score: 0.3304927949789883[Parallel(n_jobs=1)]: Using backend SequentialBackend with 1 concurrent workers.\n",
            "[Parallel(n_jobs=1)]: Done   1 out of   1 | elapsed:    0.4s remaining:    0.0s\n",
            "[Parallel(n_jobs=1)]: Done  12 out of  12 | elapsed:    7.6s finished\n",
            "\n",
            "[2022-11-28 02:25:08] Features: 5/15 -- score: 0.3058221164850581[Parallel(n_jobs=1)]: Using backend SequentialBackend with 1 concurrent workers.\n",
            "[Parallel(n_jobs=1)]: Done   1 out of   1 | elapsed:    0.6s remaining:    0.0s\n",
            "[Parallel(n_jobs=1)]: Done  11 out of  11 | elapsed:    9.2s finished\n",
            "\n",
            "[2022-11-28 02:25:18] Features: 6/15 -- score: 0.30630567722790913[Parallel(n_jobs=1)]: Using backend SequentialBackend with 1 concurrent workers.\n",
            "[Parallel(n_jobs=1)]: Done   1 out of   1 | elapsed:    0.7s remaining:    0.0s\n",
            "[Parallel(n_jobs=1)]: Done  10 out of  10 | elapsed:    9.9s finished\n",
            "\n",
            "[2022-11-28 02:25:27] Features: 7/15 -- score: 0.19372090909047462[Parallel(n_jobs=1)]: Using backend SequentialBackend with 1 concurrent workers.\n",
            "[Parallel(n_jobs=1)]: Done   1 out of   1 | elapsed:    1.3s remaining:    0.0s\n",
            "[Parallel(n_jobs=1)]: Done   9 out of   9 | elapsed:   12.6s finished\n",
            "\n",
            "[2022-11-28 02:25:40] Features: 8/15 -- score: 0.23971589660567913[Parallel(n_jobs=1)]: Using backend SequentialBackend with 1 concurrent workers.\n",
            "[Parallel(n_jobs=1)]: Done   1 out of   1 | elapsed:    1.9s remaining:    0.0s\n",
            "[Parallel(n_jobs=1)]: Done   8 out of   8 | elapsed:   16.8s finished\n",
            "\n",
            "[2022-11-28 02:25:57] Features: 9/15 -- score: 0.8349766706043882[Parallel(n_jobs=1)]: Using backend SequentialBackend with 1 concurrent workers.\n",
            "[Parallel(n_jobs=1)]: Done   1 out of   1 | elapsed:    2.4s remaining:    0.0s\n",
            "[Parallel(n_jobs=1)]: Done   7 out of   7 | elapsed:   17.6s finished\n",
            "\n",
            "[2022-11-28 02:26:14] Features: 10/15 -- score: 0.818321946473315[Parallel(n_jobs=1)]: Using backend SequentialBackend with 1 concurrent workers.\n",
            "[Parallel(n_jobs=1)]: Done   1 out of   1 | elapsed:    2.9s remaining:    0.0s\n",
            "[Parallel(n_jobs=1)]: Done   6 out of   6 | elapsed:   17.5s finished\n",
            "\n",
            "[2022-11-28 02:26:32] Features: 11/15 -- score: 0.7988198828586125[Parallel(n_jobs=1)]: Using backend SequentialBackend with 1 concurrent workers.\n",
            "[Parallel(n_jobs=1)]: Done   1 out of   1 | elapsed:    3.1s remaining:    0.0s\n",
            "[Parallel(n_jobs=1)]: Done   5 out of   5 | elapsed:   16.4s finished\n",
            "\n",
            "[2022-11-28 02:26:48] Features: 12/15 -- score: 0.7979240788014299[Parallel(n_jobs=1)]: Using backend SequentialBackend with 1 concurrent workers.\n",
            "[Parallel(n_jobs=1)]: Done   1 out of   1 | elapsed:    3.5s remaining:    0.0s\n",
            "[Parallel(n_jobs=1)]: Done   4 out of   4 | elapsed:   13.9s finished\n",
            "\n",
            "[2022-11-28 02:27:02] Features: 13/15 -- score: 0.7693584138524048[Parallel(n_jobs=1)]: Using backend SequentialBackend with 1 concurrent workers.\n",
            "[Parallel(n_jobs=1)]: Done   1 out of   1 | elapsed:    3.8s remaining:    0.0s\n",
            "[Parallel(n_jobs=1)]: Done   3 out of   3 | elapsed:   11.5s finished\n",
            "\n",
            "[2022-11-28 02:27:14] Features: 14/15 -- score: 0.7272837680191798[Parallel(n_jobs=1)]: Using backend SequentialBackend with 1 concurrent workers.\n",
            "[Parallel(n_jobs=1)]: Done   1 out of   1 | elapsed:    4.2s remaining:    0.0s\n",
            "[Parallel(n_jobs=1)]: Done   2 out of   2 | elapsed:    8.4s finished\n",
            "\n",
            "[2022-11-28 02:27:22] Features: 15/15 -- score: 0.6827128528080655"
          ]
        }
      ]
    },
    {
      "cell_type": "code",
      "source": [
        "selected_features_sb = list(feature_selector_sf.k_feature_idx_)\n",
        "#selected_features\n",
        "\n",
        "# Modelling with features from step forward selection\n",
        "step_forward_regressor = RandomForestRegressor(n_estimators = 10, random_state = 12345)\n",
        "step_forward_regressor.fit(features_train_normalized[:, selected_features_sb], target_train)\n",
        "\n",
        "# Making Predictions\n",
        "step_forward_predictions = step_forward_regressor.predict(features_test_normalized[:, selected_features_sb])\n",
        "\n",
        "# RMSE\n",
        "rmse = np.sqrt(mean_squared_error(target_test, step_forward_predictions))\n",
        "\n",
        "print('RMSE with step forward features: ', rmse)"
      ],
      "metadata": {
        "colab": {
          "base_uri": "https://localhost:8080/"
        },
        "id": "bAwAwabVj4Cv",
        "outputId": "0dc79190-4d2f-47a7-b764-ed8e4e4fc391"
      },
      "execution_count": 24,
      "outputs": [
        {
          "output_type": "stream",
          "name": "stdout",
          "text": [
            "RMSE with step forward features:  490.43403365549784\n"
          ]
        }
      ]
    },
    {
      "cell_type": "markdown",
      "source": [
        "**Step Backward Feature Selection**"
      ],
      "metadata": {
        "id": "2KmL1ih3qO-7"
      }
    },
    {
      "cell_type": "code",
      "source": [
        "# This time I set the `forward` parameter to False\n",
        "\n",
        "feature_selector_sb = SequentialFeatureSelector(regressor_normalized,\n",
        "           k_features=15,\n",
        "           forward=False,\n",
        "           verbose=2,\n",
        "           scoring='r2',\n",
        "           cv=4)\n",
        " \n",
        "# Step forward feature selection\n",
        "feature_selector_sb = feature_selector_sb.fit(features_train_normalized, target_train)"
      ],
      "metadata": {
        "colab": {
          "base_uri": "https://localhost:8080/"
        },
        "id": "-2_kfmNZqWEg",
        "outputId": "acbd483c-4c36-4503-db59-8c31c199191c"
      },
      "execution_count": 25,
      "outputs": [
        {
          "output_type": "stream",
          "name": "stderr",
          "text": [
            "[Parallel(n_jobs=1)]: Using backend SequentialBackend with 1 concurrent workers.\n",
            "[Parallel(n_jobs=1)]: Done   1 out of   1 | elapsed:    4.2s remaining:    0.0s\n",
            "[Parallel(n_jobs=1)]: Done  16 out of  16 | elapsed:  1.2min finished\n",
            "\n",
            "[2022-11-28 02:28:38] Features: 15/15 -- score: 0.6827128528080655"
          ]
        }
      ]
    },
    {
      "cell_type": "code",
      "source": [
        "selected_features_sb = list(feature_selector_sb.k_feature_idx_)\n",
        "#selected_features\n",
        "\n",
        "# Modelling with features from step backward selection\n",
        "step_backward_regressor = RandomForestRegressor(n_estimators = 10, random_state = 12345)\n",
        "step_backward_regressor.fit(features_train_normalized[:, selected_features_sb], target_train)\n",
        "\n",
        "# Making Predictions and determining the accuracies\n",
        "step_backward_predictions = step_backward_regressor.predict(features_test_normalized[:, selected_features_sb])\n",
        "\n",
        "# RMSE\n",
        "rmse = np.sqrt(mean_squared_error(target_test, step_backward_predictions))\n",
        "\n",
        "print('RMSE with step backward features: ', rmse)"
      ],
      "metadata": {
        "colab": {
          "base_uri": "https://localhost:8080/"
        },
        "id": "jv1lPwFTrRZa",
        "outputId": "1b8cdb04-a51d-4da4-f1b4-e2f52969fec9"
      },
      "execution_count": 121,
      "outputs": [
        {
          "output_type": "stream",
          "name": "stdout",
          "text": [
            "RMSE with step backward features:  490.43403365549784\n"
          ]
        }
      ]
    },
    {
      "cell_type": "markdown",
      "source": [
        "**Recursive Feature Elimination**"
      ],
      "metadata": {
        "id": "FCHxguHsuAWo"
      }
    },
    {
      "cell_type": "code",
      "source": [
        "# I'm selecting the best 15 features for the model. \n",
        "# n_features_to_select will include the response variable\n",
        "regressor_rfe = RFE(regressor_normalized, n_features_to_select = 15, step=1)\n",
        "\n",
        "regressor_rfe.fit(features_train_normalized, target_train) \n",
        "\n",
        "# Predict using the model  \n",
        "rfe_predictions = regressor_rfe.predict(features_test_normalized)\n",
        "\n",
        "# RMSE\n",
        "rmse = np.sqrt(mean_squared_error(target_test, rfe_predictions))\n",
        "\n",
        "print('RMSE for RFE:', rmse)"
      ],
      "metadata": {
        "colab": {
          "base_uri": "https://localhost:8080/"
        },
        "id": "u0QAl-qcEtEP",
        "outputId": "7b8d78b1-16e6-41d1-d22c-913c7311b09a"
      },
      "execution_count": 30,
      "outputs": [
        {
          "output_type": "stream",
          "name": "stdout",
          "text": [
            "RMSE for RFE: 526.1907049308937\n"
          ]
        }
      ]
    },
    {
      "cell_type": "markdown",
      "source": [
        "**Principal Component Analysis**"
      ],
      "metadata": {
        "id": "4Sry1lZbHH_y"
      }
    },
    {
      "cell_type": "code",
      "source": [
        "pca = PCA()\n",
        "features_train = pca.fit_transform(features_train_normalized)\n",
        "features_test = pca.transform(features_test_normalized)\n",
        "\n",
        "regressor_pca = RandomForestRegressor(n_estimators = 10, random_state = 12345)\n",
        "regressor_pca.fit(features_train, target_train)\n",
        "\n",
        "#Predictions\n",
        "pca_predictions = regressor_pca.predict(features_test)\n",
        "\n",
        "# RMSE\n",
        "rmse = np.sqrt(mean_squared_error(target_test, pca_predictions))\n",
        "\n",
        "# Evaluate  \n",
        "print('RMSE with PCA: ', rmse)"
      ],
      "metadata": {
        "colab": {
          "base_uri": "https://localhost:8080/"
        },
        "id": "njiauHuyHI4T",
        "outputId": "db114b0d-77af-44c8-8555-5cedee2a00c8"
      },
      "execution_count": 32,
      "outputs": [
        {
          "output_type": "stream",
          "name": "stdout",
          "text": [
            "RMSE with PCA:  317.7696667491585\n"
          ]
        }
      ]
    },
    {
      "cell_type": "markdown",
      "source": [
        "**Linear Discriminant Analysis**"
      ],
      "metadata": {
        "id": "SuSbv4-KI7Oh"
      }
    },
    {
      "cell_type": "code",
      "source": [
        "lda = LinearDiscriminantAnalysis()\n",
        "lda.fit(features_train_normalized, target_train)\n",
        "\n",
        "# Predictions\n",
        "lda_predictions = lda.predict(features_test_normalized)\n",
        "\n",
        "# Evaluation\n",
        "rmse = np.sqrt(mean_squared_error(target_test, lda_predictions))\n",
        "\n",
        "print('RMSE with Linear Discriminant Analysis:', rmse)"
      ],
      "metadata": {
        "colab": {
          "base_uri": "https://localhost:8080/"
        },
        "id": "jpMGGtPEI8UV",
        "outputId": "d1fdd026-9399-463b-8726-2fcd594c355b"
      },
      "execution_count": 33,
      "outputs": [
        {
          "output_type": "stream",
          "name": "stdout",
          "text": [
            "RMSE with Linear Discriminant Analysis: 705.8346313142732\n"
          ]
        }
      ]
    },
    {
      "cell_type": "markdown",
      "source": [
        "Principal Component Analysis produced the best RMSE of 318"
      ],
      "metadata": {
        "id": "B4ZJRPE1KRJV"
      }
    },
    {
      "cell_type": "markdown",
      "source": [
        "#### Feature Construction"
      ],
      "metadata": {
        "id": "JJjIsfXmLMM9"
      }
    },
    {
      "cell_type": "code",
      "source": [
        "# I will create a new feature:  speed = distance/time\n",
        "# convert time to hours so that speed is km/hr\n",
        "df['speed'] = df['distance_(km)'] / (df['time_from_pickup_to_arrival'] / 3600)\n",
        "df.head()"
      ],
      "metadata": {
        "colab": {
          "base_uri": "https://localhost:8080/",
          "height": 288
        },
        "id": "rtt2-65RLOZP",
        "outputId": "eb660fc9-c5e3-4cdc-9d4f-88e6d486a714"
      },
      "execution_count": 34,
      "outputs": [
        {
          "output_type": "execute_result",
          "data": {
            "text/plain": [
              "   platform_type  personal_or_business  placement_-_day_of_month  \\\n",
              "0              3                     0                         9   \n",
              "1              3                     1                        12   \n",
              "2              3                     0                        30   \n",
              "3              3                     0                        15   \n",
              "4              1                     1                        13   \n",
              "\n",
              "   placement_-_weekday_(mo_=_1) placement_-_time pickup_-_time  \\\n",
              "0                             5           093546        102730   \n",
              "1                             5           111616        114409   \n",
              "2                             2           123925        125303   \n",
              "3                             5           092534        094306   \n",
              "4                             1           095518        100523   \n",
              "\n",
              "   arrival_at_destination_-_day_of_month  \\\n",
              "0                                      9   \n",
              "1                                     12   \n",
              "2                                     30   \n",
              "3                                     15   \n",
              "4                                     13   \n",
              "\n",
              "   arrival_at_destination_-_weekday_(mo_=_1) arrival_at_destination_-_time  \\\n",
              "0                                          5                        103955   \n",
              "1                                          5                        121722   \n",
              "2                                          2                        130038   \n",
              "3                                          5                        100527   \n",
              "4                                          1                        102537   \n",
              "\n",
              "   distance_(km)  temperature  precipitation_in_millimeters  pickup_lat  \\\n",
              "0              4    20.400000                           0.0   -1.317755   \n",
              "1             16    26.400000                           0.0   -1.351453   \n",
              "2              3    23.258889                           0.0   -1.308284   \n",
              "3              9    19.200000                           0.0   -1.281301   \n",
              "4              9    15.400000                           0.0   -1.266597   \n",
              "\n",
              "   pickup_long  destination_lat  destination_long  \\\n",
              "0    36.830370        -1.300406         36.829741   \n",
              "1    36.899315        -1.295004         36.814358   \n",
              "2    36.843419        -1.300921         36.828195   \n",
              "3    36.832396        -1.257147         36.795063   \n",
              "4    36.792118        -1.295041         36.809817   \n",
              "\n",
              "   time_from_pickup_to_arrival      speed  \n",
              "0                          745  19.328859  \n",
              "1                         1993  28.901154  \n",
              "2                          455  23.736264  \n",
              "3                         1341  24.161074  \n",
              "4                         1214  26.688633  "
            ],
            "text/html": [
              "\n",
              "  <div id=\"df-c430eaf0-9a66-4a32-9e36-2ba5da1e6a60\">\n",
              "    <div class=\"colab-df-container\">\n",
              "      <div>\n",
              "<style scoped>\n",
              "    .dataframe tbody tr th:only-of-type {\n",
              "        vertical-align: middle;\n",
              "    }\n",
              "\n",
              "    .dataframe tbody tr th {\n",
              "        vertical-align: top;\n",
              "    }\n",
              "\n",
              "    .dataframe thead th {\n",
              "        text-align: right;\n",
              "    }\n",
              "</style>\n",
              "<table border=\"1\" class=\"dataframe\">\n",
              "  <thead>\n",
              "    <tr style=\"text-align: right;\">\n",
              "      <th></th>\n",
              "      <th>platform_type</th>\n",
              "      <th>personal_or_business</th>\n",
              "      <th>placement_-_day_of_month</th>\n",
              "      <th>placement_-_weekday_(mo_=_1)</th>\n",
              "      <th>placement_-_time</th>\n",
              "      <th>pickup_-_time</th>\n",
              "      <th>arrival_at_destination_-_day_of_month</th>\n",
              "      <th>arrival_at_destination_-_weekday_(mo_=_1)</th>\n",
              "      <th>arrival_at_destination_-_time</th>\n",
              "      <th>distance_(km)</th>\n",
              "      <th>temperature</th>\n",
              "      <th>precipitation_in_millimeters</th>\n",
              "      <th>pickup_lat</th>\n",
              "      <th>pickup_long</th>\n",
              "      <th>destination_lat</th>\n",
              "      <th>destination_long</th>\n",
              "      <th>time_from_pickup_to_arrival</th>\n",
              "      <th>speed</th>\n",
              "    </tr>\n",
              "  </thead>\n",
              "  <tbody>\n",
              "    <tr>\n",
              "      <th>0</th>\n",
              "      <td>3</td>\n",
              "      <td>0</td>\n",
              "      <td>9</td>\n",
              "      <td>5</td>\n",
              "      <td>093546</td>\n",
              "      <td>102730</td>\n",
              "      <td>9</td>\n",
              "      <td>5</td>\n",
              "      <td>103955</td>\n",
              "      <td>4</td>\n",
              "      <td>20.400000</td>\n",
              "      <td>0.0</td>\n",
              "      <td>-1.317755</td>\n",
              "      <td>36.830370</td>\n",
              "      <td>-1.300406</td>\n",
              "      <td>36.829741</td>\n",
              "      <td>745</td>\n",
              "      <td>19.328859</td>\n",
              "    </tr>\n",
              "    <tr>\n",
              "      <th>1</th>\n",
              "      <td>3</td>\n",
              "      <td>1</td>\n",
              "      <td>12</td>\n",
              "      <td>5</td>\n",
              "      <td>111616</td>\n",
              "      <td>114409</td>\n",
              "      <td>12</td>\n",
              "      <td>5</td>\n",
              "      <td>121722</td>\n",
              "      <td>16</td>\n",
              "      <td>26.400000</td>\n",
              "      <td>0.0</td>\n",
              "      <td>-1.351453</td>\n",
              "      <td>36.899315</td>\n",
              "      <td>-1.295004</td>\n",
              "      <td>36.814358</td>\n",
              "      <td>1993</td>\n",
              "      <td>28.901154</td>\n",
              "    </tr>\n",
              "    <tr>\n",
              "      <th>2</th>\n",
              "      <td>3</td>\n",
              "      <td>0</td>\n",
              "      <td>30</td>\n",
              "      <td>2</td>\n",
              "      <td>123925</td>\n",
              "      <td>125303</td>\n",
              "      <td>30</td>\n",
              "      <td>2</td>\n",
              "      <td>130038</td>\n",
              "      <td>3</td>\n",
              "      <td>23.258889</td>\n",
              "      <td>0.0</td>\n",
              "      <td>-1.308284</td>\n",
              "      <td>36.843419</td>\n",
              "      <td>-1.300921</td>\n",
              "      <td>36.828195</td>\n",
              "      <td>455</td>\n",
              "      <td>23.736264</td>\n",
              "    </tr>\n",
              "    <tr>\n",
              "      <th>3</th>\n",
              "      <td>3</td>\n",
              "      <td>0</td>\n",
              "      <td>15</td>\n",
              "      <td>5</td>\n",
              "      <td>092534</td>\n",
              "      <td>094306</td>\n",
              "      <td>15</td>\n",
              "      <td>5</td>\n",
              "      <td>100527</td>\n",
              "      <td>9</td>\n",
              "      <td>19.200000</td>\n",
              "      <td>0.0</td>\n",
              "      <td>-1.281301</td>\n",
              "      <td>36.832396</td>\n",
              "      <td>-1.257147</td>\n",
              "      <td>36.795063</td>\n",
              "      <td>1341</td>\n",
              "      <td>24.161074</td>\n",
              "    </tr>\n",
              "    <tr>\n",
              "      <th>4</th>\n",
              "      <td>1</td>\n",
              "      <td>1</td>\n",
              "      <td>13</td>\n",
              "      <td>1</td>\n",
              "      <td>095518</td>\n",
              "      <td>100523</td>\n",
              "      <td>13</td>\n",
              "      <td>1</td>\n",
              "      <td>102537</td>\n",
              "      <td>9</td>\n",
              "      <td>15.400000</td>\n",
              "      <td>0.0</td>\n",
              "      <td>-1.266597</td>\n",
              "      <td>36.792118</td>\n",
              "      <td>-1.295041</td>\n",
              "      <td>36.809817</td>\n",
              "      <td>1214</td>\n",
              "      <td>26.688633</td>\n",
              "    </tr>\n",
              "  </tbody>\n",
              "</table>\n",
              "</div>\n",
              "      <button class=\"colab-df-convert\" onclick=\"convertToInteractive('df-c430eaf0-9a66-4a32-9e36-2ba5da1e6a60')\"\n",
              "              title=\"Convert this dataframe to an interactive table.\"\n",
              "              style=\"display:none;\">\n",
              "        \n",
              "  <svg xmlns=\"http://www.w3.org/2000/svg\" height=\"24px\"viewBox=\"0 0 24 24\"\n",
              "       width=\"24px\">\n",
              "    <path d=\"M0 0h24v24H0V0z\" fill=\"none\"/>\n",
              "    <path d=\"M18.56 5.44l.94 2.06.94-2.06 2.06-.94-2.06-.94-.94-2.06-.94 2.06-2.06.94zm-11 1L8.5 8.5l.94-2.06 2.06-.94-2.06-.94L8.5 2.5l-.94 2.06-2.06.94zm10 10l.94 2.06.94-2.06 2.06-.94-2.06-.94-.94-2.06-.94 2.06-2.06.94z\"/><path d=\"M17.41 7.96l-1.37-1.37c-.4-.4-.92-.59-1.43-.59-.52 0-1.04.2-1.43.59L10.3 9.45l-7.72 7.72c-.78.78-.78 2.05 0 2.83L4 21.41c.39.39.9.59 1.41.59.51 0 1.02-.2 1.41-.59l7.78-7.78 2.81-2.81c.8-.78.8-2.07 0-2.86zM5.41 20L4 18.59l7.72-7.72 1.47 1.35L5.41 20z\"/>\n",
              "  </svg>\n",
              "      </button>\n",
              "      \n",
              "  <style>\n",
              "    .colab-df-container {\n",
              "      display:flex;\n",
              "      flex-wrap:wrap;\n",
              "      gap: 12px;\n",
              "    }\n",
              "\n",
              "    .colab-df-convert {\n",
              "      background-color: #E8F0FE;\n",
              "      border: none;\n",
              "      border-radius: 50%;\n",
              "      cursor: pointer;\n",
              "      display: none;\n",
              "      fill: #1967D2;\n",
              "      height: 32px;\n",
              "      padding: 0 0 0 0;\n",
              "      width: 32px;\n",
              "    }\n",
              "\n",
              "    .colab-df-convert:hover {\n",
              "      background-color: #E2EBFA;\n",
              "      box-shadow: 0px 1px 2px rgba(60, 64, 67, 0.3), 0px 1px 3px 1px rgba(60, 64, 67, 0.15);\n",
              "      fill: #174EA6;\n",
              "    }\n",
              "\n",
              "    [theme=dark] .colab-df-convert {\n",
              "      background-color: #3B4455;\n",
              "      fill: #D2E3FC;\n",
              "    }\n",
              "\n",
              "    [theme=dark] .colab-df-convert:hover {\n",
              "      background-color: #434B5C;\n",
              "      box-shadow: 0px 1px 3px 1px rgba(0, 0, 0, 0.15);\n",
              "      filter: drop-shadow(0px 1px 2px rgba(0, 0, 0, 0.3));\n",
              "      fill: #FFFFFF;\n",
              "    }\n",
              "  </style>\n",
              "\n",
              "      <script>\n",
              "        const buttonEl =\n",
              "          document.querySelector('#df-c430eaf0-9a66-4a32-9e36-2ba5da1e6a60 button.colab-df-convert');\n",
              "        buttonEl.style.display =\n",
              "          google.colab.kernel.accessAllowed ? 'block' : 'none';\n",
              "\n",
              "        async function convertToInteractive(key) {\n",
              "          const element = document.querySelector('#df-c430eaf0-9a66-4a32-9e36-2ba5da1e6a60');\n",
              "          const dataTable =\n",
              "            await google.colab.kernel.invokeFunction('convertToInteractive',\n",
              "                                                     [key], {});\n",
              "          if (!dataTable) return;\n",
              "\n",
              "          const docLinkHtml = 'Like what you see? Visit the ' +\n",
              "            '<a target=\"_blank\" href=https://colab.research.google.com/notebooks/data_table.ipynb>data table notebook</a>'\n",
              "            + ' to learn more about interactive tables.';\n",
              "          element.innerHTML = '';\n",
              "          dataTable['output_type'] = 'display_data';\n",
              "          await google.colab.output.renderOutput(dataTable, element);\n",
              "          const docLink = document.createElement('div');\n",
              "          docLink.innerHTML = docLinkHtml;\n",
              "          element.appendChild(docLink);\n",
              "        }\n",
              "      </script>\n",
              "    </div>\n",
              "  </div>\n",
              "  "
            ]
          },
          "metadata": {},
          "execution_count": 34
        }
      ]
    }
  ]
}