{
  "nbformat": 4,
  "nbformat_minor": 0,
  "metadata": {
    "colab": {
      "provenance": [],
      "toc_visible": true,
      "collapsed_sections": [
        "wT5I1J9ySSCg",
        "SGhPPIl5TFmY",
        "mx-_eeJiWobA",
        "QCPTDR44bQtt",
        "Ewm2RjLMc7-H",
        "2gJiB0E7fkKS",
        "lQTfS7q3o_Xz",
        "Tc2B4DQw1eCC",
        "wDn2whdV0Zcg"
      ]
    },
    "kernelspec": {
      "name": "python3",
      "display_name": "Python 3"
    }
  },
  "cells": [
    {
      "cell_type": "markdown",
      "metadata": {
        "id": "y1HW8GjoS7AN"
      },
      "source": [
        "# Beta Bank Client CHurn Analysis"
      ]
    },
    {
      "cell_type": "markdown",
      "metadata": {
        "id": "kLG2VTrnTvYL"
      },
      "source": [
        "## 1. Defining the Question"
      ]
    },
    {
      "cell_type": "markdown",
      "metadata": {
        "id": "XecOwPNorl2W"
      },
      "source": [
        "### a) Data Analysis Question"
      ]
    },
    {
      "cell_type": "markdown",
      "metadata": {
        "id": "pZykmRrbGd13"
      },
      "source": [
        "Can we predict the delivery time of Sendy orders?"
      ]
    },
    {
      "cell_type": "markdown",
      "metadata": {
        "id": "J4wfHZwQrs-t"
      },
      "source": [
        "### b) Metric for Success"
      ]
    },
    {
      "cell_type": "markdown",
      "metadata": {
        "id": "IuQcoaLFGjkH"
      },
      "source": [
        "The model should predict an accurate delivery time, from picking up a package upto when it arrives at the final\n",
        "destination."
      ]
    },
    {
      "cell_type": "markdown",
      "metadata": {
        "id": "a9BPYqunry97"
      },
      "source": [
        "### c) Understanding the context "
      ]
    },
    {
      "cell_type": "markdown",
      "metadata": {
        "id": "2jeqV9VPG1tg"
      },
      "source": [
        "Sendy has hired you to help predict the estimated time of delivery of orders, from the point of driver pickup to the point of arrival at the final destination. \n",
        "\n",
        "Build a model that predicts an accurate delivery time, from picking up a package to arriving at the final destination. An accurate arrival time prediction will help all business to improve their logistics and communicate the accurate time their time to their customers.\n",
        "\n",
        "You will be required to perform various feature engineering techniques while preparing your data for further analysis."
      ]
    },
    {
      "cell_type": "markdown",
      "metadata": {
        "id": "7KMRBJ7zr9HD"
      },
      "source": [
        "### d) Experimental Design"
      ]
    },
    {
      "cell_type": "markdown",
      "metadata": {
        "id": "YG0dB0_PG5_i"
      },
      "source": [
        "1. Defining the Research Question\n",
        "2. Data Importation\n",
        "3. Data Exploration\n",
        "4. Data Cleaning\n",
        "5. Data Analysis (Univariate and Bivariate)\n",
        "6. Data Preparation\n",
        "7. Data Modeling\n",
        "8. Model Evaluation\n",
        "9. Challenging your Solution\n",
        "10. Recommendations / Conclusion"
      ]
    },
    {
      "cell_type": "markdown",
      "metadata": {
        "id": "zSGyg6kWsBUl"
      },
      "source": [
        "### e) Data Relevance"
      ]
    },
    {
      "cell_type": "markdown",
      "metadata": {
        "id": "UogUWzkTHJ9D"
      },
      "source": [
        "The given data set is relevant in answering the research question."
      ]
    },
    {
      "cell_type": "markdown",
      "metadata": {
        "id": "iUNbvIvnT7ep"
      },
      "source": [
        "## 2. Reading the Data"
      ]
    },
    {
      "cell_type": "code",
      "metadata": {
        "id": "STUSuuyTTBgx"
      },
      "source": [
        "# Importing our libraries\n",
        "import pandas as pd\n",
        "import numpy as np\n",
        "import matplotlib.pyplot as plt\n",
        "from sklearn.preprocessing import MinMaxScaler, StandardScaler, OneHotEncoder\n",
        "from sklearn.model_selection import train_test_split, GridSearchCV\n",
        "from sklearn.svm import SVR\n",
        "from sklearn.ensemble import RandomForestRegressor, AdaBoostRegressor, GradientBoostingRegressor\n",
        "from sklearn.metrics import mean_squared_error\n",
        "from sklearn.feature_selection import RFE\n",
        "from sklearn.decomposition import PCA\n",
        "from sklearn.discriminant_analysis import LinearDiscriminantAnalysis\n",
        "pd.set_option('display.max_columns', None)\n"
      ],
      "execution_count": 93,
      "outputs": []
    },
    {
      "cell_type": "code",
      "source": [
        "# Additional packages\n",
        "\n",
        "# importing six and sys\n",
        "import six\n",
        "import sys\n",
        "sys.modules['sklearn.externals.six'] = six\n",
        "\n",
        "# installing mlrose\n",
        "!pip install mlrose\n",
        "import mlrose\n",
        "\n",
        "# importing joblib\n",
        "import joblib\n",
        "sys.modules['sklearn.externals.joblib'] = joblib\n",
        "from mlxtend.feature_selection import SequentialFeatureSelector"
      ],
      "metadata": {
        "colab": {
          "base_uri": "https://localhost:8080/"
        },
        "id": "ibgt7QEnJl5u",
        "outputId": "64bff6e5-a1d5-4dbd-ea0c-53bca1965977"
      },
      "execution_count": 94,
      "outputs": [
        {
          "output_type": "stream",
          "name": "stdout",
          "text": [
            "Looking in indexes: https://pypi.org/simple, https://us-python.pkg.dev/colab-wheels/public/simple/\n",
            "Requirement already satisfied: mlrose in /usr/local/lib/python3.7/dist-packages (1.3.0)\n",
            "Requirement already satisfied: scipy in /usr/local/lib/python3.7/dist-packages (from mlrose) (1.7.3)\n",
            "Requirement already satisfied: numpy in /usr/local/lib/python3.7/dist-packages (from mlrose) (1.21.6)\n",
            "Requirement already satisfied: sklearn in /usr/local/lib/python3.7/dist-packages (from mlrose) (0.0.post1)\n"
          ]
        }
      ]
    },
    {
      "cell_type": "code",
      "metadata": {
        "id": "U4ZDFANeLGVR"
      },
      "source": [
        "# Load the data\n",
        "# --- \n",
        "data_url = \"https://raw.githubusercontent.com/wambasisamuel/DE_Week04_Friday/main/sendy_logistics.csv\"\n",
        "df = pd.read_csv(data_url) "
      ],
      "execution_count": 95,
      "outputs": []
    },
    {
      "cell_type": "code",
      "metadata": {
        "id": "XJn2KjW-WMlG",
        "colab": {
          "base_uri": "https://localhost:8080/",
          "height": 1000
        },
        "outputId": "4afdaf22-aff5-4308-c28e-137440d00480"
      },
      "source": [
        "# Description of the data\n",
        "# --- \n",
        "description_url = \"https://raw.githubusercontent.com/wambasisamuel/DE_Week04_Friday/main/VariableDefinitions.csv\"\n",
        "data_desc = pd.read_csv(description_url)\n",
        "data_desc"
      ],
      "execution_count": 96,
      "outputs": [
        {
          "output_type": "execute_result",
          "data": {
            "text/plain": [
              "                                     Order No  \\\n",
              "0                                     User Id   \n",
              "1                                Vehicle Type   \n",
              "2                               Platform Type   \n",
              "3                        Personal or Business   \n",
              "4                    Placement - Day of Month   \n",
              "5                Placement - Weekday (Mo = 1)   \n",
              "6                            Placement - Time   \n",
              "7                 Confirmation - Day of Month   \n",
              "8             Confirmation - Weekday (Mo = 1)   \n",
              "9                         Confirmation - Time   \n",
              "10           Arrival at Pickup - Day of Month   \n",
              "11       Arrival at Pickup - Weekday (Mo = 1)   \n",
              "12                   Arrival at Pickup - Time   \n",
              "13                      Pickup - Day of Month   \n",
              "14                  Pickup - Weekday (Mo = 1)   \n",
              "15                              Pickup - Time   \n",
              "16      Arrival at Destination - Day of Month   \n",
              "17  Arrival at Destination - Weekday (Mo = 1)   \n",
              "18              Arrival at Destination - Time   \n",
              "19                              Distance (KM)   \n",
              "20                                Temperature   \n",
              "21               Precipitation in millimeters   \n",
              "22                                 Pickup Lat   \n",
              "23                                Pickup Long   \n",
              "24                            Destination Lat   \n",
              "25                           Destination Long   \n",
              "26                                   Rider Id   \n",
              "27                Time from Pickup to Arrival   \n",
              "28                                        NaN   \n",
              "29                              Rider Metrics   \n",
              "30                                   Rider Id   \n",
              "31                               No_Of_Orders   \n",
              "32                                        Age   \n",
              "33                             Average_Rating   \n",
              "34                              No_of_Ratings   \n",
              "\n",
              "                  Unique number identifying the order  \n",
              "0   Unique number identifying the customer on a pl...  \n",
              "1   For this competition limited to bikes, however...  \n",
              "2   Platform used to place the order, there are 4 ...  \n",
              "3                                       Customer type  \n",
              "4                   Placement - Day of Month i.e 1-31  \n",
              "5                    Placement - Weekday (Monday = 1)  \n",
              "6   Placement - Time - Time of day the order was p...  \n",
              "7                Confirmation - Day of Month i.e 1-31  \n",
              "8                 Confirmation - Weekday (Monday = 1)  \n",
              "9   Confirmation - Time - Time of day the order wa...  \n",
              "10          Arrival at Pickup - Day of Month i.e 1-31  \n",
              "11           Arrival at Pickup - Weekday (Monday = 1)  \n",
              "12  Time of day the the rider arrived at the locat...  \n",
              "13                     Pickup - Day of Month i.e 1-31  \n",
              "14                      Pickup - Weekday (Monday = 1)  \n",
              "15  Pickup - Time - Time of day the the rider pick...  \n",
              "16        Arrival at Delivery - Day of Month i.e 1-31  \n",
              "17         Arrival at Delivery - Weekday (Monday = 1)  \n",
              "18  Arrival at Delivery Time - Time of day the rid...  \n",
              "19            The distance from Pickup to Destination  \n",
              "20  Temperature at the time of order placement in ...  \n",
              "21   Precipitation at the time of order placement ...  \n",
              "22                       Latitude of pick up location  \n",
              "23                      Longitude of pick up location  \n",
              "24                      Latitude of delivery location  \n",
              "25                     Longitude of delivery location  \n",
              "26             ID of the Rider who accepted the order  \n",
              "27  Time in seconds between 'Pickup' and 'Arrival ...  \n",
              "28                                                NaN  \n",
              "29                                                NaN  \n",
              "30  Unique number identifying the rider (same as i...  \n",
              "31           Number of Orders the rider has delivered  \n",
              "32  Number of days since the rider delivered the f...  \n",
              "33                        Average rating of the rider  \n",
              "34   Number of ratings the rider has received. Rat...  "
            ],
            "text/html": [
              "\n",
              "  <div id=\"df-d650f23f-9976-4373-969d-97f6a13b482b\">\n",
              "    <div class=\"colab-df-container\">\n",
              "      <div>\n",
              "<style scoped>\n",
              "    .dataframe tbody tr th:only-of-type {\n",
              "        vertical-align: middle;\n",
              "    }\n",
              "\n",
              "    .dataframe tbody tr th {\n",
              "        vertical-align: top;\n",
              "    }\n",
              "\n",
              "    .dataframe thead th {\n",
              "        text-align: right;\n",
              "    }\n",
              "</style>\n",
              "<table border=\"1\" class=\"dataframe\">\n",
              "  <thead>\n",
              "    <tr style=\"text-align: right;\">\n",
              "      <th></th>\n",
              "      <th>Order No</th>\n",
              "      <th>Unique number identifying the order</th>\n",
              "    </tr>\n",
              "  </thead>\n",
              "  <tbody>\n",
              "    <tr>\n",
              "      <th>0</th>\n",
              "      <td>User Id</td>\n",
              "      <td>Unique number identifying the customer on a pl...</td>\n",
              "    </tr>\n",
              "    <tr>\n",
              "      <th>1</th>\n",
              "      <td>Vehicle Type</td>\n",
              "      <td>For this competition limited to bikes, however...</td>\n",
              "    </tr>\n",
              "    <tr>\n",
              "      <th>2</th>\n",
              "      <td>Platform Type</td>\n",
              "      <td>Platform used to place the order, there are 4 ...</td>\n",
              "    </tr>\n",
              "    <tr>\n",
              "      <th>3</th>\n",
              "      <td>Personal or Business</td>\n",
              "      <td>Customer type</td>\n",
              "    </tr>\n",
              "    <tr>\n",
              "      <th>4</th>\n",
              "      <td>Placement - Day of Month</td>\n",
              "      <td>Placement - Day of Month i.e 1-31</td>\n",
              "    </tr>\n",
              "    <tr>\n",
              "      <th>5</th>\n",
              "      <td>Placement - Weekday (Mo = 1)</td>\n",
              "      <td>Placement - Weekday (Monday = 1)</td>\n",
              "    </tr>\n",
              "    <tr>\n",
              "      <th>6</th>\n",
              "      <td>Placement - Time</td>\n",
              "      <td>Placement - Time - Time of day the order was p...</td>\n",
              "    </tr>\n",
              "    <tr>\n",
              "      <th>7</th>\n",
              "      <td>Confirmation - Day of Month</td>\n",
              "      <td>Confirmation - Day of Month i.e 1-31</td>\n",
              "    </tr>\n",
              "    <tr>\n",
              "      <th>8</th>\n",
              "      <td>Confirmation - Weekday (Mo = 1)</td>\n",
              "      <td>Confirmation - Weekday (Monday = 1)</td>\n",
              "    </tr>\n",
              "    <tr>\n",
              "      <th>9</th>\n",
              "      <td>Confirmation - Time</td>\n",
              "      <td>Confirmation - Time - Time of day the order wa...</td>\n",
              "    </tr>\n",
              "    <tr>\n",
              "      <th>10</th>\n",
              "      <td>Arrival at Pickup - Day of Month</td>\n",
              "      <td>Arrival at Pickup - Day of Month i.e 1-31</td>\n",
              "    </tr>\n",
              "    <tr>\n",
              "      <th>11</th>\n",
              "      <td>Arrival at Pickup - Weekday (Mo = 1)</td>\n",
              "      <td>Arrival at Pickup - Weekday (Monday = 1)</td>\n",
              "    </tr>\n",
              "    <tr>\n",
              "      <th>12</th>\n",
              "      <td>Arrival at Pickup - Time</td>\n",
              "      <td>Time of day the the rider arrived at the locat...</td>\n",
              "    </tr>\n",
              "    <tr>\n",
              "      <th>13</th>\n",
              "      <td>Pickup - Day of Month</td>\n",
              "      <td>Pickup - Day of Month i.e 1-31</td>\n",
              "    </tr>\n",
              "    <tr>\n",
              "      <th>14</th>\n",
              "      <td>Pickup - Weekday (Mo = 1)</td>\n",
              "      <td>Pickup - Weekday (Monday = 1)</td>\n",
              "    </tr>\n",
              "    <tr>\n",
              "      <th>15</th>\n",
              "      <td>Pickup - Time</td>\n",
              "      <td>Pickup - Time - Time of day the the rider pick...</td>\n",
              "    </tr>\n",
              "    <tr>\n",
              "      <th>16</th>\n",
              "      <td>Arrival at Destination - Day of Month</td>\n",
              "      <td>Arrival at Delivery - Day of Month i.e 1-31</td>\n",
              "    </tr>\n",
              "    <tr>\n",
              "      <th>17</th>\n",
              "      <td>Arrival at Destination - Weekday (Mo = 1)</td>\n",
              "      <td>Arrival at Delivery - Weekday (Monday = 1)</td>\n",
              "    </tr>\n",
              "    <tr>\n",
              "      <th>18</th>\n",
              "      <td>Arrival at Destination - Time</td>\n",
              "      <td>Arrival at Delivery Time - Time of day the rid...</td>\n",
              "    </tr>\n",
              "    <tr>\n",
              "      <th>19</th>\n",
              "      <td>Distance (KM)</td>\n",
              "      <td>The distance from Pickup to Destination</td>\n",
              "    </tr>\n",
              "    <tr>\n",
              "      <th>20</th>\n",
              "      <td>Temperature</td>\n",
              "      <td>Temperature at the time of order placement in ...</td>\n",
              "    </tr>\n",
              "    <tr>\n",
              "      <th>21</th>\n",
              "      <td>Precipitation in millimeters</td>\n",
              "      <td>Precipitation at the time of order placement ...</td>\n",
              "    </tr>\n",
              "    <tr>\n",
              "      <th>22</th>\n",
              "      <td>Pickup Lat</td>\n",
              "      <td>Latitude of pick up location</td>\n",
              "    </tr>\n",
              "    <tr>\n",
              "      <th>23</th>\n",
              "      <td>Pickup Long</td>\n",
              "      <td>Longitude of pick up location</td>\n",
              "    </tr>\n",
              "    <tr>\n",
              "      <th>24</th>\n",
              "      <td>Destination Lat</td>\n",
              "      <td>Latitude of delivery location</td>\n",
              "    </tr>\n",
              "    <tr>\n",
              "      <th>25</th>\n",
              "      <td>Destination Long</td>\n",
              "      <td>Longitude of delivery location</td>\n",
              "    </tr>\n",
              "    <tr>\n",
              "      <th>26</th>\n",
              "      <td>Rider Id</td>\n",
              "      <td>ID of the Rider who accepted the order</td>\n",
              "    </tr>\n",
              "    <tr>\n",
              "      <th>27</th>\n",
              "      <td>Time from Pickup to Arrival</td>\n",
              "      <td>Time in seconds between 'Pickup' and 'Arrival ...</td>\n",
              "    </tr>\n",
              "    <tr>\n",
              "      <th>28</th>\n",
              "      <td>NaN</td>\n",
              "      <td>NaN</td>\n",
              "    </tr>\n",
              "    <tr>\n",
              "      <th>29</th>\n",
              "      <td>Rider Metrics</td>\n",
              "      <td>NaN</td>\n",
              "    </tr>\n",
              "    <tr>\n",
              "      <th>30</th>\n",
              "      <td>Rider Id</td>\n",
              "      <td>Unique number identifying the rider (same as i...</td>\n",
              "    </tr>\n",
              "    <tr>\n",
              "      <th>31</th>\n",
              "      <td>No_Of_Orders</td>\n",
              "      <td>Number of Orders the rider has delivered</td>\n",
              "    </tr>\n",
              "    <tr>\n",
              "      <th>32</th>\n",
              "      <td>Age</td>\n",
              "      <td>Number of days since the rider delivered the f...</td>\n",
              "    </tr>\n",
              "    <tr>\n",
              "      <th>33</th>\n",
              "      <td>Average_Rating</td>\n",
              "      <td>Average rating of the rider</td>\n",
              "    </tr>\n",
              "    <tr>\n",
              "      <th>34</th>\n",
              "      <td>No_of_Ratings</td>\n",
              "      <td>Number of ratings the rider has received. Rat...</td>\n",
              "    </tr>\n",
              "  </tbody>\n",
              "</table>\n",
              "</div>\n",
              "      <button class=\"colab-df-convert\" onclick=\"convertToInteractive('df-d650f23f-9976-4373-969d-97f6a13b482b')\"\n",
              "              title=\"Convert this dataframe to an interactive table.\"\n",
              "              style=\"display:none;\">\n",
              "        \n",
              "  <svg xmlns=\"http://www.w3.org/2000/svg\" height=\"24px\"viewBox=\"0 0 24 24\"\n",
              "       width=\"24px\">\n",
              "    <path d=\"M0 0h24v24H0V0z\" fill=\"none\"/>\n",
              "    <path d=\"M18.56 5.44l.94 2.06.94-2.06 2.06-.94-2.06-.94-.94-2.06-.94 2.06-2.06.94zm-11 1L8.5 8.5l.94-2.06 2.06-.94-2.06-.94L8.5 2.5l-.94 2.06-2.06.94zm10 10l.94 2.06.94-2.06 2.06-.94-2.06-.94-.94-2.06-.94 2.06-2.06.94z\"/><path d=\"M17.41 7.96l-1.37-1.37c-.4-.4-.92-.59-1.43-.59-.52 0-1.04.2-1.43.59L10.3 9.45l-7.72 7.72c-.78.78-.78 2.05 0 2.83L4 21.41c.39.39.9.59 1.41.59.51 0 1.02-.2 1.41-.59l7.78-7.78 2.81-2.81c.8-.78.8-2.07 0-2.86zM5.41 20L4 18.59l7.72-7.72 1.47 1.35L5.41 20z\"/>\n",
              "  </svg>\n",
              "      </button>\n",
              "      \n",
              "  <style>\n",
              "    .colab-df-container {\n",
              "      display:flex;\n",
              "      flex-wrap:wrap;\n",
              "      gap: 12px;\n",
              "    }\n",
              "\n",
              "    .colab-df-convert {\n",
              "      background-color: #E8F0FE;\n",
              "      border: none;\n",
              "      border-radius: 50%;\n",
              "      cursor: pointer;\n",
              "      display: none;\n",
              "      fill: #1967D2;\n",
              "      height: 32px;\n",
              "      padding: 0 0 0 0;\n",
              "      width: 32px;\n",
              "    }\n",
              "\n",
              "    .colab-df-convert:hover {\n",
              "      background-color: #E2EBFA;\n",
              "      box-shadow: 0px 1px 2px rgba(60, 64, 67, 0.3), 0px 1px 3px 1px rgba(60, 64, 67, 0.15);\n",
              "      fill: #174EA6;\n",
              "    }\n",
              "\n",
              "    [theme=dark] .colab-df-convert {\n",
              "      background-color: #3B4455;\n",
              "      fill: #D2E3FC;\n",
              "    }\n",
              "\n",
              "    [theme=dark] .colab-df-convert:hover {\n",
              "      background-color: #434B5C;\n",
              "      box-shadow: 0px 1px 3px 1px rgba(0, 0, 0, 0.15);\n",
              "      filter: drop-shadow(0px 1px 2px rgba(0, 0, 0, 0.3));\n",
              "      fill: #FFFFFF;\n",
              "    }\n",
              "  </style>\n",
              "\n",
              "      <script>\n",
              "        const buttonEl =\n",
              "          document.querySelector('#df-d650f23f-9976-4373-969d-97f6a13b482b button.colab-df-convert');\n",
              "        buttonEl.style.display =\n",
              "          google.colab.kernel.accessAllowed ? 'block' : 'none';\n",
              "\n",
              "        async function convertToInteractive(key) {\n",
              "          const element = document.querySelector('#df-d650f23f-9976-4373-969d-97f6a13b482b');\n",
              "          const dataTable =\n",
              "            await google.colab.kernel.invokeFunction('convertToInteractive',\n",
              "                                                     [key], {});\n",
              "          if (!dataTable) return;\n",
              "\n",
              "          const docLinkHtml = 'Like what you see? Visit the ' +\n",
              "            '<a target=\"_blank\" href=https://colab.research.google.com/notebooks/data_table.ipynb>data table notebook</a>'\n",
              "            + ' to learn more about interactive tables.';\n",
              "          element.innerHTML = '';\n",
              "          dataTable['output_type'] = 'display_data';\n",
              "          await google.colab.output.renderOutput(dataTable, element);\n",
              "          const docLink = document.createElement('div');\n",
              "          docLink.innerHTML = docLinkHtml;\n",
              "          element.appendChild(docLink);\n",
              "        }\n",
              "      </script>\n",
              "    </div>\n",
              "  </div>\n",
              "  "
            ]
          },
          "metadata": {},
          "execution_count": 96
        }
      ]
    },
    {
      "cell_type": "code",
      "metadata": {
        "id": "7168_y8EhZg7",
        "colab": {
          "base_uri": "https://localhost:8080/",
          "height": 461
        },
        "outputId": "5af27137-a18f-444d-9660-59a3c2496dc1"
      },
      "source": [
        "# Checking the first 5 rows of data\n",
        "df.head()"
      ],
      "execution_count": 97,
      "outputs": [
        {
          "output_type": "execute_result",
          "data": {
            "text/plain": [
              "         Order No       User Id Vehicle Type  Platform Type  \\\n",
              "0   Order_No_4211   User_Id_633         Bike              3   \n",
              "1  Order_No_25375  User_Id_2285         Bike              3   \n",
              "2   Order_No_1899   User_Id_265         Bike              3   \n",
              "3   Order_No_9336  User_Id_1402         Bike              3   \n",
              "4  Order_No_27883  User_Id_1737         Bike              1   \n",
              "\n",
              "  Personal or Business  Placement - Day of Month  \\\n",
              "0             Business                         9   \n",
              "1             Personal                        12   \n",
              "2             Business                        30   \n",
              "3             Business                        15   \n",
              "4             Personal                        13   \n",
              "\n",
              "   Placement - Weekday (Mo = 1) Placement - Time  Confirmation - Day of Month  \\\n",
              "0                             5       9:35:46 AM                            9   \n",
              "1                             5      11:16:16 AM                           12   \n",
              "2                             2      12:39:25 PM                           30   \n",
              "3                             5       9:25:34 AM                           15   \n",
              "4                             1       9:55:18 AM                           13   \n",
              "\n",
              "   Confirmation - Weekday (Mo = 1) Confirmation - Time  \\\n",
              "0                                5          9:40:10 AM   \n",
              "1                                5         11:23:21 AM   \n",
              "2                                2         12:42:44 PM   \n",
              "3                                5          9:26:05 AM   \n",
              "4                                1          9:56:18 AM   \n",
              "\n",
              "   Arrival at Pickup - Day of Month  Arrival at Pickup - Weekday (Mo = 1)  \\\n",
              "0                                 9                                     5   \n",
              "1                                12                                     5   \n",
              "2                                30                                     2   \n",
              "3                                15                                     5   \n",
              "4                                13                                     1   \n",
              "\n",
              "  Arrival at Pickup - Time  Pickup - Day of Month  Pickup - Weekday (Mo = 1)  \\\n",
              "0              10:04:47 AM                      9                          5   \n",
              "1              11:40:22 AM                     12                          5   \n",
              "2              12:49:34 PM                     30                          2   \n",
              "3               9:37:56 AM                     15                          5   \n",
              "4              10:03:53 AM                     13                          1   \n",
              "\n",
              "  Pickup - Time  Arrival at Destination - Day of Month  \\\n",
              "0   10:27:30 AM                                      9   \n",
              "1   11:44:09 AM                                     12   \n",
              "2   12:53:03 PM                                     30   \n",
              "3    9:43:06 AM                                     15   \n",
              "4   10:05:23 AM                                     13   \n",
              "\n",
              "   Arrival at Destination - Weekday (Mo = 1) Arrival at Destination - Time  \\\n",
              "0                                          5                   10:39:55 AM   \n",
              "1                                          5                   12:17:22 PM   \n",
              "2                                          2                    1:00:38 PM   \n",
              "3                                          5                   10:05:27 AM   \n",
              "4                                          1                   10:25:37 AM   \n",
              "\n",
              "   Distance (KM)  Temperature  Precipitation in millimeters  Pickup Lat  \\\n",
              "0              4         20.4                           NaN   -1.317755   \n",
              "1             16         26.4                           NaN   -1.351453   \n",
              "2              3          NaN                           NaN   -1.308284   \n",
              "3              9         19.2                           NaN   -1.281301   \n",
              "4              9         15.4                           NaN   -1.266597   \n",
              "\n",
              "   Pickup Long  Destination Lat  Destination Long      Rider Id  \\\n",
              "0    36.830370        -1.300406         36.829741  Rider_Id_432   \n",
              "1    36.899315        -1.295004         36.814358  Rider_Id_856   \n",
              "2    36.843419        -1.300921         36.828195  Rider_Id_155   \n",
              "3    36.832396        -1.257147         36.795063  Rider_Id_855   \n",
              "4    36.792118        -1.295041         36.809817  Rider_Id_770   \n",
              "\n",
              "   Time from Pickup to Arrival  \n",
              "0                          745  \n",
              "1                         1993  \n",
              "2                          455  \n",
              "3                         1341  \n",
              "4                         1214  "
            ],
            "text/html": [
              "\n",
              "  <div id=\"df-aa3d8ec4-4aab-4c95-9a0e-2cee5f793f4d\">\n",
              "    <div class=\"colab-df-container\">\n",
              "      <div>\n",
              "<style scoped>\n",
              "    .dataframe tbody tr th:only-of-type {\n",
              "        vertical-align: middle;\n",
              "    }\n",
              "\n",
              "    .dataframe tbody tr th {\n",
              "        vertical-align: top;\n",
              "    }\n",
              "\n",
              "    .dataframe thead th {\n",
              "        text-align: right;\n",
              "    }\n",
              "</style>\n",
              "<table border=\"1\" class=\"dataframe\">\n",
              "  <thead>\n",
              "    <tr style=\"text-align: right;\">\n",
              "      <th></th>\n",
              "      <th>Order No</th>\n",
              "      <th>User Id</th>\n",
              "      <th>Vehicle Type</th>\n",
              "      <th>Platform Type</th>\n",
              "      <th>Personal or Business</th>\n",
              "      <th>Placement - Day of Month</th>\n",
              "      <th>Placement - Weekday (Mo = 1)</th>\n",
              "      <th>Placement - Time</th>\n",
              "      <th>Confirmation - Day of Month</th>\n",
              "      <th>Confirmation - Weekday (Mo = 1)</th>\n",
              "      <th>Confirmation - Time</th>\n",
              "      <th>Arrival at Pickup - Day of Month</th>\n",
              "      <th>Arrival at Pickup - Weekday (Mo = 1)</th>\n",
              "      <th>Arrival at Pickup - Time</th>\n",
              "      <th>Pickup - Day of Month</th>\n",
              "      <th>Pickup - Weekday (Mo = 1)</th>\n",
              "      <th>Pickup - Time</th>\n",
              "      <th>Arrival at Destination - Day of Month</th>\n",
              "      <th>Arrival at Destination - Weekday (Mo = 1)</th>\n",
              "      <th>Arrival at Destination - Time</th>\n",
              "      <th>Distance (KM)</th>\n",
              "      <th>Temperature</th>\n",
              "      <th>Precipitation in millimeters</th>\n",
              "      <th>Pickup Lat</th>\n",
              "      <th>Pickup Long</th>\n",
              "      <th>Destination Lat</th>\n",
              "      <th>Destination Long</th>\n",
              "      <th>Rider Id</th>\n",
              "      <th>Time from Pickup to Arrival</th>\n",
              "    </tr>\n",
              "  </thead>\n",
              "  <tbody>\n",
              "    <tr>\n",
              "      <th>0</th>\n",
              "      <td>Order_No_4211</td>\n",
              "      <td>User_Id_633</td>\n",
              "      <td>Bike</td>\n",
              "      <td>3</td>\n",
              "      <td>Business</td>\n",
              "      <td>9</td>\n",
              "      <td>5</td>\n",
              "      <td>9:35:46 AM</td>\n",
              "      <td>9</td>\n",
              "      <td>5</td>\n",
              "      <td>9:40:10 AM</td>\n",
              "      <td>9</td>\n",
              "      <td>5</td>\n",
              "      <td>10:04:47 AM</td>\n",
              "      <td>9</td>\n",
              "      <td>5</td>\n",
              "      <td>10:27:30 AM</td>\n",
              "      <td>9</td>\n",
              "      <td>5</td>\n",
              "      <td>10:39:55 AM</td>\n",
              "      <td>4</td>\n",
              "      <td>20.4</td>\n",
              "      <td>NaN</td>\n",
              "      <td>-1.317755</td>\n",
              "      <td>36.830370</td>\n",
              "      <td>-1.300406</td>\n",
              "      <td>36.829741</td>\n",
              "      <td>Rider_Id_432</td>\n",
              "      <td>745</td>\n",
              "    </tr>\n",
              "    <tr>\n",
              "      <th>1</th>\n",
              "      <td>Order_No_25375</td>\n",
              "      <td>User_Id_2285</td>\n",
              "      <td>Bike</td>\n",
              "      <td>3</td>\n",
              "      <td>Personal</td>\n",
              "      <td>12</td>\n",
              "      <td>5</td>\n",
              "      <td>11:16:16 AM</td>\n",
              "      <td>12</td>\n",
              "      <td>5</td>\n",
              "      <td>11:23:21 AM</td>\n",
              "      <td>12</td>\n",
              "      <td>5</td>\n",
              "      <td>11:40:22 AM</td>\n",
              "      <td>12</td>\n",
              "      <td>5</td>\n",
              "      <td>11:44:09 AM</td>\n",
              "      <td>12</td>\n",
              "      <td>5</td>\n",
              "      <td>12:17:22 PM</td>\n",
              "      <td>16</td>\n",
              "      <td>26.4</td>\n",
              "      <td>NaN</td>\n",
              "      <td>-1.351453</td>\n",
              "      <td>36.899315</td>\n",
              "      <td>-1.295004</td>\n",
              "      <td>36.814358</td>\n",
              "      <td>Rider_Id_856</td>\n",
              "      <td>1993</td>\n",
              "    </tr>\n",
              "    <tr>\n",
              "      <th>2</th>\n",
              "      <td>Order_No_1899</td>\n",
              "      <td>User_Id_265</td>\n",
              "      <td>Bike</td>\n",
              "      <td>3</td>\n",
              "      <td>Business</td>\n",
              "      <td>30</td>\n",
              "      <td>2</td>\n",
              "      <td>12:39:25 PM</td>\n",
              "      <td>30</td>\n",
              "      <td>2</td>\n",
              "      <td>12:42:44 PM</td>\n",
              "      <td>30</td>\n",
              "      <td>2</td>\n",
              "      <td>12:49:34 PM</td>\n",
              "      <td>30</td>\n",
              "      <td>2</td>\n",
              "      <td>12:53:03 PM</td>\n",
              "      <td>30</td>\n",
              "      <td>2</td>\n",
              "      <td>1:00:38 PM</td>\n",
              "      <td>3</td>\n",
              "      <td>NaN</td>\n",
              "      <td>NaN</td>\n",
              "      <td>-1.308284</td>\n",
              "      <td>36.843419</td>\n",
              "      <td>-1.300921</td>\n",
              "      <td>36.828195</td>\n",
              "      <td>Rider_Id_155</td>\n",
              "      <td>455</td>\n",
              "    </tr>\n",
              "    <tr>\n",
              "      <th>3</th>\n",
              "      <td>Order_No_9336</td>\n",
              "      <td>User_Id_1402</td>\n",
              "      <td>Bike</td>\n",
              "      <td>3</td>\n",
              "      <td>Business</td>\n",
              "      <td>15</td>\n",
              "      <td>5</td>\n",
              "      <td>9:25:34 AM</td>\n",
              "      <td>15</td>\n",
              "      <td>5</td>\n",
              "      <td>9:26:05 AM</td>\n",
              "      <td>15</td>\n",
              "      <td>5</td>\n",
              "      <td>9:37:56 AM</td>\n",
              "      <td>15</td>\n",
              "      <td>5</td>\n",
              "      <td>9:43:06 AM</td>\n",
              "      <td>15</td>\n",
              "      <td>5</td>\n",
              "      <td>10:05:27 AM</td>\n",
              "      <td>9</td>\n",
              "      <td>19.2</td>\n",
              "      <td>NaN</td>\n",
              "      <td>-1.281301</td>\n",
              "      <td>36.832396</td>\n",
              "      <td>-1.257147</td>\n",
              "      <td>36.795063</td>\n",
              "      <td>Rider_Id_855</td>\n",
              "      <td>1341</td>\n",
              "    </tr>\n",
              "    <tr>\n",
              "      <th>4</th>\n",
              "      <td>Order_No_27883</td>\n",
              "      <td>User_Id_1737</td>\n",
              "      <td>Bike</td>\n",
              "      <td>1</td>\n",
              "      <td>Personal</td>\n",
              "      <td>13</td>\n",
              "      <td>1</td>\n",
              "      <td>9:55:18 AM</td>\n",
              "      <td>13</td>\n",
              "      <td>1</td>\n",
              "      <td>9:56:18 AM</td>\n",
              "      <td>13</td>\n",
              "      <td>1</td>\n",
              "      <td>10:03:53 AM</td>\n",
              "      <td>13</td>\n",
              "      <td>1</td>\n",
              "      <td>10:05:23 AM</td>\n",
              "      <td>13</td>\n",
              "      <td>1</td>\n",
              "      <td>10:25:37 AM</td>\n",
              "      <td>9</td>\n",
              "      <td>15.4</td>\n",
              "      <td>NaN</td>\n",
              "      <td>-1.266597</td>\n",
              "      <td>36.792118</td>\n",
              "      <td>-1.295041</td>\n",
              "      <td>36.809817</td>\n",
              "      <td>Rider_Id_770</td>\n",
              "      <td>1214</td>\n",
              "    </tr>\n",
              "  </tbody>\n",
              "</table>\n",
              "</div>\n",
              "      <button class=\"colab-df-convert\" onclick=\"convertToInteractive('df-aa3d8ec4-4aab-4c95-9a0e-2cee5f793f4d')\"\n",
              "              title=\"Convert this dataframe to an interactive table.\"\n",
              "              style=\"display:none;\">\n",
              "        \n",
              "  <svg xmlns=\"http://www.w3.org/2000/svg\" height=\"24px\"viewBox=\"0 0 24 24\"\n",
              "       width=\"24px\">\n",
              "    <path d=\"M0 0h24v24H0V0z\" fill=\"none\"/>\n",
              "    <path d=\"M18.56 5.44l.94 2.06.94-2.06 2.06-.94-2.06-.94-.94-2.06-.94 2.06-2.06.94zm-11 1L8.5 8.5l.94-2.06 2.06-.94-2.06-.94L8.5 2.5l-.94 2.06-2.06.94zm10 10l.94 2.06.94-2.06 2.06-.94-2.06-.94-.94-2.06-.94 2.06-2.06.94z\"/><path d=\"M17.41 7.96l-1.37-1.37c-.4-.4-.92-.59-1.43-.59-.52 0-1.04.2-1.43.59L10.3 9.45l-7.72 7.72c-.78.78-.78 2.05 0 2.83L4 21.41c.39.39.9.59 1.41.59.51 0 1.02-.2 1.41-.59l7.78-7.78 2.81-2.81c.8-.78.8-2.07 0-2.86zM5.41 20L4 18.59l7.72-7.72 1.47 1.35L5.41 20z\"/>\n",
              "  </svg>\n",
              "      </button>\n",
              "      \n",
              "  <style>\n",
              "    .colab-df-container {\n",
              "      display:flex;\n",
              "      flex-wrap:wrap;\n",
              "      gap: 12px;\n",
              "    }\n",
              "\n",
              "    .colab-df-convert {\n",
              "      background-color: #E8F0FE;\n",
              "      border: none;\n",
              "      border-radius: 50%;\n",
              "      cursor: pointer;\n",
              "      display: none;\n",
              "      fill: #1967D2;\n",
              "      height: 32px;\n",
              "      padding: 0 0 0 0;\n",
              "      width: 32px;\n",
              "    }\n",
              "\n",
              "    .colab-df-convert:hover {\n",
              "      background-color: #E2EBFA;\n",
              "      box-shadow: 0px 1px 2px rgba(60, 64, 67, 0.3), 0px 1px 3px 1px rgba(60, 64, 67, 0.15);\n",
              "      fill: #174EA6;\n",
              "    }\n",
              "\n",
              "    [theme=dark] .colab-df-convert {\n",
              "      background-color: #3B4455;\n",
              "      fill: #D2E3FC;\n",
              "    }\n",
              "\n",
              "    [theme=dark] .colab-df-convert:hover {\n",
              "      background-color: #434B5C;\n",
              "      box-shadow: 0px 1px 3px 1px rgba(0, 0, 0, 0.15);\n",
              "      filter: drop-shadow(0px 1px 2px rgba(0, 0, 0, 0.3));\n",
              "      fill: #FFFFFF;\n",
              "    }\n",
              "  </style>\n",
              "\n",
              "      <script>\n",
              "        const buttonEl =\n",
              "          document.querySelector('#df-aa3d8ec4-4aab-4c95-9a0e-2cee5f793f4d button.colab-df-convert');\n",
              "        buttonEl.style.display =\n",
              "          google.colab.kernel.accessAllowed ? 'block' : 'none';\n",
              "\n",
              "        async function convertToInteractive(key) {\n",
              "          const element = document.querySelector('#df-aa3d8ec4-4aab-4c95-9a0e-2cee5f793f4d');\n",
              "          const dataTable =\n",
              "            await google.colab.kernel.invokeFunction('convertToInteractive',\n",
              "                                                     [key], {});\n",
              "          if (!dataTable) return;\n",
              "\n",
              "          const docLinkHtml = 'Like what you see? Visit the ' +\n",
              "            '<a target=\"_blank\" href=https://colab.research.google.com/notebooks/data_table.ipynb>data table notebook</a>'\n",
              "            + ' to learn more about interactive tables.';\n",
              "          element.innerHTML = '';\n",
              "          dataTable['output_type'] = 'display_data';\n",
              "          await google.colab.output.renderOutput(dataTable, element);\n",
              "          const docLink = document.createElement('div');\n",
              "          docLink.innerHTML = docLinkHtml;\n",
              "          element.appendChild(docLink);\n",
              "        }\n",
              "      </script>\n",
              "    </div>\n",
              "  </div>\n",
              "  "
            ]
          },
          "metadata": {},
          "execution_count": 97
        }
      ]
    },
    {
      "cell_type": "code",
      "metadata": {
        "id": "87pOSl5MhcdL",
        "colab": {
          "base_uri": "https://localhost:8080/",
          "height": 461
        },
        "outputId": "f0831ad6-e5a2-4a28-e6ec-935f28a7b5cf"
      },
      "source": [
        "# Checking the last 5 rows of data\n",
        "# ---\n",
        "df.tail(5)"
      ],
      "execution_count": 98,
      "outputs": [
        {
          "output_type": "execute_result",
          "data": {
            "text/plain": [
              "             Order No       User Id Vehicle Type  Platform Type  \\\n",
              "21196   Order_No_8834  User_Id_2001         Bike              3   \n",
              "21197  Order_No_22892  User_Id_1796         Bike              3   \n",
              "21198   Order_No_2831  User_Id_2956         Bike              3   \n",
              "21199   Order_No_6174  User_Id_2524         Bike              1   \n",
              "21200   Order_No_9836   User_Id_718         Bike              3   \n",
              "\n",
              "      Personal or Business  Placement - Day of Month  \\\n",
              "21196             Personal                        20   \n",
              "21197             Business                        13   \n",
              "21198             Business                         7   \n",
              "21199             Personal                         4   \n",
              "21200             Business                        26   \n",
              "\n",
              "       Placement - Weekday (Mo = 1) Placement - Time  \\\n",
              "21196                             3       3:54:38 PM   \n",
              "21197                             6      10:13:34 AM   \n",
              "21198                             4       5:06:16 PM   \n",
              "21199                             3       9:31:39 AM   \n",
              "21200                             2       2:19:47 PM   \n",
              "\n",
              "       Confirmation - Day of Month  Confirmation - Weekday (Mo = 1)  \\\n",
              "21196                           20                                3   \n",
              "21197                           13                                6   \n",
              "21198                            7                                4   \n",
              "21199                            4                                3   \n",
              "21200                           26                                2   \n",
              "\n",
              "      Confirmation - Time  Arrival at Pickup - Day of Month  \\\n",
              "21196          3:55:09 PM                                20   \n",
              "21197         10:13:41 AM                                13   \n",
              "21198          5:07:09 PM                                 7   \n",
              "21199          9:31:53 AM                                 4   \n",
              "21200          2:20:01 PM                                26   \n",
              "\n",
              "       Arrival at Pickup - Weekday (Mo = 1) Arrival at Pickup - Time  \\\n",
              "21196                                     3               3:58:49 PM   \n",
              "21197                                     6              10:20:04 AM   \n",
              "21198                                     4               5:30:17 PM   \n",
              "21199                                     3               9:38:59 AM   \n",
              "21200                                     2               2:24:29 PM   \n",
              "\n",
              "       Pickup - Day of Month  Pickup - Weekday (Mo = 1) Pickup - Time  \\\n",
              "21196                     20                          3    4:20:08 PM   \n",
              "21197                     13                          6   10:33:27 AM   \n",
              "21198                      7                          4    5:50:52 PM   \n",
              "21199                      4                          3    9:45:15 AM   \n",
              "21200                     26                          2    2:41:55 PM   \n",
              "\n",
              "       Arrival at Destination - Day of Month  \\\n",
              "21196                                     20   \n",
              "21197                                     13   \n",
              "21198                                      7   \n",
              "21199                                      4   \n",
              "21200                                     26   \n",
              "\n",
              "       Arrival at Destination - Weekday (Mo = 1)  \\\n",
              "21196                                          3   \n",
              "21197                                          6   \n",
              "21198                                          4   \n",
              "21199                                          3   \n",
              "21200                                          2   \n",
              "\n",
              "      Arrival at Destination - Time  Distance (KM)  Temperature  \\\n",
              "21196                    4:20:17 PM              3         28.6   \n",
              "21197                   10:46:17 AM              7         26.0   \n",
              "21198                    6:40:05 PM             20         29.2   \n",
              "21199                   10:08:15 AM             13         15.0   \n",
              "21200                    3:17:23 PM             12         30.9   \n",
              "\n",
              "       Precipitation in millimeters  Pickup Lat  Pickup Long  Destination Lat  \\\n",
              "21196                           NaN   -1.258414    36.804800        -1.275285   \n",
              "21197                           NaN   -1.307143    36.825009        -1.331619   \n",
              "21198                           NaN   -1.286018    36.897534        -1.258414   \n",
              "21199                           NaN   -1.250030    36.874167        -1.279210   \n",
              "21200                           NaN   -1.255189    36.782203        -1.320157   \n",
              "\n",
              "       Destination Long      Rider Id  Time from Pickup to Arrival  \n",
              "21196         36.802702  Rider_Id_953                            9  \n",
              "21197         36.847976  Rider_Id_155                          770  \n",
              "21198         36.804800  Rider_Id_697                         2953  \n",
              "21199         36.794872  Rider_Id_347                         1380  \n",
              "21200         36.830887  Rider_Id_177                         2128  "
            ],
            "text/html": [
              "\n",
              "  <div id=\"df-aa4ce1ed-ae8f-4dbe-9064-db99bf09d7f6\">\n",
              "    <div class=\"colab-df-container\">\n",
              "      <div>\n",
              "<style scoped>\n",
              "    .dataframe tbody tr th:only-of-type {\n",
              "        vertical-align: middle;\n",
              "    }\n",
              "\n",
              "    .dataframe tbody tr th {\n",
              "        vertical-align: top;\n",
              "    }\n",
              "\n",
              "    .dataframe thead th {\n",
              "        text-align: right;\n",
              "    }\n",
              "</style>\n",
              "<table border=\"1\" class=\"dataframe\">\n",
              "  <thead>\n",
              "    <tr style=\"text-align: right;\">\n",
              "      <th></th>\n",
              "      <th>Order No</th>\n",
              "      <th>User Id</th>\n",
              "      <th>Vehicle Type</th>\n",
              "      <th>Platform Type</th>\n",
              "      <th>Personal or Business</th>\n",
              "      <th>Placement - Day of Month</th>\n",
              "      <th>Placement - Weekday (Mo = 1)</th>\n",
              "      <th>Placement - Time</th>\n",
              "      <th>Confirmation - Day of Month</th>\n",
              "      <th>Confirmation - Weekday (Mo = 1)</th>\n",
              "      <th>Confirmation - Time</th>\n",
              "      <th>Arrival at Pickup - Day of Month</th>\n",
              "      <th>Arrival at Pickup - Weekday (Mo = 1)</th>\n",
              "      <th>Arrival at Pickup - Time</th>\n",
              "      <th>Pickup - Day of Month</th>\n",
              "      <th>Pickup - Weekday (Mo = 1)</th>\n",
              "      <th>Pickup - Time</th>\n",
              "      <th>Arrival at Destination - Day of Month</th>\n",
              "      <th>Arrival at Destination - Weekday (Mo = 1)</th>\n",
              "      <th>Arrival at Destination - Time</th>\n",
              "      <th>Distance (KM)</th>\n",
              "      <th>Temperature</th>\n",
              "      <th>Precipitation in millimeters</th>\n",
              "      <th>Pickup Lat</th>\n",
              "      <th>Pickup Long</th>\n",
              "      <th>Destination Lat</th>\n",
              "      <th>Destination Long</th>\n",
              "      <th>Rider Id</th>\n",
              "      <th>Time from Pickup to Arrival</th>\n",
              "    </tr>\n",
              "  </thead>\n",
              "  <tbody>\n",
              "    <tr>\n",
              "      <th>21196</th>\n",
              "      <td>Order_No_8834</td>\n",
              "      <td>User_Id_2001</td>\n",
              "      <td>Bike</td>\n",
              "      <td>3</td>\n",
              "      <td>Personal</td>\n",
              "      <td>20</td>\n",
              "      <td>3</td>\n",
              "      <td>3:54:38 PM</td>\n",
              "      <td>20</td>\n",
              "      <td>3</td>\n",
              "      <td>3:55:09 PM</td>\n",
              "      <td>20</td>\n",
              "      <td>3</td>\n",
              "      <td>3:58:49 PM</td>\n",
              "      <td>20</td>\n",
              "      <td>3</td>\n",
              "      <td>4:20:08 PM</td>\n",
              "      <td>20</td>\n",
              "      <td>3</td>\n",
              "      <td>4:20:17 PM</td>\n",
              "      <td>3</td>\n",
              "      <td>28.6</td>\n",
              "      <td>NaN</td>\n",
              "      <td>-1.258414</td>\n",
              "      <td>36.804800</td>\n",
              "      <td>-1.275285</td>\n",
              "      <td>36.802702</td>\n",
              "      <td>Rider_Id_953</td>\n",
              "      <td>9</td>\n",
              "    </tr>\n",
              "    <tr>\n",
              "      <th>21197</th>\n",
              "      <td>Order_No_22892</td>\n",
              "      <td>User_Id_1796</td>\n",
              "      <td>Bike</td>\n",
              "      <td>3</td>\n",
              "      <td>Business</td>\n",
              "      <td>13</td>\n",
              "      <td>6</td>\n",
              "      <td>10:13:34 AM</td>\n",
              "      <td>13</td>\n",
              "      <td>6</td>\n",
              "      <td>10:13:41 AM</td>\n",
              "      <td>13</td>\n",
              "      <td>6</td>\n",
              "      <td>10:20:04 AM</td>\n",
              "      <td>13</td>\n",
              "      <td>6</td>\n",
              "      <td>10:33:27 AM</td>\n",
              "      <td>13</td>\n",
              "      <td>6</td>\n",
              "      <td>10:46:17 AM</td>\n",
              "      <td>7</td>\n",
              "      <td>26.0</td>\n",
              "      <td>NaN</td>\n",
              "      <td>-1.307143</td>\n",
              "      <td>36.825009</td>\n",
              "      <td>-1.331619</td>\n",
              "      <td>36.847976</td>\n",
              "      <td>Rider_Id_155</td>\n",
              "      <td>770</td>\n",
              "    </tr>\n",
              "    <tr>\n",
              "      <th>21198</th>\n",
              "      <td>Order_No_2831</td>\n",
              "      <td>User_Id_2956</td>\n",
              "      <td>Bike</td>\n",
              "      <td>3</td>\n",
              "      <td>Business</td>\n",
              "      <td>7</td>\n",
              "      <td>4</td>\n",
              "      <td>5:06:16 PM</td>\n",
              "      <td>7</td>\n",
              "      <td>4</td>\n",
              "      <td>5:07:09 PM</td>\n",
              "      <td>7</td>\n",
              "      <td>4</td>\n",
              "      <td>5:30:17 PM</td>\n",
              "      <td>7</td>\n",
              "      <td>4</td>\n",
              "      <td>5:50:52 PM</td>\n",
              "      <td>7</td>\n",
              "      <td>4</td>\n",
              "      <td>6:40:05 PM</td>\n",
              "      <td>20</td>\n",
              "      <td>29.2</td>\n",
              "      <td>NaN</td>\n",
              "      <td>-1.286018</td>\n",
              "      <td>36.897534</td>\n",
              "      <td>-1.258414</td>\n",
              "      <td>36.804800</td>\n",
              "      <td>Rider_Id_697</td>\n",
              "      <td>2953</td>\n",
              "    </tr>\n",
              "    <tr>\n",
              "      <th>21199</th>\n",
              "      <td>Order_No_6174</td>\n",
              "      <td>User_Id_2524</td>\n",
              "      <td>Bike</td>\n",
              "      <td>1</td>\n",
              "      <td>Personal</td>\n",
              "      <td>4</td>\n",
              "      <td>3</td>\n",
              "      <td>9:31:39 AM</td>\n",
              "      <td>4</td>\n",
              "      <td>3</td>\n",
              "      <td>9:31:53 AM</td>\n",
              "      <td>4</td>\n",
              "      <td>3</td>\n",
              "      <td>9:38:59 AM</td>\n",
              "      <td>4</td>\n",
              "      <td>3</td>\n",
              "      <td>9:45:15 AM</td>\n",
              "      <td>4</td>\n",
              "      <td>3</td>\n",
              "      <td>10:08:15 AM</td>\n",
              "      <td>13</td>\n",
              "      <td>15.0</td>\n",
              "      <td>NaN</td>\n",
              "      <td>-1.250030</td>\n",
              "      <td>36.874167</td>\n",
              "      <td>-1.279210</td>\n",
              "      <td>36.794872</td>\n",
              "      <td>Rider_Id_347</td>\n",
              "      <td>1380</td>\n",
              "    </tr>\n",
              "    <tr>\n",
              "      <th>21200</th>\n",
              "      <td>Order_No_9836</td>\n",
              "      <td>User_Id_718</td>\n",
              "      <td>Bike</td>\n",
              "      <td>3</td>\n",
              "      <td>Business</td>\n",
              "      <td>26</td>\n",
              "      <td>2</td>\n",
              "      <td>2:19:47 PM</td>\n",
              "      <td>26</td>\n",
              "      <td>2</td>\n",
              "      <td>2:20:01 PM</td>\n",
              "      <td>26</td>\n",
              "      <td>2</td>\n",
              "      <td>2:24:29 PM</td>\n",
              "      <td>26</td>\n",
              "      <td>2</td>\n",
              "      <td>2:41:55 PM</td>\n",
              "      <td>26</td>\n",
              "      <td>2</td>\n",
              "      <td>3:17:23 PM</td>\n",
              "      <td>12</td>\n",
              "      <td>30.9</td>\n",
              "      <td>NaN</td>\n",
              "      <td>-1.255189</td>\n",
              "      <td>36.782203</td>\n",
              "      <td>-1.320157</td>\n",
              "      <td>36.830887</td>\n",
              "      <td>Rider_Id_177</td>\n",
              "      <td>2128</td>\n",
              "    </tr>\n",
              "  </tbody>\n",
              "</table>\n",
              "</div>\n",
              "      <button class=\"colab-df-convert\" onclick=\"convertToInteractive('df-aa4ce1ed-ae8f-4dbe-9064-db99bf09d7f6')\"\n",
              "              title=\"Convert this dataframe to an interactive table.\"\n",
              "              style=\"display:none;\">\n",
              "        \n",
              "  <svg xmlns=\"http://www.w3.org/2000/svg\" height=\"24px\"viewBox=\"0 0 24 24\"\n",
              "       width=\"24px\">\n",
              "    <path d=\"M0 0h24v24H0V0z\" fill=\"none\"/>\n",
              "    <path d=\"M18.56 5.44l.94 2.06.94-2.06 2.06-.94-2.06-.94-.94-2.06-.94 2.06-2.06.94zm-11 1L8.5 8.5l.94-2.06 2.06-.94-2.06-.94L8.5 2.5l-.94 2.06-2.06.94zm10 10l.94 2.06.94-2.06 2.06-.94-2.06-.94-.94-2.06-.94 2.06-2.06.94z\"/><path d=\"M17.41 7.96l-1.37-1.37c-.4-.4-.92-.59-1.43-.59-.52 0-1.04.2-1.43.59L10.3 9.45l-7.72 7.72c-.78.78-.78 2.05 0 2.83L4 21.41c.39.39.9.59 1.41.59.51 0 1.02-.2 1.41-.59l7.78-7.78 2.81-2.81c.8-.78.8-2.07 0-2.86zM5.41 20L4 18.59l7.72-7.72 1.47 1.35L5.41 20z\"/>\n",
              "  </svg>\n",
              "      </button>\n",
              "      \n",
              "  <style>\n",
              "    .colab-df-container {\n",
              "      display:flex;\n",
              "      flex-wrap:wrap;\n",
              "      gap: 12px;\n",
              "    }\n",
              "\n",
              "    .colab-df-convert {\n",
              "      background-color: #E8F0FE;\n",
              "      border: none;\n",
              "      border-radius: 50%;\n",
              "      cursor: pointer;\n",
              "      display: none;\n",
              "      fill: #1967D2;\n",
              "      height: 32px;\n",
              "      padding: 0 0 0 0;\n",
              "      width: 32px;\n",
              "    }\n",
              "\n",
              "    .colab-df-convert:hover {\n",
              "      background-color: #E2EBFA;\n",
              "      box-shadow: 0px 1px 2px rgba(60, 64, 67, 0.3), 0px 1px 3px 1px rgba(60, 64, 67, 0.15);\n",
              "      fill: #174EA6;\n",
              "    }\n",
              "\n",
              "    [theme=dark] .colab-df-convert {\n",
              "      background-color: #3B4455;\n",
              "      fill: #D2E3FC;\n",
              "    }\n",
              "\n",
              "    [theme=dark] .colab-df-convert:hover {\n",
              "      background-color: #434B5C;\n",
              "      box-shadow: 0px 1px 3px 1px rgba(0, 0, 0, 0.15);\n",
              "      filter: drop-shadow(0px 1px 2px rgba(0, 0, 0, 0.3));\n",
              "      fill: #FFFFFF;\n",
              "    }\n",
              "  </style>\n",
              "\n",
              "      <script>\n",
              "        const buttonEl =\n",
              "          document.querySelector('#df-aa4ce1ed-ae8f-4dbe-9064-db99bf09d7f6 button.colab-df-convert');\n",
              "        buttonEl.style.display =\n",
              "          google.colab.kernel.accessAllowed ? 'block' : 'none';\n",
              "\n",
              "        async function convertToInteractive(key) {\n",
              "          const element = document.querySelector('#df-aa4ce1ed-ae8f-4dbe-9064-db99bf09d7f6');\n",
              "          const dataTable =\n",
              "            await google.colab.kernel.invokeFunction('convertToInteractive',\n",
              "                                                     [key], {});\n",
              "          if (!dataTable) return;\n",
              "\n",
              "          const docLinkHtml = 'Like what you see? Visit the ' +\n",
              "            '<a target=\"_blank\" href=https://colab.research.google.com/notebooks/data_table.ipynb>data table notebook</a>'\n",
              "            + ' to learn more about interactive tables.';\n",
              "          element.innerHTML = '';\n",
              "          dataTable['output_type'] = 'display_data';\n",
              "          await google.colab.output.renderOutput(dataTable, element);\n",
              "          const docLink = document.createElement('div');\n",
              "          docLink.innerHTML = docLinkHtml;\n",
              "          element.appendChild(docLink);\n",
              "        }\n",
              "      </script>\n",
              "    </div>\n",
              "  </div>\n",
              "  "
            ]
          },
          "metadata": {},
          "execution_count": 98
        }
      ]
    },
    {
      "cell_type": "code",
      "metadata": {
        "id": "x3sfP6y2hgIS",
        "colab": {
          "base_uri": "https://localhost:8080/"
        },
        "outputId": "3b6086bb-97b3-4b27-fe16-7718eb4e63ed"
      },
      "source": [
        "# Checking number of rows and columns\n",
        "df.shape"
      ],
      "execution_count": 99,
      "outputs": [
        {
          "output_type": "execute_result",
          "data": {
            "text/plain": [
              "(21201, 29)"
            ]
          },
          "metadata": {},
          "execution_count": 99
        }
      ]
    },
    {
      "cell_type": "code",
      "metadata": {
        "id": "AovarG6Bhk4y",
        "colab": {
          "base_uri": "https://localhost:8080/"
        },
        "outputId": "5b571ec2-d412-4c8e-d07d-9d6c8231f318"
      },
      "source": [
        "# Checking datatypes\n",
        "df.info()"
      ],
      "execution_count": 100,
      "outputs": [
        {
          "output_type": "stream",
          "name": "stdout",
          "text": [
            "<class 'pandas.core.frame.DataFrame'>\n",
            "RangeIndex: 21201 entries, 0 to 21200\n",
            "Data columns (total 29 columns):\n",
            " #   Column                                     Non-Null Count  Dtype  \n",
            "---  ------                                     --------------  -----  \n",
            " 0   Order No                                   21201 non-null  object \n",
            " 1   User Id                                    21201 non-null  object \n",
            " 2   Vehicle Type                               21201 non-null  object \n",
            " 3   Platform Type                              21201 non-null  int64  \n",
            " 4   Personal or Business                       21201 non-null  object \n",
            " 5   Placement - Day of Month                   21201 non-null  int64  \n",
            " 6   Placement - Weekday (Mo = 1)               21201 non-null  int64  \n",
            " 7   Placement - Time                           21201 non-null  object \n",
            " 8   Confirmation - Day of Month                21201 non-null  int64  \n",
            " 9   Confirmation - Weekday (Mo = 1)            21201 non-null  int64  \n",
            " 10  Confirmation - Time                        21201 non-null  object \n",
            " 11  Arrival at Pickup - Day of Month           21201 non-null  int64  \n",
            " 12  Arrival at Pickup - Weekday (Mo = 1)       21201 non-null  int64  \n",
            " 13  Arrival at Pickup - Time                   21201 non-null  object \n",
            " 14  Pickup - Day of Month                      21201 non-null  int64  \n",
            " 15  Pickup - Weekday (Mo = 1)                  21201 non-null  int64  \n",
            " 16  Pickup - Time                              21201 non-null  object \n",
            " 17  Arrival at Destination - Day of Month      21201 non-null  int64  \n",
            " 18  Arrival at Destination - Weekday (Mo = 1)  21201 non-null  int64  \n",
            " 19  Arrival at Destination - Time              21201 non-null  object \n",
            " 20  Distance (KM)                              21201 non-null  int64  \n",
            " 21  Temperature                                16835 non-null  float64\n",
            " 22  Precipitation in millimeters               552 non-null    float64\n",
            " 23  Pickup Lat                                 21201 non-null  float64\n",
            " 24  Pickup Long                                21201 non-null  float64\n",
            " 25  Destination Lat                            21201 non-null  float64\n",
            " 26  Destination Long                           21201 non-null  float64\n",
            " 27  Rider Id                                   21201 non-null  object \n",
            " 28  Time from Pickup to Arrival                21201 non-null  int64  \n",
            "dtypes: float64(6), int64(13), object(10)\n",
            "memory usage: 4.7+ MB\n"
          ]
        }
      ]
    },
    {
      "cell_type": "markdown",
      "metadata": {
        "id": "sKNcQTasmCgA"
      },
      "source": [
        "Observations:\n",
        "\n",
        "*   The are 21201 observations in the dataset.\n",
        "*   The dataset has 29 features.\n",
        "*   There are 10 categorical features\n",
        "*   There are 19 numerical features\n",
        "\n"
      ]
    },
    {
      "cell_type": "markdown",
      "metadata": {
        "id": "ckfufNrcUHeH"
      },
      "source": [
        "## 3. External Data Source Validation"
      ]
    },
    {
      "cell_type": "markdown",
      "metadata": {
        "id": "6L4sl_0WXlbg"
      },
      "source": [
        "The provided dataset has enough features to help in developing a machine learning model that can predict delivery time."
      ]
    },
    {
      "cell_type": "markdown",
      "metadata": {
        "id": "FlBMxEDBUc9B"
      },
      "source": [
        "## 4. Data Preparation"
      ]
    },
    {
      "cell_type": "markdown",
      "source": [
        "### Data Standardisation"
      ],
      "metadata": {
        "id": "3R12ITECzhLt"
      }
    },
    {
      "cell_type": "code",
      "source": [
        "# Standardise column names\n",
        "# ---\n",
        "df.columns = df.columns.str.strip().str.lower().str.replace(\" \",\"_\")\n",
        "df.columns"
      ],
      "metadata": {
        "id": "AcHQpS8xzrDF",
        "colab": {
          "base_uri": "https://localhost:8080/"
        },
        "outputId": "5ad20a54-123f-4fa0-d840-d99bf6373f73"
      },
      "execution_count": 101,
      "outputs": [
        {
          "output_type": "execute_result",
          "data": {
            "text/plain": [
              "Index(['order_no', 'user_id', 'vehicle_type', 'platform_type',\n",
              "       'personal_or_business', 'placement_-_day_of_month',\n",
              "       'placement_-_weekday_(mo_=_1)', 'placement_-_time',\n",
              "       'confirmation_-_day_of_month', 'confirmation_-_weekday_(mo_=_1)',\n",
              "       'confirmation_-_time', 'arrival_at_pickup_-_day_of_month',\n",
              "       'arrival_at_pickup_-_weekday_(mo_=_1)', 'arrival_at_pickup_-_time',\n",
              "       'pickup_-_day_of_month', 'pickup_-_weekday_(mo_=_1)', 'pickup_-_time',\n",
              "       'arrival_at_destination_-_day_of_month',\n",
              "       'arrival_at_destination_-_weekday_(mo_=_1)',\n",
              "       'arrival_at_destination_-_time', 'distance_(km)', 'temperature',\n",
              "       'precipitation_in_millimeters', 'pickup_lat', 'pickup_long',\n",
              "       'destination_lat', 'destination_long', 'rider_id',\n",
              "       'time_from_pickup_to_arrival'],\n",
              "      dtype='object')"
            ]
          },
          "metadata": {},
          "execution_count": 101
        }
      ]
    },
    {
      "cell_type": "markdown",
      "metadata": {
        "id": "YNtWOlYAkcO_"
      },
      "source": [
        "### Data Cleaning"
      ]
    },
    {
      "cell_type": "markdown",
      "source": [
        "#### Irrelevant Data"
      ],
      "metadata": {
        "id": "fjn4T1d74jfH"
      }
    },
    {
      "cell_type": "markdown",
      "source": [
        "The columns *order_no, user_id* and *rider_id* serve as identifier variables and serve no major purpose in modelling, hence I will remove them."
      ],
      "metadata": {
        "id": "wab4jk7S6bgH"
      }
    },
    {
      "cell_type": "code",
      "source": [
        "df.drop(columns=['order_no', 'user_id', 'rider_id'],inplace=True)"
      ],
      "metadata": {
        "id": "P-mCiUUa5nXT"
      },
      "execution_count": 102,
      "outputs": []
    },
    {
      "cell_type": "code",
      "source": [
        "vehicle_type_count = df['vehicle_type'].value_counts()\n",
        "vehicle_type_count"
      ],
      "metadata": {
        "colab": {
          "base_uri": "https://localhost:8080/"
        },
        "id": "jheWwuCcE2Qn",
        "outputId": "026aa0a0-79d6-4a31-d192-9776efc3ef80"
      },
      "execution_count": 103,
      "outputs": [
        {
          "output_type": "execute_result",
          "data": {
            "text/plain": [
              "Bike    21201\n",
              "Name: vehicle_type, dtype: int64"
            ]
          },
          "metadata": {},
          "execution_count": 103
        }
      ]
    },
    {
      "cell_type": "markdown",
      "source": [
        "There is only one vehicle type, hence it won't have an impact on modelling."
      ],
      "metadata": {
        "id": "Qm59jyIMFJcI"
      }
    },
    {
      "cell_type": "code",
      "source": [
        "df.drop(columns=['vehicle_type'],inplace=True)"
      ],
      "metadata": {
        "id": "m6sElE7vF75Y"
      },
      "execution_count": 104,
      "outputs": []
    },
    {
      "cell_type": "markdown",
      "source": [
        "In my opinion, the time related variables that are relevant in determining delivery time, are those that measure time from the moment an Order is picked up. Hence, I will keep a single 'Day of Month', 'Weekday' and 'Time' column for 'Pickup'."
      ],
      "metadata": {
        "id": "aVCS4su1PBPJ"
      }
    },
    {
      "cell_type": "code",
      "source": [
        "time_cols_drop = ['confirmation_-_day_of_month', 'confirmation_-_weekday_(mo_=_1)', \\\n",
        "           'confirmation_-_time', 'arrival_at_pickup_-_day_of_month', 'arrival_at_pickup_-_weekday_(mo_=_1)', \\\n",
        "           'arrival_at_pickup_-_time','pickup_-_day_of_month', 'pickup_-_weekday_(mo_=_1)']\n",
        "\n",
        "df.drop(time_cols_drop, inplace=True, axis=1)"
      ],
      "metadata": {
        "id": "15EN5Dq-XEuY"
      },
      "execution_count": 105,
      "outputs": []
    },
    {
      "cell_type": "markdown",
      "source": [
        "#### Duplicate data"
      ],
      "metadata": {
        "id": "ICn1Irlb5LWy"
      }
    },
    {
      "cell_type": "code",
      "source": [
        "# Find the total duplicate records\n",
        "df.duplicated().sum()"
      ],
      "metadata": {
        "colab": {
          "base_uri": "https://localhost:8080/"
        },
        "id": "dvpfHp1x7gbT",
        "outputId": "417ae257-d7a5-4df9-c2f4-697ea180681a"
      },
      "execution_count": 106,
      "outputs": [
        {
          "output_type": "execute_result",
          "data": {
            "text/plain": [
              "0"
            ]
          },
          "metadata": {},
          "execution_count": 106
        }
      ]
    },
    {
      "cell_type": "markdown",
      "source": [
        "#### Missing Data"
      ],
      "metadata": {
        "id": "nocqWsTV5UcU"
      }
    },
    {
      "cell_type": "code",
      "metadata": {
        "id": "YYxrLT0GiQSc",
        "colab": {
          "base_uri": "https://localhost:8080/"
        },
        "outputId": "373b5375-67b3-4c11-c8b9-01bafbd28f90"
      },
      "source": [
        "# Checking missing entries of all the variables\n",
        "# ---\n",
        "# \n",
        "df.isnull().sum()"
      ],
      "execution_count": 107,
      "outputs": [
        {
          "output_type": "execute_result",
          "data": {
            "text/plain": [
              "platform_type                                    0\n",
              "personal_or_business                             0\n",
              "placement_-_day_of_month                         0\n",
              "placement_-_weekday_(mo_=_1)                     0\n",
              "placement_-_time                                 0\n",
              "pickup_-_time                                    0\n",
              "arrival_at_destination_-_day_of_month            0\n",
              "arrival_at_destination_-_weekday_(mo_=_1)        0\n",
              "arrival_at_destination_-_time                    0\n",
              "distance_(km)                                    0\n",
              "temperature                                   4366\n",
              "precipitation_in_millimeters                 20649\n",
              "pickup_lat                                       0\n",
              "pickup_long                                      0\n",
              "destination_lat                                  0\n",
              "destination_long                                 0\n",
              "time_from_pickup_to_arrival                      0\n",
              "dtype: int64"
            ]
          },
          "metadata": {},
          "execution_count": 107
        }
      ]
    },
    {
      "cell_type": "markdown",
      "source": [
        "Since Nairobi is arid to semi-arid, precipitation in this case will refer to rainfall. Rainfall affects traffic and road confitions, hence I won't remove this variable. I will replace the null values with 0 mm of rainfall, assuming that the missing values imply no rainfall."
      ],
      "metadata": {
        "id": "7GOkL62wpUWa"
      }
    },
    {
      "cell_type": "code",
      "source": [
        "df['precipitation_in_millimeters'].fillna(0,inplace=True)"
      ],
      "metadata": {
        "id": "Jd9H4cHbqS_X"
      },
      "execution_count": 108,
      "outputs": []
    },
    {
      "cell_type": "markdown",
      "source": [
        "I will replace the missing values in the temperature values with the mean"
      ],
      "metadata": {
        "id": "aYt40m0LtP8-"
      }
    },
    {
      "cell_type": "code",
      "source": [
        "# I will replace null values in the `temperature` column with the mean\n",
        "df['temperature'].fillna(value=df['temperature'].mean(), inplace=True)\n",
        "df.info()"
      ],
      "metadata": {
        "id": "hvcFdh9VBCHt",
        "colab": {
          "base_uri": "https://localhost:8080/"
        },
        "outputId": "07c0e641-cbc6-455f-894c-afde93499e04"
      },
      "execution_count": 109,
      "outputs": [
        {
          "output_type": "stream",
          "name": "stdout",
          "text": [
            "<class 'pandas.core.frame.DataFrame'>\n",
            "RangeIndex: 21201 entries, 0 to 21200\n",
            "Data columns (total 17 columns):\n",
            " #   Column                                     Non-Null Count  Dtype  \n",
            "---  ------                                     --------------  -----  \n",
            " 0   platform_type                              21201 non-null  int64  \n",
            " 1   personal_or_business                       21201 non-null  object \n",
            " 2   placement_-_day_of_month                   21201 non-null  int64  \n",
            " 3   placement_-_weekday_(mo_=_1)               21201 non-null  int64  \n",
            " 4   placement_-_time                           21201 non-null  object \n",
            " 5   pickup_-_time                              21201 non-null  object \n",
            " 6   arrival_at_destination_-_day_of_month      21201 non-null  int64  \n",
            " 7   arrival_at_destination_-_weekday_(mo_=_1)  21201 non-null  int64  \n",
            " 8   arrival_at_destination_-_time              21201 non-null  object \n",
            " 9   distance_(km)                              21201 non-null  int64  \n",
            " 10  temperature                                21201 non-null  float64\n",
            " 11  precipitation_in_millimeters               21201 non-null  float64\n",
            " 12  pickup_lat                                 21201 non-null  float64\n",
            " 13  pickup_long                                21201 non-null  float64\n",
            " 14  destination_lat                            21201 non-null  float64\n",
            " 15  destination_long                           21201 non-null  float64\n",
            " 16  time_from_pickup_to_arrival                21201 non-null  int64  \n",
            "dtypes: float64(6), int64(7), object(4)\n",
            "memory usage: 2.7+ MB\n"
          ]
        }
      ]
    },
    {
      "cell_type": "markdown",
      "source": [
        "I will encode the personal_or_business variable"
      ],
      "metadata": {
        "id": "96Xs2ijF36dv"
      }
    },
    {
      "cell_type": "code",
      "source": [
        "df['personal_or_business'] = df['personal_or_business'].astype('category').cat.codes\n",
        "df['personal_or_business'].value_counts()"
      ],
      "metadata": {
        "colab": {
          "base_uri": "https://localhost:8080/"
        },
        "id": "366mHQK14ALi",
        "outputId": "bd7f73d3-3962-4db5-837b-370116053d75"
      },
      "execution_count": 110,
      "outputs": [
        {
          "output_type": "execute_result",
          "data": {
            "text/plain": [
              "0    17384\n",
              "1     3817\n",
              "Name: personal_or_business, dtype: int64"
            ]
          },
          "metadata": {},
          "execution_count": 110
        }
      ]
    },
    {
      "cell_type": "markdown",
      "source": [
        "I will convert the date/time columns to the format HMS e.g 3:54:38 PM becomes 155438"
      ],
      "metadata": {
        "id": "kOneJXOQLg08"
      }
    },
    {
      "cell_type": "code",
      "source": [
        "from datetime import datetime\n",
        "\n",
        "def convert_time(time):\n",
        "  formatted_time = datetime.strptime(time, \"%I:%M:%S %p\")\n",
        "  str_from_time = datetime.strftime(formatted_time, \"%H%M%S\")\n",
        "  return str_from_time\n",
        "\n",
        "time_columns = ['placement_-_time', 'pickup_-_time', 'arrival_at_destination_-_time']\n",
        "\n",
        "for col in time_columns:\n",
        "  df[col] = df[col].apply(convert_time)\n",
        "\n",
        "df.sample(5)"
      ],
      "metadata": {
        "colab": {
          "base_uri": "https://localhost:8080/",
          "height": 288
        },
        "id": "QJw3lNWxL0x0",
        "outputId": "23591cd7-4711-4685-d24e-9ebf8f7c246f"
      },
      "execution_count": 111,
      "outputs": [
        {
          "output_type": "execute_result",
          "data": {
            "text/plain": [
              "       platform_type  personal_or_business  placement_-_day_of_month  \\\n",
              "16381              1                     1                        15   \n",
              "12907              3                     0                        26   \n",
              "3035               3                     0                         8   \n",
              "91                 3                     0                        28   \n",
              "587                3                     0                         1   \n",
              "\n",
              "       placement_-_weekday_(mo_=_1) placement_-_time pickup_-_time  \\\n",
              "16381                             2           090156        092519   \n",
              "12907                             5           162825        163646   \n",
              "3035                              5           133603        141616   \n",
              "91                                4           151047        152507   \n",
              "587                               5           122003        123554   \n",
              "\n",
              "       arrival_at_destination_-_day_of_month  \\\n",
              "16381                                     15   \n",
              "12907                                     26   \n",
              "3035                                       8   \n",
              "91                                        28   \n",
              "587                                        1   \n",
              "\n",
              "       arrival_at_destination_-_weekday_(mo_=_1)  \\\n",
              "16381                                          2   \n",
              "12907                                          5   \n",
              "3035                                           5   \n",
              "91                                             4   \n",
              "587                                            5   \n",
              "\n",
              "      arrival_at_destination_-_time  distance_(km)  temperature  \\\n",
              "16381                        094042              5    18.100000   \n",
              "12907                        164855              4    23.258889   \n",
              "3035                         153638              7    27.000000   \n",
              "91                           153735              5    30.100000   \n",
              "587                          124951              8    26.700000   \n",
              "\n",
              "       precipitation_in_millimeters  pickup_lat  pickup_long  destination_lat  \\\n",
              "16381                           2.0   -1.304696    36.801646        -1.317867   \n",
              "12907                           0.0   -1.276091    36.808103        -1.257147   \n",
              "3035                            0.0   -1.286177    36.820909        -1.255189   \n",
              "91                              0.0   -1.260975    36.788663        -1.274396   \n",
              "587                             0.0   -1.255189    36.782203        -1.285417   \n",
              "\n",
              "       destination_long  time_from_pickup_to_arrival  \n",
              "16381         36.812166                          923  \n",
              "12907         36.795063                          729  \n",
              "3035          36.782203                         4822  \n",
              "91            36.821591                          748  \n",
              "587           36.795115                          837  "
            ],
            "text/html": [
              "\n",
              "  <div id=\"df-d4b51c72-9abe-4294-91c5-06a418696781\">\n",
              "    <div class=\"colab-df-container\">\n",
              "      <div>\n",
              "<style scoped>\n",
              "    .dataframe tbody tr th:only-of-type {\n",
              "        vertical-align: middle;\n",
              "    }\n",
              "\n",
              "    .dataframe tbody tr th {\n",
              "        vertical-align: top;\n",
              "    }\n",
              "\n",
              "    .dataframe thead th {\n",
              "        text-align: right;\n",
              "    }\n",
              "</style>\n",
              "<table border=\"1\" class=\"dataframe\">\n",
              "  <thead>\n",
              "    <tr style=\"text-align: right;\">\n",
              "      <th></th>\n",
              "      <th>platform_type</th>\n",
              "      <th>personal_or_business</th>\n",
              "      <th>placement_-_day_of_month</th>\n",
              "      <th>placement_-_weekday_(mo_=_1)</th>\n",
              "      <th>placement_-_time</th>\n",
              "      <th>pickup_-_time</th>\n",
              "      <th>arrival_at_destination_-_day_of_month</th>\n",
              "      <th>arrival_at_destination_-_weekday_(mo_=_1)</th>\n",
              "      <th>arrival_at_destination_-_time</th>\n",
              "      <th>distance_(km)</th>\n",
              "      <th>temperature</th>\n",
              "      <th>precipitation_in_millimeters</th>\n",
              "      <th>pickup_lat</th>\n",
              "      <th>pickup_long</th>\n",
              "      <th>destination_lat</th>\n",
              "      <th>destination_long</th>\n",
              "      <th>time_from_pickup_to_arrival</th>\n",
              "    </tr>\n",
              "  </thead>\n",
              "  <tbody>\n",
              "    <tr>\n",
              "      <th>16381</th>\n",
              "      <td>1</td>\n",
              "      <td>1</td>\n",
              "      <td>15</td>\n",
              "      <td>2</td>\n",
              "      <td>090156</td>\n",
              "      <td>092519</td>\n",
              "      <td>15</td>\n",
              "      <td>2</td>\n",
              "      <td>094042</td>\n",
              "      <td>5</td>\n",
              "      <td>18.100000</td>\n",
              "      <td>2.0</td>\n",
              "      <td>-1.304696</td>\n",
              "      <td>36.801646</td>\n",
              "      <td>-1.317867</td>\n",
              "      <td>36.812166</td>\n",
              "      <td>923</td>\n",
              "    </tr>\n",
              "    <tr>\n",
              "      <th>12907</th>\n",
              "      <td>3</td>\n",
              "      <td>0</td>\n",
              "      <td>26</td>\n",
              "      <td>5</td>\n",
              "      <td>162825</td>\n",
              "      <td>163646</td>\n",
              "      <td>26</td>\n",
              "      <td>5</td>\n",
              "      <td>164855</td>\n",
              "      <td>4</td>\n",
              "      <td>23.258889</td>\n",
              "      <td>0.0</td>\n",
              "      <td>-1.276091</td>\n",
              "      <td>36.808103</td>\n",
              "      <td>-1.257147</td>\n",
              "      <td>36.795063</td>\n",
              "      <td>729</td>\n",
              "    </tr>\n",
              "    <tr>\n",
              "      <th>3035</th>\n",
              "      <td>3</td>\n",
              "      <td>0</td>\n",
              "      <td>8</td>\n",
              "      <td>5</td>\n",
              "      <td>133603</td>\n",
              "      <td>141616</td>\n",
              "      <td>8</td>\n",
              "      <td>5</td>\n",
              "      <td>153638</td>\n",
              "      <td>7</td>\n",
              "      <td>27.000000</td>\n",
              "      <td>0.0</td>\n",
              "      <td>-1.286177</td>\n",
              "      <td>36.820909</td>\n",
              "      <td>-1.255189</td>\n",
              "      <td>36.782203</td>\n",
              "      <td>4822</td>\n",
              "    </tr>\n",
              "    <tr>\n",
              "      <th>91</th>\n",
              "      <td>3</td>\n",
              "      <td>0</td>\n",
              "      <td>28</td>\n",
              "      <td>4</td>\n",
              "      <td>151047</td>\n",
              "      <td>152507</td>\n",
              "      <td>28</td>\n",
              "      <td>4</td>\n",
              "      <td>153735</td>\n",
              "      <td>5</td>\n",
              "      <td>30.100000</td>\n",
              "      <td>0.0</td>\n",
              "      <td>-1.260975</td>\n",
              "      <td>36.788663</td>\n",
              "      <td>-1.274396</td>\n",
              "      <td>36.821591</td>\n",
              "      <td>748</td>\n",
              "    </tr>\n",
              "    <tr>\n",
              "      <th>587</th>\n",
              "      <td>3</td>\n",
              "      <td>0</td>\n",
              "      <td>1</td>\n",
              "      <td>5</td>\n",
              "      <td>122003</td>\n",
              "      <td>123554</td>\n",
              "      <td>1</td>\n",
              "      <td>5</td>\n",
              "      <td>124951</td>\n",
              "      <td>8</td>\n",
              "      <td>26.700000</td>\n",
              "      <td>0.0</td>\n",
              "      <td>-1.255189</td>\n",
              "      <td>36.782203</td>\n",
              "      <td>-1.285417</td>\n",
              "      <td>36.795115</td>\n",
              "      <td>837</td>\n",
              "    </tr>\n",
              "  </tbody>\n",
              "</table>\n",
              "</div>\n",
              "      <button class=\"colab-df-convert\" onclick=\"convertToInteractive('df-d4b51c72-9abe-4294-91c5-06a418696781')\"\n",
              "              title=\"Convert this dataframe to an interactive table.\"\n",
              "              style=\"display:none;\">\n",
              "        \n",
              "  <svg xmlns=\"http://www.w3.org/2000/svg\" height=\"24px\"viewBox=\"0 0 24 24\"\n",
              "       width=\"24px\">\n",
              "    <path d=\"M0 0h24v24H0V0z\" fill=\"none\"/>\n",
              "    <path d=\"M18.56 5.44l.94 2.06.94-2.06 2.06-.94-2.06-.94-.94-2.06-.94 2.06-2.06.94zm-11 1L8.5 8.5l.94-2.06 2.06-.94-2.06-.94L8.5 2.5l-.94 2.06-2.06.94zm10 10l.94 2.06.94-2.06 2.06-.94-2.06-.94-.94-2.06-.94 2.06-2.06.94z\"/><path d=\"M17.41 7.96l-1.37-1.37c-.4-.4-.92-.59-1.43-.59-.52 0-1.04.2-1.43.59L10.3 9.45l-7.72 7.72c-.78.78-.78 2.05 0 2.83L4 21.41c.39.39.9.59 1.41.59.51 0 1.02-.2 1.41-.59l7.78-7.78 2.81-2.81c.8-.78.8-2.07 0-2.86zM5.41 20L4 18.59l7.72-7.72 1.47 1.35L5.41 20z\"/>\n",
              "  </svg>\n",
              "      </button>\n",
              "      \n",
              "  <style>\n",
              "    .colab-df-container {\n",
              "      display:flex;\n",
              "      flex-wrap:wrap;\n",
              "      gap: 12px;\n",
              "    }\n",
              "\n",
              "    .colab-df-convert {\n",
              "      background-color: #E8F0FE;\n",
              "      border: none;\n",
              "      border-radius: 50%;\n",
              "      cursor: pointer;\n",
              "      display: none;\n",
              "      fill: #1967D2;\n",
              "      height: 32px;\n",
              "      padding: 0 0 0 0;\n",
              "      width: 32px;\n",
              "    }\n",
              "\n",
              "    .colab-df-convert:hover {\n",
              "      background-color: #E2EBFA;\n",
              "      box-shadow: 0px 1px 2px rgba(60, 64, 67, 0.3), 0px 1px 3px 1px rgba(60, 64, 67, 0.15);\n",
              "      fill: #174EA6;\n",
              "    }\n",
              "\n",
              "    [theme=dark] .colab-df-convert {\n",
              "      background-color: #3B4455;\n",
              "      fill: #D2E3FC;\n",
              "    }\n",
              "\n",
              "    [theme=dark] .colab-df-convert:hover {\n",
              "      background-color: #434B5C;\n",
              "      box-shadow: 0px 1px 3px 1px rgba(0, 0, 0, 0.15);\n",
              "      filter: drop-shadow(0px 1px 2px rgba(0, 0, 0, 0.3));\n",
              "      fill: #FFFFFF;\n",
              "    }\n",
              "  </style>\n",
              "\n",
              "      <script>\n",
              "        const buttonEl =\n",
              "          document.querySelector('#df-d4b51c72-9abe-4294-91c5-06a418696781 button.colab-df-convert');\n",
              "        buttonEl.style.display =\n",
              "          google.colab.kernel.accessAllowed ? 'block' : 'none';\n",
              "\n",
              "        async function convertToInteractive(key) {\n",
              "          const element = document.querySelector('#df-d4b51c72-9abe-4294-91c5-06a418696781');\n",
              "          const dataTable =\n",
              "            await google.colab.kernel.invokeFunction('convertToInteractive',\n",
              "                                                     [key], {});\n",
              "          if (!dataTable) return;\n",
              "\n",
              "          const docLinkHtml = 'Like what you see? Visit the ' +\n",
              "            '<a target=\"_blank\" href=https://colab.research.google.com/notebooks/data_table.ipynb>data table notebook</a>'\n",
              "            + ' to learn more about interactive tables.';\n",
              "          element.innerHTML = '';\n",
              "          dataTable['output_type'] = 'display_data';\n",
              "          await google.colab.output.renderOutput(dataTable, element);\n",
              "          const docLink = document.createElement('div');\n",
              "          docLink.innerHTML = docLinkHtml;\n",
              "          element.appendChild(docLink);\n",
              "        }\n",
              "      </script>\n",
              "    </div>\n",
              "  </div>\n",
              "  "
            ]
          },
          "metadata": {},
          "execution_count": 111
        }
      ]
    },
    {
      "cell_type": "markdown",
      "metadata": {
        "id": "vTbdjSrhVIiT"
      },
      "source": [
        "## 5. Data Modelling"
      ]
    },
    {
      "cell_type": "markdown",
      "source": [
        "#### Base model - Ensemble Regressor"
      ],
      "metadata": {
        "id": "so4xqtK_JrP9"
      }
    },
    {
      "cell_type": "code",
      "source": [
        "features = df.drop(['time_from_pickup_to_arrival'], axis=1)\n",
        "target = df['time_from_pickup_to_arrival']\n",
        "\n",
        "# Splitting the data into training, testing and validation sets. Of the base dataset: 20% - testing, 80% - training.\n",
        "features_train, features_test, target_train, target_test = train_test_split(features, target, test_size=0.20, random_state=12345)\n",
        "\n",
        "# Model \n",
        "base_regressor = RandomForestRegressor(n_estimators = 10, random_state = 12345)\n",
        "\n",
        "# Train the model\n",
        "base_regressor.fit(features_train, target_train)\n",
        "\n",
        "# Predict using the model\n",
        "predictions = base_regressor.predict(features_test)\n",
        "\n",
        "# RMSE\n",
        "rmse = mean_squared_error(target_test, predictions) ** 0.5\n",
        "\n",
        "print('RMSE: ', rmse)"
      ],
      "metadata": {
        "colab": {
          "base_uri": "https://localhost:8080/"
        },
        "id": "jYU5mB0_J_Bs",
        "outputId": "5dbccb96-3858-46b7-82f9-12032c3cfa59"
      },
      "execution_count": 112,
      "outputs": [
        {
          "output_type": "stream",
          "name": "stdout",
          "text": [
            "RMSE:  525.3969582871707\n"
          ]
        }
      ]
    },
    {
      "cell_type": "markdown",
      "source": [
        "## 5. Model Optimization"
      ],
      "metadata": {
        "id": "OY3AfifsZPvL"
      }
    },
    {
      "cell_type": "markdown",
      "source": [
        "#### Feature Scaling"
      ],
      "metadata": {
        "id": "Q7CPHo8DQtLT"
      }
    },
    {
      "cell_type": "markdown",
      "source": [
        "Standardization"
      ],
      "metadata": {
        "id": "-Qw2iqfcT7pa"
      }
    },
    {
      "cell_type": "code",
      "source": [
        "# Scaler\n",
        "scaler = StandardScaler()\n",
        "\n",
        "# Scaled model\n",
        "features_train_scaled = scaler.fit_transform(features_train) \n",
        "features_test_scaled = scaler.fit_transform(features_test)\n",
        "\n",
        "# fit the model\n",
        "regressor_scaled = RandomForestRegressor(n_estimators = 10, random_state = 12345)\n",
        "regressor_scaled.fit(features_train_scaled, target_train)\n",
        "\n",
        "# predict\n",
        "predictions_scaled = regressor_scaled.predict(features_test_scaled)\n",
        "\n",
        "rmse = np.sqrt(mean_squared_error(target_test, predictions_scaled))\n",
        "\n",
        "print('RMSE: ', rmse)\n",
        "\n"
      ],
      "metadata": {
        "colab": {
          "base_uri": "https://localhost:8080/"
        },
        "id": "fHEXx5rTT94O",
        "outputId": "be1595c2-ea85-45ff-827f-a43af34a7131"
      },
      "execution_count": 114,
      "outputs": [
        {
          "output_type": "stream",
          "name": "stdout",
          "text": [
            "RMSE:  526.5920410670499\n"
          ]
        }
      ]
    },
    {
      "cell_type": "markdown",
      "source": [
        "Normalization"
      ],
      "metadata": {
        "id": "DMnMsJ7ZRzD_"
      }
    },
    {
      "cell_type": "code",
      "source": [
        "# Normalized model\n",
        "normalized = MinMaxScaler().fit(features_train) \n",
        "features_train_normalized = normalized.transform(features_train) \n",
        "features_test_normalized = normalized.transform(features_test)\n",
        "\n",
        "# fit the model\n",
        "regressor_normalized = RandomForestRegressor(n_estimators = 10, random_state = 12345)\n",
        "regressor_normalized.fit(features_train_normalized, target_train)\n",
        "\n",
        "# predict\n",
        "predictions_normalized = regressor_normalized.predict(features_test_normalized)\n",
        "\n",
        "# RMSE\n",
        "rmse = np.sqrt(mean_squared_error(target_test, predictions_normalized))\n",
        "\n",
        "print('RMSE:', rmse)"
      ],
      "metadata": {
        "colab": {
          "base_uri": "https://localhost:8080/"
        },
        "id": "i7Y0x3w6R1mV",
        "outputId": "eab450c7-7c32-481a-aaa8-7bcc0da7d533"
      },
      "execution_count": 113,
      "outputs": [
        {
          "output_type": "stream",
          "name": "stdout",
          "text": [
            "RMSE: 525.5213235397118\n"
          ]
        }
      ]
    },
    {
      "cell_type": "markdown",
      "source": [
        "Normalization achieves better result than standardization"
      ],
      "metadata": {
        "id": "hWjhd_J6WTNf"
      }
    },
    {
      "cell_type": "markdown",
      "source": [
        "#### Feature Selection"
      ],
      "metadata": {
        "id": "lUXq8051W0uU"
      }
    },
    {
      "cell_type": "markdown",
      "source": [
        "**Step Forward Feature Selection**"
      ],
      "metadata": {
        "id": "tDcJdCmOW7YN"
      }
    },
    {
      "cell_type": "code",
      "source": [
        "features = df.drop(['time_from_pickup_to_arrival'], axis=1)\n",
        "target = df['time_from_pickup_to_arrival']\n",
        "\n",
        "# Splitting the data into training, testing and validation sets. Of the base dataset: 20% - testing, 80% - training.\n",
        "features_train, features_test, target_train, target_test = train_test_split(features, target, test_size=0.20, random_state=12345)\n",
        "\n",
        "# Normalized model\n",
        "normalized = MinMaxScaler().fit(features_train) \n",
        "features_train_normalized = normalized.transform(features_train) \n",
        "features_test_normalized = normalized.transform(features_test)\n",
        "\n",
        "regressor_sf = RandomForestRegressor(n_estimators = 10, random_state = 12345)\n",
        "\n",
        "# I'll pass the normalised model defined above to the SequentialFeatureSelector function. \n",
        "# k_features: number of features to select. \n",
        "# forward: if set to True, performs step forward feature selection. \n",
        "# verbose: used for logging the progress of the feature selector\n",
        "# scoring: defines the performance evaluation criteria \n",
        "# cv: refers to cross-validation folds.\n",
        "\n",
        "feature_selector_sf = SequentialFeatureSelector(regressor_sf,\n",
        "           k_features=15,\n",
        "           forward=True,\n",
        "           verbose=2,\n",
        "           scoring='r2',\n",
        "           cv=4)\n",
        " \n",
        "# Step forward feature selection\n",
        "feature_selector_sf = feature_selector_sf.fit(features_train_normalized, target_train)"
      ],
      "metadata": {
        "colab": {
          "base_uri": "https://localhost:8080/"
        },
        "id": "6TlU7YxjW8-C",
        "outputId": "a968fcdb-0a40-4535-a371-0ff1f34e513d"
      },
      "execution_count": null,
      "outputs": [
        {
          "output_type": "stream",
          "name": "stderr",
          "text": [
            "[Parallel(n_jobs=1)]: Using backend SequentialBackend with 1 concurrent workers.\n",
            "[Parallel(n_jobs=1)]: Done   1 out of   1 | elapsed:    0.1s remaining:    0.0s\n",
            "[Parallel(n_jobs=1)]: Done  16 out of  16 | elapsed:    8.2s finished\n",
            "\n",
            "[2022-11-27 20:28:05] Features: 1/15 -- score: 0.3391752466522554[Parallel(n_jobs=1)]: Using backend SequentialBackend with 1 concurrent workers.\n",
            "[Parallel(n_jobs=1)]: Done   1 out of   1 | elapsed:    0.2s remaining:    0.0s\n",
            "[Parallel(n_jobs=1)]: Done  15 out of  15 | elapsed:    7.3s finished\n",
            "\n",
            "[2022-11-27 20:28:12] Features: 2/15 -- score: 0.33770154263715374[Parallel(n_jobs=1)]: Using backend SequentialBackend with 1 concurrent workers.\n",
            "[Parallel(n_jobs=1)]: Done   1 out of   1 | elapsed:    0.2s remaining:    0.0s\n",
            "[Parallel(n_jobs=1)]: Done  14 out of  14 | elapsed:    7.8s finished\n",
            "\n",
            "[2022-11-27 20:28:20] Features: 3/15 -- score: 0.33470381059571186[Parallel(n_jobs=1)]: Using backend SequentialBackend with 1 concurrent workers.\n",
            "[Parallel(n_jobs=1)]: Done   1 out of   1 | elapsed:    0.2s remaining:    0.0s\n",
            "[Parallel(n_jobs=1)]: Done  13 out of  13 | elapsed:    8.8s finished\n",
            "\n",
            "[2022-11-27 20:28:29] Features: 4/15 -- score: 0.3304927949789883[Parallel(n_jobs=1)]: Using backend SequentialBackend with 1 concurrent workers.\n",
            "[Parallel(n_jobs=1)]: Done   1 out of   1 | elapsed:    0.5s remaining:    0.0s\n",
            "[Parallel(n_jobs=1)]: Done  12 out of  12 | elapsed:    8.7s finished\n",
            "\n",
            "[2022-11-27 20:28:37] Features: 5/15 -- score: 0.3058221164850581[Parallel(n_jobs=1)]: Using backend SequentialBackend with 1 concurrent workers.\n",
            "[Parallel(n_jobs=1)]: Done   1 out of   1 | elapsed:    0.7s remaining:    0.0s\n",
            "[Parallel(n_jobs=1)]: Done  11 out of  11 | elapsed:   12.5s finished\n",
            "\n",
            "[2022-11-27 20:28:50] Features: 6/15 -- score: 0.30630567722790913[Parallel(n_jobs=1)]: Using backend SequentialBackend with 1 concurrent workers.\n",
            "[Parallel(n_jobs=1)]: Done   1 out of   1 | elapsed:    0.8s remaining:    0.0s\n",
            "[Parallel(n_jobs=1)]: Done  10 out of  10 | elapsed:   11.3s finished\n",
            "\n",
            "[2022-11-27 20:29:01] Features: 7/15 -- score: 0.19372090909047462[Parallel(n_jobs=1)]: Using backend SequentialBackend with 1 concurrent workers.\n",
            "[Parallel(n_jobs=1)]: Done   1 out of   1 | elapsed:    1.5s remaining:    0.0s\n",
            "[Parallel(n_jobs=1)]: Done   9 out of   9 | elapsed:   14.2s finished\n",
            "\n",
            "[2022-11-27 20:29:15] Features: 8/15 -- score: 0.23971589660567913[Parallel(n_jobs=1)]: Using backend SequentialBackend with 1 concurrent workers.\n",
            "[Parallel(n_jobs=1)]: Done   1 out of   1 | elapsed:    2.1s remaining:    0.0s\n",
            "[Parallel(n_jobs=1)]: Done   8 out of   8 | elapsed:   17.5s finished\n",
            "\n",
            "[2022-11-27 20:29:33] Features: 9/15 -- score: 0.8349766706043882[Parallel(n_jobs=1)]: Using backend SequentialBackend with 1 concurrent workers.\n",
            "[Parallel(n_jobs=1)]: Done   1 out of   1 | elapsed:    2.7s remaining:    0.0s\n",
            "[Parallel(n_jobs=1)]: Done   7 out of   7 | elapsed:   19.4s finished\n",
            "\n",
            "[2022-11-27 20:29:52] Features: 10/15 -- score: 0.818321946473315[Parallel(n_jobs=1)]: Using backend SequentialBackend with 1 concurrent workers.\n",
            "[Parallel(n_jobs=1)]: Done   1 out of   1 | elapsed:    3.2s remaining:    0.0s\n",
            "[Parallel(n_jobs=1)]: Done   6 out of   6 | elapsed:   19.3s finished\n",
            "\n",
            "[2022-11-27 20:30:11] Features: 11/15 -- score: 0.7988198828586125[Parallel(n_jobs=1)]: Using backend SequentialBackend with 1 concurrent workers.\n",
            "[Parallel(n_jobs=1)]: Done   1 out of   1 | elapsed:    3.4s remaining:    0.0s\n"
          ]
        }
      ]
    },
    {
      "cell_type": "code",
      "source": [
        "selected_features_sb = list(feature_selector_sf.k_feature_idx_)\n",
        "#selected_features\n",
        "\n",
        "# Modelling with features from step forward selection\n",
        "step_forward_regressor = RandomForestRegressor(n_estimators = 10, random_state = 12345)\n",
        "step_forward_regressor.fit(features_train_normalized[:, selected_features_sb], target_train)\n",
        "\n",
        "# Making Predictions and determining the accuracies\n",
        "step_forward_predictions = step_forward_regressor.predict(features_test_normalized[:, selected_features_sb])\n",
        "\n",
        "# RMSE\n",
        "rmse = np.sqrt(mean_squared_error(target_test, step_forward_predictions))\n",
        "\n",
        "print('RMSE with step forward features: ', rmse)"
      ],
      "metadata": {
        "colab": {
          "base_uri": "https://localhost:8080/"
        },
        "id": "bAwAwabVj4Cv",
        "outputId": "b3c9785d-b4fe-4db0-df58-1350bb1b475e"
      },
      "execution_count": 118,
      "outputs": [
        {
          "output_type": "stream",
          "name": "stdout",
          "text": [
            "RMSE with step forward features:  490.43403365549784\n"
          ]
        }
      ]
    },
    {
      "cell_type": "markdown",
      "source": [
        "**Step Backward Feature Selection**"
      ],
      "metadata": {
        "id": "2KmL1ih3qO-7"
      }
    },
    {
      "cell_type": "code",
      "source": [
        "# This time I set the `forward` parameter to False\n",
        "\n",
        "feature_selector_sb = SequentialFeatureSelector(regressor_normalized,\n",
        "           k_features=15,\n",
        "           forward=False,\n",
        "           verbose=2,\n",
        "           scoring='r2',\n",
        "           cv=4)\n",
        " \n",
        "# Step forward feature selection\n",
        "feature_selector_sb = feature_selector_sb.fit(features_train_normalized, target_train)"
      ],
      "metadata": {
        "colab": {
          "base_uri": "https://localhost:8080/"
        },
        "id": "-2_kfmNZqWEg",
        "outputId": "0ac386df-89e2-4e58-f768-812fb0ff8d75"
      },
      "execution_count": 119,
      "outputs": [
        {
          "output_type": "stream",
          "name": "stderr",
          "text": [
            "[Parallel(n_jobs=1)]: Using backend SequentialBackend with 1 concurrent workers.\n",
            "[Parallel(n_jobs=1)]: Done   1 out of   1 | elapsed:    5.2s remaining:    0.0s\n",
            "[Parallel(n_jobs=1)]: Done  16 out of  16 | elapsed:  1.3min finished\n",
            "\n",
            "[2022-11-27 20:04:35] Features: 15/15 -- score: 0.6827128528080655"
          ]
        }
      ]
    },
    {
      "cell_type": "code",
      "source": [
        "selected_features_sb = list(feature_selector_sb.k_feature_idx_)\n",
        "#selected_features\n",
        "\n",
        "# Modelling with features from step backward selection\n",
        "step_backward_regressor = RandomForestRegressor(n_estimators = 10, random_state = 12345)\n",
        "step_backward_regressor.fit(features_train_normalized[:, selected_features_sb], target_train)\n",
        "\n",
        "# Making Predictions and determining the accuracies\n",
        "step_backward_predictions = step_backward_regressor.predict(features_test_normalized[:, selected_features_sb])\n",
        "\n",
        "# RMSE\n",
        "rmse = np.sqrt(mean_squared_error(target_test, step_backward_predictions))\n",
        "\n",
        "print('RMSE with step backward features: ', rmse)"
      ],
      "metadata": {
        "colab": {
          "base_uri": "https://localhost:8080/"
        },
        "id": "jv1lPwFTrRZa",
        "outputId": "1b8cdb04-a51d-4da4-f1b4-e2f52969fec9"
      },
      "execution_count": 121,
      "outputs": [
        {
          "output_type": "stream",
          "name": "stdout",
          "text": [
            "RMSE with step backward features:  490.43403365549784\n"
          ]
        }
      ]
    },
    {
      "cell_type": "markdown",
      "source": [
        "RMSE improves from 522 to 490"
      ],
      "metadata": {
        "id": "dYfDsDc4uNVa"
      }
    },
    {
      "cell_type": "markdown",
      "source": [
        "**Recursive Feature Elimination**"
      ],
      "metadata": {
        "id": "FCHxguHsuAWo"
      }
    },
    {
      "cell_type": "code",
      "source": [
        "# Checking missing entries of all the variables\n",
        "# ---\n",
        "# \n",
        "df.isnull().sum()"
      ],
      "metadata": {
        "colab": {
          "base_uri": "https://localhost:8080/"
        },
        "id": "dR-TKExRD0pu",
        "outputId": "b55c5559-6caf-4b59-cd21-abec8e1074e7"
      },
      "execution_count": 89,
      "outputs": [
        {
          "output_type": "execute_result",
          "data": {
            "text/plain": [
              "platform_type                                0\n",
              "personal_or_business                         0\n",
              "placement_-_day_of_month                     0\n",
              "placement_-_weekday_(mo_=_1)                 0\n",
              "placement_-_time                             0\n",
              "pickup_-_time                                0\n",
              "arrival_at_destination_-_day_of_month        0\n",
              "arrival_at_destination_-_weekday_(mo_=_1)    0\n",
              "arrival_at_destination_-_time                0\n",
              "distance_(km)                                0\n",
              "temperature                                  0\n",
              "precipitation_in_millimeters                 0\n",
              "pickup_lat                                   0\n",
              "pickup_long                                  0\n",
              "destination_lat                              0\n",
              "destination_long                             0\n",
              "rider_id                                     0\n",
              "time_from_pickup_to_arrival                  0\n",
              "dtype: int64"
            ]
          },
          "metadata": {},
          "execution_count": 89
        }
      ]
    },
    {
      "cell_type": "markdown",
      "source": [
        "#### Data Preprocessing"
      ],
      "metadata": {
        "id": "xI72zByGKMNs"
      }
    },
    {
      "cell_type": "markdown",
      "metadata": {
        "id": "PdHyc8WYHlAG"
      },
      "source": [
        "Transforming categorical features into numerical features."
      ]
    },
    {
      "cell_type": "code",
      "source": [
        "df_ohe = pd.get_dummies(df, drop_first=True)"
      ],
      "metadata": {
        "id": "IHJcGXF-Kg8y"
      },
      "execution_count": null,
      "outputs": []
    },
    {
      "cell_type": "markdown",
      "source": [
        "Splitting the dataset"
      ],
      "metadata": {
        "id": "MytG_1UONsl3"
      }
    },
    {
      "cell_type": "code",
      "source": [
        "# Features and Targets\n",
        "features = df_ohe.drop(columns=['exited'])\n",
        "target =  df_ohe['exited']\n",
        "\n",
        "# Splitting the data into training, testing and validation sets. Of the base dataset: 20% - testing, 80% - training.\n",
        "features_train, features_test, target_train, target_test = train_test_split(features, target, test_size=0.20, random_state=12345)\n",
        "features_train, features_valid, target_train, target_valid = train_test_split(features_train, target_train, test_size=0.2, random_state=12345 )"
      ],
      "metadata": {
        "id": "BsVwYYdILwPm"
      },
      "execution_count": null,
      "outputs": []
    },
    {
      "cell_type": "markdown",
      "source": [
        "Standardize numerical features"
      ],
      "metadata": {
        "id": "WKMXmiMKNwD-"
      }
    },
    {
      "cell_type": "code",
      "source": [
        "# Standardize numerical features\n",
        "numeric_features = ['creditscore', 'age', 'balance', 'estimatedsalary', 'tenure', 'numofproducts']\n",
        "scaler = StandardScaler()\n",
        "scaler.fit(features_train[numeric_features])\n",
        "features_train.loc[:,numeric_features] = scaler.transform(features_train[numeric_features])\n",
        "features_valid.loc[:,numeric_features] = scaler.transform(features_valid[numeric_features])\n",
        "features_test.loc[:,numeric_features] = scaler.transform(features_test[numeric_features])\n"
      ],
      "metadata": {
        "id": "v9JECYDUMvLx"
      },
      "execution_count": null,
      "outputs": []
    },
    {
      "cell_type": "markdown",
      "source": [
        "#### Class Balance"
      ],
      "metadata": {
        "id": "EyVmfqbfQ0u2"
      }
    },
    {
      "cell_type": "code",
      "source": [
        "class_freq = df_ohe['exited'].value_counts(normalize= True)\n",
        "print(class_freq)\n",
        "class_freq.plot(kind='bar')\n",
        "plt.show()"
      ],
      "metadata": {
        "id": "Z6cM9AB3OoHa"
      },
      "execution_count": null,
      "outputs": []
    },
    {
      "cell_type": "markdown",
      "source": [
        "There is imbalance of classes."
      ],
      "metadata": {
        "id": "mTKTk8TMP2Nq"
      }
    },
    {
      "cell_type": "markdown",
      "source": [
        "#### Sanity check\n"
      ],
      "metadata": {
        "id": "wT5I1J9ySSCg"
      }
    },
    {
      "cell_type": "markdown",
      "source": [
        "I will create a model which always predicts value 0 and see it's accuracy and F1 score"
      ],
      "metadata": {
        "id": "CXiWQ7nzSVTT"
      }
    },
    {
      "cell_type": "code",
      "source": [
        "target_pred_constant = pd.Series(0, index=range(target_valid.shape[0]))\n",
        "\n",
        "print(accuracy_score(target_valid, target_pred_constant))\n",
        "print('F1:', f1_score(target_valid, target_pred_constant))"
      ],
      "metadata": {
        "id": "v-M40K__SbJn"
      },
      "execution_count": null,
      "outputs": []
    },
    {
      "cell_type": "markdown",
      "source": [
        "#### Modelling with Imbalance"
      ],
      "metadata": {
        "id": "SGhPPIl5TFmY"
      }
    },
    {
      "cell_type": "code",
      "source": [
        "log_reg_imb = LogisticRegression(solver='liblinear', random_state=12345)\n",
        "log_reg_imb.fit(features_train,target_train)\n",
        "predicted_valid = log_reg_imb.predict(features_valid)\n",
        "\n",
        "print('Accuracy: ', log_reg_imb.score(features_valid, target_valid))\n",
        "print('F1 score: ', f1_score(target_valid, predicted_valid))\n",
        "print('F1 score: ',  roc_auc_score(target_valid, log_reg_imb.predict_proba(features_valid)[:,1]))"
      ],
      "metadata": {
        "id": "qwTBdevxTIzn"
      },
      "execution_count": null,
      "outputs": []
    },
    {
      "cell_type": "markdown",
      "source": [
        "\n",
        "\n",
        "Without accounting for class imbalance, logistic regression achieves an accuracy of 0.81, f1 score of 0.31, and AUC of 0.76.\n",
        "\n",
        "Random Forest and Decision Tree models are affected with class imbalance as well, hence I won't check for these models.\n"
      ],
      "metadata": {
        "id": "eO5kNjjFVujh"
      }
    },
    {
      "cell_type": "markdown",
      "source": [
        "#### Accounting for Imbalance"
      ],
      "metadata": {
        "id": "mx-_eeJiWobA"
      }
    },
    {
      "cell_type": "code",
      "source": [
        "log_reg_bal = LogisticRegression(random_state=12345, class_weight='balanced', solver='liblinear')\n",
        "log_reg_bal.fit(features_train,target_train)\n",
        "predicted_valid = log_reg_bal.predict(features_valid)\n",
        "\n",
        "print('Accuracy: ', log_reg_bal.score(features_valid, target_valid))\n",
        "print('F1 score: ', f1_score(target_valid, predicted_valid))\n",
        "print('AUC: ',  roc_auc_score(target_valid, log_reg_bal.predict_proba(features_valid)[:,1]))"
      ],
      "metadata": {
        "id": "iG_nxUOBWuSC"
      },
      "execution_count": null,
      "outputs": []
    },
    {
      "cell_type": "markdown",
      "source": [
        "After accounting for imbalance, we achieve accuracy of 0.70, f1 score of 0.47, and AUC of 0.77. The f1 score has improved at te expense of accuracy."
      ],
      "metadata": {
        "id": "QynezWUfax69"
      }
    },
    {
      "cell_type": "markdown",
      "source": [
        "#### Upsampling"
      ],
      "metadata": {
        "id": "QCPTDR44bQtt"
      }
    },
    {
      "cell_type": "code",
      "source": [
        "def upsample(features, target, repeat):\n",
        "    features_zeros = features[target == 0]\n",
        "    features_ones = features[target == 1]\n",
        "    target_zeros = target[target == 0]\n",
        "    target_ones = target[target == 1]\n",
        "\n",
        "    features_upsampled = pd.concat([features_zeros] + [features_ones] * repeat)\n",
        "    target_upsampled = pd.concat([target_zeros] + [target_ones] * repeat)\n",
        "    \n",
        "    features_upsampled, target_upsampled = shuffle(\n",
        "        features_upsampled, target_upsampled, random_state=12345)\n",
        "    \n",
        "    return features_upsampled, target_upsampled\n",
        "\n",
        "features_upsampled, target_upsampled = upsample(features_train, target_train, 10)\n",
        "\n",
        "log_reg_upsampled =LogisticRegression(random_state=12345,solver='liblinear')\n",
        "log_reg_upsampled.fit(features_upsampled, target_upsampled)\n",
        "log_reg_upsampled_predicted_valid = log_reg_upsampled.predict(features_valid)\n",
        "\n",
        "print('Accuracy', log_reg_upsampled.score(features_valid, target_valid))\n",
        "print('f1 score:' ,f1_score(target_valid, log_reg_upsampled_predicted_valid))\n",
        "print('AUC:',roc_auc_score(target_valid, log_reg_upsampled.predict_proba(features_valid)[:,1]))"
      ],
      "metadata": {
        "id": "6V1LRry_bSUo"
      },
      "execution_count": null,
      "outputs": []
    },
    {
      "cell_type": "markdown",
      "source": [
        " Upsampling gives an F1 score of 0.3927"
      ],
      "metadata": {
        "id": "4M87WUpnc0R1"
      }
    },
    {
      "cell_type": "markdown",
      "source": [
        "#### Downsampling"
      ],
      "metadata": {
        "id": "Ewm2RjLMc7-H"
      }
    },
    {
      "cell_type": "code",
      "source": [
        "def downsample(features, target, fraction):\n",
        "    features_zeros = features[target == 0]\n",
        "    features_ones = features[target == 1]\n",
        "    target_zeros = target[target == 0]\n",
        "    target_ones = target[target == 1]\n",
        "\n",
        "    features_downsampled = pd.concat(\n",
        "        [features_zeros.sample(frac=fraction, random_state=12345)] + [features_ones])\n",
        "    target_downsampled = pd.concat(\n",
        "        [target_zeros.sample(frac=fraction, random_state=12345)] + [target_ones])\n",
        "    \n",
        "    features_downsampled, target_downsampled = shuffle(\n",
        "        features_downsampled, target_downsampled, random_state=12345)\n",
        "    \n",
        "    return features_downsampled, target_downsampled\n",
        "\n",
        "features_downsampled, target_downsampled = downsample(features_train, target_train, 0.1)\n",
        "\n",
        "log_reg_downsampled =LogisticRegression(random_state=12345,solver='liblinear')\n",
        "log_reg_downsampled.fit(features_downsampled, target_downsampled)\n",
        "log_reg_downsampled_predicted_valid = log_reg_downsampled.predict(features_valid)\n",
        "\n",
        "print(\"F1:\", f1_score(target_valid, log_reg_downsampled_predicted_valid))\n",
        "print('Accuracy:', log_reg_downsampled.score(features_valid, target_valid))\n",
        "print(\"AUC-ROC:\", roc_auc_score(target_valid, log_reg_downsampled.predict_proba(features_valid)[:,1]))"
      ],
      "metadata": {
        "id": "BHb0m8oldD6A"
      },
      "execution_count": null,
      "outputs": []
    },
    {
      "cell_type": "markdown",
      "source": [
        "Downsampling gives an F1 score of 0.3920"
      ],
      "metadata": {
        "id": "haix3QdxdtoP"
      }
    },
    {
      "cell_type": "markdown",
      "source": [
        "#### Decision Tree"
      ],
      "metadata": {
        "id": "2gJiB0E7fkKS"
      }
    },
    {
      "cell_type": "code",
      "source": [
        "for depth in range(1,15):\n",
        "  model =  DecisionTreeClassifier(random_state = 12345, max_depth = depth)\n",
        "  model.fit(features_train, target_train)\n",
        "  predicted_valid = model.predict(features_valid)\n",
        "  print('\\n========Depth = ',depth,' ========')\n",
        "  print('Accuracy:' , accuracy_score(target_valid, predicted_valid))\n",
        "  print('F1:', f1_score(target_valid, predicted_valid))\n",
        "  print(\"AUC-ROC:\", roc_auc_score(target_valid, model.predict_proba(features_valid)[:,1]))"
      ],
      "metadata": {
        "id": "9O5wus_2fmFL"
      },
      "execution_count": null,
      "outputs": []
    },
    {
      "cell_type": "markdown",
      "source": [
        "A decision tree model with optimized hyper parameters (depth=6) gives an F1 score of 0.5177"
      ],
      "metadata": {
        "id": "EMqwKrfvk10C"
      }
    },
    {
      "cell_type": "markdown",
      "source": [
        "#### Random Forest"
      ],
      "metadata": {
        "id": "lQTfS7q3o_Xz"
      }
    },
    {
      "cell_type": "code",
      "source": [
        "params = {'max_depth':range(1,10), 'n_estimators':range(1,50)}\n",
        "rand_frst_model = RandomForestClassifier(random_state=12345)\n",
        "rand_frst_optimized = GridSearchCV(rand_frst_model, params)\n",
        "\n",
        "# Train using the optimized model\n",
        "rand_frst_optimized.fit(features_train, target_train)\n",
        "\n",
        "print(rand_frst_optimized.best_estimator_)\n",
        "\n",
        "# Predict using the optimized model\n",
        "predicted_valid = rand_frst_optimized.predict(features_valid)\n",
        "\n",
        "print('Accuracy', rand_frst_optimized.score(features_valid, target_valid))\n",
        "print(\"F1:\", f1_score(target_valid, predicted_valid))\n",
        "print(\"AUC-ROC:\", roc_auc_score(target_valid, rand_frst_optimized.predict_proba(features_valid)[:,1]))"
      ],
      "metadata": {
        "id": "FMW6cgyPpFP2"
      },
      "execution_count": null,
      "outputs": []
    },
    {
      "cell_type": "markdown",
      "source": [
        "The random forest model gives an F1 score of 0.5572; however, this takes a very long time to run. We are yet to achieve an F1 score of at least 0.59. The max_depth of 8 gives the best result. I will keep this parameter constant and increase the range of n_estimators and investigate the effect on perfomance. I will add the parameter 'class weight = balanced'"
      ],
      "metadata": {
        "id": "UlkKStARsx3F"
      }
    },
    {
      "cell_type": "code",
      "source": [
        "params = {'n_estimators':range(1,201)}\n",
        "rand_frst_model = RandomForestClassifier(random_state=12345, max_depth = 8,class_weight='balanced')\n",
        "rand_frst_optimized = GridSearchCV(rand_frst_model, params)\n",
        "\n",
        "# Train using the optimized model\n",
        "rand_frst_optimized.fit(features_train, target_train)\n",
        "\n",
        "print(rand_frst_optimized.best_estimator_)\n",
        "\n",
        "# Predict using the optimized model\n",
        "predicted_valid = rand_frst_optimized.predict(features_valid)\n",
        "\n",
        "print('Accuracy', rand_frst_optimized.score(features_valid, target_valid))\n",
        "print(\"F1:\", f1_score(target_valid, predicted_valid))\n",
        "print(\"AUC-ROC:\", roc_auc_score(target_valid, rand_frst_optimized.predict_proba(features_valid)[:,1]))"
      ],
      "metadata": {
        "id": "HBjj5MIfvmxN"
      },
      "execution_count": null,
      "outputs": []
    },
    {
      "cell_type": "markdown",
      "source": [
        "190 n_estimators are needed to produce the final optimized model which gives an F1 score of 0.606 \n",
        "\n",
        "I will use this model for testing."
      ],
      "metadata": {
        "id": "3qeA11e0wU9L"
      }
    },
    {
      "cell_type": "code",
      "source": [
        "predicted_test = rand_frst_optimized.predict(features_test)\n",
        "print(\"F1:\", f1_score(target_test, predicted_test))\n",
        "print(\"AUC-ROC:\", roc_auc_score(target_test, rand_frst_optimized.predict_proba(features_test)[:,1]))\n",
        "print('Accuracy:', rand_frst_optimized.score(features_valid, target_valid))"
      ],
      "metadata": {
        "id": "LyXUKlC9yBSL"
      },
      "execution_count": null,
      "outputs": []
    },
    {
      "cell_type": "markdown",
      "source": [
        "Applying the optimized model on the test dataset gives an F1 score of 0.6474 and the AUC-ROC score of 0.8693. These meet the requirements for this project."
      ],
      "metadata": {
        "id": "q1qXQ20hzYVn"
      }
    },
    {
      "cell_type": "markdown",
      "metadata": {
        "id": "cpmGSOOqIMrt"
      },
      "source": [
        "## 6. Conclusion"
      ]
    },
    {
      "cell_type": "markdown",
      "source": [
        "#### AUC-ROC Curve"
      ],
      "metadata": {
        "id": "Tc2B4DQw1eCC"
      }
    },
    {
      "cell_type": "code",
      "source": [
        "valid_probabilities = rand_frst_optimized.predict_proba(features_valid)\n",
        "valid_ones_probabilities = valid_probabilities[:, 1]\n",
        "\n",
        "fpr, tpr, thresholds = roc_curve(target_valid, valid_ones_probabilities)\n",
        "\n",
        "plt.figure()\n",
        "plt.plot(fpr, tpr)\n",
        "plt.plot([0, 1], [0, 1], linestyle='--')\n",
        "plt.xlim([0.0, 1.0])\n",
        "plt.ylim([0.0, 1.0])\n",
        "plt.xlabel('False Positive Rate')\n",
        "plt.ylabel('True Positive Rate')\n",
        "plt.title('ROC curve')\n",
        "plt.show()"
      ],
      "metadata": {
        "id": "Ik2QmhLO1hVd"
      },
      "execution_count": null,
      "outputs": []
    },
    {
      "cell_type": "markdown",
      "metadata": {
        "id": "wDn2whdV0Zcg"
      },
      "source": [
        "#### Findings\n",
        "\n",
        "A Random Forest Classifier is the best model. Bootstrap is set to true and the class_weight parameter is set to '*balanced*\n",
        "\n",
        "The hyperparameters are set as follows:\n",
        "\n",
        "* random_state = 12345\n",
        "* max_depth = 8\n",
        "* n_estimators = 90\n",
        "\n",
        "Applying the final optimized model on the test dataset, gives an F1 score of 0.6474 and the AUC-ROC score is 0.8693. Both these metrics signify good quality and meet the expectations of the project.\n",
        "\n",
        "\n",
        "\n"
      ]
    }
  ]
}